{
  "metadata": {
    "kernelspec": {
      "language": "python",
      "display_name": "Python 3",
      "name": "python3"
    },
    "language_info": {
      "name": "python",
      "version": "3.7.12",
      "mimetype": "text/x-python",
      "codemirror_mode": {
        "name": "ipython",
        "version": 3
      },
      "pygments_lexer": "ipython3",
      "nbconvert_exporter": "python",
      "file_extension": ".py"
    },
    "colab": {
      "provenance": []
    }
  },
  "nbformat_minor": 0,
  "nbformat": 4,
  "cells": [
    {
      "cell_type": "code",
      "source": [
        "import numpy as np\n",
        "import pandas as pd\n",
        "import torch\n",
        "import transformers"
      ],
      "metadata": {
        "_uuid": "8f2839f25d086af736a60e9eeb907d3b93b6e0e5",
        "_cell_guid": "b1076dfc-b9ad-4769-8c92-a6c4dae69d19",
        "execution": {
          "iopub.status.busy": "2023-07-08T10:42:27.431835Z",
          "iopub.execute_input": "2023-07-08T10:42:27.432504Z",
          "iopub.status.idle": "2023-07-08T10:42:29.748633Z",
          "shell.execute_reply.started": "2023-07-08T10:42:27.432371Z",
          "shell.execute_reply": "2023-07-08T10:42:29.747060Z"
        },
        "trusted": true,
        "id": "mRJeoXvMN6R7"
      },
      "execution_count": null,
      "outputs": []
    },
    {
      "cell_type": "code",
      "source": [
        "from transformers import AutoTokenizer, AutoModel\n",
        "tokenizer = AutoTokenizer.from_pretrained('sentence-transformers/paraphrase-xlm-r-multilingual-v1')\n",
        "model = AutoModel.from_pretrained('sentence-transformers/paraphrase-xlm-r-multilingual-v1')"
      ],
      "metadata": {
        "execution": {
          "iopub.status.busy": "2023-07-08T10:42:29.751070Z",
          "iopub.execute_input": "2023-07-08T10:42:29.751896Z",
          "iopub.status.idle": "2023-07-08T10:43:15.990553Z",
          "shell.execute_reply.started": "2023-07-08T10:42:29.751843Z",
          "shell.execute_reply": "2023-07-08T10:43:15.988708Z"
        },
        "trusted": true,
        "id": "K82dqZJ0N6R8",
        "outputId": "bef0335b-6199-44a5-a98e-a85dc7057ffd",
        "colab": {
          "referenced_widgets": [
            "db506aaa13504641b766cd09b79cf544",
            "b61db44e17f94c39a302f68e6e420d50",
            "7e2ebcb0177d45b0866825632adceeab",
            "60d41542012e4c38b79e2b5c8b84d828",
            "87eed6285a054c33a1d11eec17cba3de",
            "179ea1c9b2d64947901bd4fe4e672253"
          ]
        }
      },
      "execution_count": null,
      "outputs": [
        {
          "output_type": "display_data",
          "data": {
            "text/plain": "Downloading:   0%|          | 0.00/550 [00:00<?, ?B/s]",
            "application/vnd.jupyter.widget-view+json": {
              "version_major": 2,
              "version_minor": 0,
              "model_id": "db506aaa13504641b766cd09b79cf544"
            }
          },
          "metadata": {}
        },
        {
          "output_type": "display_data",
          "data": {
            "text/plain": "Downloading:   0%|          | 0.00/718 [00:00<?, ?B/s]",
            "application/vnd.jupyter.widget-view+json": {
              "version_major": 2,
              "version_minor": 0,
              "model_id": "b61db44e17f94c39a302f68e6e420d50"
            }
          },
          "metadata": {}
        },
        {
          "output_type": "display_data",
          "data": {
            "text/plain": "Downloading:   0%|          | 0.00/4.83M [00:00<?, ?B/s]",
            "application/vnd.jupyter.widget-view+json": {
              "version_major": 2,
              "version_minor": 0,
              "model_id": "7e2ebcb0177d45b0866825632adceeab"
            }
          },
          "metadata": {}
        },
        {
          "output_type": "display_data",
          "data": {
            "text/plain": "Downloading:   0%|          | 0.00/8.68M [00:00<?, ?B/s]",
            "application/vnd.jupyter.widget-view+json": {
              "version_major": 2,
              "version_minor": 0,
              "model_id": "60d41542012e4c38b79e2b5c8b84d828"
            }
          },
          "metadata": {}
        },
        {
          "output_type": "display_data",
          "data": {
            "text/plain": "Downloading:   0%|          | 0.00/150 [00:00<?, ?B/s]",
            "application/vnd.jupyter.widget-view+json": {
              "version_major": 2,
              "version_minor": 0,
              "model_id": "87eed6285a054c33a1d11eec17cba3de"
            }
          },
          "metadata": {}
        },
        {
          "output_type": "display_data",
          "data": {
            "text/plain": "Downloading:   0%|          | 0.00/1.04G [00:00<?, ?B/s]",
            "application/vnd.jupyter.widget-view+json": {
              "version_major": 2,
              "version_minor": 0,
              "model_id": "179ea1c9b2d64947901bd4fe4e672253"
            }
          },
          "metadata": {}
        }
      ]
    },
    {
      "cell_type": "code",
      "source": [
        "train = pd.read_csv('../input/qa-intents-dataset-university-domain/dataset_train.tsv', sep='\\t', header=None, names=['text', 'class'])\n",
        "test = pd.read_csv('../input/qa-intents-dataset-university-domain/dataset_test.tsv', sep='\\t', header=None, names=['text', 'class'])"
      ],
      "metadata": {
        "execution": {
          "iopub.status.busy": "2023-07-08T10:43:18.545826Z",
          "iopub.execute_input": "2023-07-08T10:43:18.547008Z",
          "iopub.status.idle": "2023-07-08T10:43:18.617440Z",
          "shell.execute_reply.started": "2023-07-08T10:43:18.546949Z",
          "shell.execute_reply": "2023-07-08T10:43:18.616284Z"
        },
        "trusted": true,
        "id": "IOceZdI8N6R9"
      },
      "execution_count": null,
      "outputs": []
    },
    {
      "cell_type": "code",
      "source": [
        "train_token = tokenizer(train['text'].tolist(),padding=True, truncation=True, return_tensors='pt')\n",
        "test_token = tokenizer(test['text'].tolist(),padding=True, truncation=True, return_tensors='pt')"
      ],
      "metadata": {
        "execution": {
          "iopub.status.busy": "2023-07-08T10:44:41.761057Z",
          "iopub.execute_input": "2023-07-08T10:44:41.761559Z",
          "iopub.status.idle": "2023-07-08T10:44:42.605724Z",
          "shell.execute_reply.started": "2023-07-08T10:44:41.761523Z",
          "shell.execute_reply": "2023-07-08T10:44:42.604363Z"
        },
        "trusted": true,
        "id": "ftSNnXocN6R-"
      },
      "execution_count": null,
      "outputs": []
    },
    {
      "cell_type": "code",
      "source": [
        "def mean_pooling(model_output, attention_mask):\n",
        "    token_embeddings = model_output['last_hidden_state']\n",
        "    input_mask_expanded = attention_mask.unsqueeze(-1).expand(token_embeddings.size()).float()\n",
        "    sum_embeddings = torch.sum(token_embeddings * input_mask_expanded, 1)\n",
        "    sum_mask = torch.clamp(input_mask_expanded.sum(1), min=1e-9)\n",
        "    return sum_embeddings / sum_mask"
      ],
      "metadata": {
        "execution": {
          "iopub.status.busy": "2023-07-08T10:44:10.273330Z",
          "iopub.execute_input": "2023-07-08T10:44:10.273862Z",
          "iopub.status.idle": "2023-07-08T10:44:10.282682Z",
          "shell.execute_reply.started": "2023-07-08T10:44:10.273823Z",
          "shell.execute_reply": "2023-07-08T10:44:10.280940Z"
        },
        "trusted": true,
        "id": "_B9xPBKmN6R-"
      },
      "execution_count": null,
      "outputs": []
    },
    {
      "cell_type": "code",
      "source": [
        "with torch.no_grad():\n",
        "    train_em = mean_pooling(model(**train_token),train_token['attention_mask'])\n",
        "    test_em = mean_pooling(model(**test_token),test_token['attention_mask'])"
      ],
      "metadata": {
        "execution": {
          "iopub.status.busy": "2023-07-08T10:44:50.657284Z",
          "iopub.execute_input": "2023-07-08T10:44:50.657840Z",
          "iopub.status.idle": "2023-07-08T10:58:59.464532Z",
          "shell.execute_reply.started": "2023-07-08T10:44:50.657794Z",
          "shell.execute_reply": "2023-07-08T10:58:59.462511Z"
        },
        "trusted": true,
        "id": "UHQ8_mLqN6R-"
      },
      "execution_count": null,
      "outputs": []
    },
    {
      "cell_type": "code",
      "source": [
        "!pip install nmslib"
      ],
      "metadata": {
        "execution": {
          "iopub.status.busy": "2023-07-08T11:00:14.864554Z",
          "iopub.execute_input": "2023-07-08T11:00:14.865296Z",
          "iopub.status.idle": "2023-07-08T11:00:33.744640Z",
          "shell.execute_reply.started": "2023-07-08T11:00:14.865226Z",
          "shell.execute_reply": "2023-07-08T11:00:33.742824Z"
        },
        "trusted": true,
        "id": "nKH2_rUNN6R_",
        "outputId": "6c70b0a7-0306-40f8-de34-69a7c6d728c2"
      },
      "execution_count": null,
      "outputs": [
        {
          "name": "stdout",
          "text": "huggingface/tokenizers: The current process just got forked, after parallelism has already been used. Disabling parallelism to avoid deadlocks...\nTo disable this warning, you can either:\n\t- Avoid using `tokenizers` before the fork if possible\n\t- Explicitly set the environment variable TOKENIZERS_PARALLELISM=(true | false)\nCollecting nmslib\n  Downloading nmslib-2.1.1-cp37-cp37m-manylinux2010_x86_64.whl (13.5 MB)\n\u001b[2K     \u001b[90m━━━━━━━━━━━━━━━━━━━━━━━━━━━━━━━━━━━━━━━━\u001b[0m \u001b[32m13.5/13.5 MB\u001b[0m \u001b[31m40.6 MB/s\u001b[0m eta \u001b[36m0:00:00\u001b[0m00:01\u001b[0m0:01\u001b[0m\n\u001b[?25hRequirement already satisfied: psutil in /opt/conda/lib/python3.7/site-packages (from nmslib) (5.9.1)\nCollecting pybind11<2.6.2\n  Downloading pybind11-2.6.1-py2.py3-none-any.whl (188 kB)\n\u001b[2K     \u001b[90m━━━━━━━━━━━━━━━━━━━━━━━━━━━━━━━━━━━━━━\u001b[0m \u001b[32m188.5/188.5 kB\u001b[0m \u001b[31m12.3 MB/s\u001b[0m eta \u001b[36m0:00:00\u001b[0m\n\u001b[?25hRequirement already satisfied: numpy>=1.10.0 in /opt/conda/lib/python3.7/site-packages (from nmslib) (1.21.6)\nInstalling collected packages: pybind11, nmslib\n  Attempting uninstall: pybind11\n    Found existing installation: pybind11 2.10.3\n    Uninstalling pybind11-2.10.3:\n      Successfully uninstalled pybind11-2.10.3\nSuccessfully installed nmslib-2.1.1 pybind11-2.10.3\n\u001b[33mWARNING: Running pip as the 'root' user can result in broken permissions and conflicting behaviour with the system package manager. It is recommended to use a virtual environment instead: https://pip.pypa.io/warnings/venv\u001b[0m\u001b[33m\n\u001b[0m",
          "output_type": "stream"
        }
      ]
    },
    {
      "cell_type": "code",
      "source": [
        "import nmslib\n",
        "train_index = nmslib.init(method='hnsw', space='cosinesimil')\n",
        "train_index.addDataPointBatch(train_em, ids = list(range(train_em.shape[0])))\n",
        "train_index.createIndex({'post': 2}, print_progress=True)"
      ],
      "metadata": {
        "execution": {
          "iopub.status.busy": "2023-07-08T11:10:38.091244Z",
          "iopub.execute_input": "2023-07-08T11:10:38.091863Z",
          "iopub.status.idle": "2023-07-08T11:10:45.037988Z",
          "shell.execute_reply.started": "2023-07-08T11:10:38.091794Z",
          "shell.execute_reply": "2023-07-08T11:10:45.036386Z"
        },
        "trusted": true,
        "id": "799TYBCGN6SA",
        "outputId": "71d9b001-8ade-45ea-df3c-1b49173868b1"
      },
      "execution_count": null,
      "outputs": [
        {
          "name": "stderr",
          "text": "\n0%   10   20   30   40   50   60   70   80   90   100%\n|----|----|----|----|----|----|----|----|----|----|\n***************************************************\n\n0%   10   20   30   40   50   60   70   80   90   100%\n|----|----|----|----|----|----|----|----|----|----|\n*****************************************************",
          "output_type": "stream"
        }
      ]
    },
    {
      "cell_type": "code",
      "source": [
        "for n in np.random.randint(0, test.shape[0], 10):\n",
        "    ids ,dist = train_index.knnQuery(test_em[n],k=5)\n",
        "    print(n, test.iloc[n]['text'], test.iloc[n]['class'])\n",
        "    for i, d in zip(ids, dist):\n",
        "        print(d, train.iloc[i]['text'], train.iloc[i]['class'])\n",
        "    print()"
      ],
      "metadata": {
        "execution": {
          "iopub.status.busy": "2023-07-08T11:14:56.180457Z",
          "iopub.execute_input": "2023-07-08T11:14:56.181067Z",
          "iopub.status.idle": "2023-07-08T11:14:56.214015Z",
          "shell.execute_reply.started": "2023-07-08T11:14:56.181017Z",
          "shell.execute_reply": "2023-07-08T11:14:56.212156Z"
        },
        "trusted": true,
        "id": "xdQWA3FWN6SA",
        "outputId": "7cb60d50-03b0-4da4-f577-2adc0617984a"
      },
      "execution_count": null,
      "outputs": [
        {
          "name": "stdout",
          "text": "383 стоимость интернета расположен где) nsunet_cost\n0.016656518 расположен где стоимость интернета) nsunet_cost\n0.019819975 цена интернета расположен где) nsunet_cost\n0.019819975 цена интернета расположен где) nsunet_cost\n0.025439262 стоимость интернета узнать) nsunet_cost\n0.037911355 цена интернета где есть) nsunet_cost\n\n756 расписание Осташевская Л.А. sched_teacher\n0.0024335384 расписание Скворцова М.А. sched_teacher\n0.002450645 расписание Бадальян Л.В. sched_teacher\n0.0025234222 расписание Шевчук Н.В. sched_teacher\n0.0026016831 расписание для Краснова С.А. sched_teacher\n0.0026373267 расписание Литвиненко С.А. sched_teacher\n\n237 сформировать организацию студенческую student_union_create\n0.028783143 организация студенческая сформировать student_union_create\n0.034049988 создавать организация студенческая student_union_create\n0.03518021 организация студенческая создать student_union_create\n0.03945923 организация студенческая создавать student_union_create\n0.04276228 сформировать объединение студенческий student_union_create\n\n648 получать стипендия повышенная highscholarship\n0.007953942 получить стипендия повышенная highscholarship\n0.015643477 получаться стипендия повышенная highscholarship\n0.02116102 брать стипендия повышенная highscholarship\n0.027565837 взять стипендия повышенная highscholarship\n0.030835629 оформить стипендия повышенная highscholarship\n\n346 я хочу знать насчет того какие вещи нужно брать шестого общежития спасибо dorm_living\n0.019998252 я хочу знать насчет того какие вещи нужно брать шестого общежития  dorm_living\n0.14684862 какие вещи требуются в шестого общежития спасибо dorm_living\n0.14821047 какие штуки брать для шестого общежития подскажешь а dorm_living\n0.19645512 что именно нужно брать со собой в шестого общежития спасибо dorm_living\n0.21567845 какие вещи маст хэв для седьмого общежития спасибо dorm_living\n\n15 автор расположен где smalltalk_creator\n0.0 автор расположен где smalltalk_creator\n0.049737096 где расположен где автор smalltalk_creator\n0.06104034 автор распологается где smalltalk_creator\n0.06649971 где есть автор smalltalk_creator\n0.07156789 расположен где автор smalltalk_creator\n\n466 расписание сессии стоять. sched_exam\n0.06007266 находится расписание сессии sched_exam\n0.06007266 находится расписание сессии sched_exam\n0.08657545 стоять расписание сессии sched_exam\n0.08880699 получаться расписание сессии sched_exam\n0.10065675 взять расписание сессии sched_exam\n\n433 сайт библиотеки) site_library\n0.021473289 сайт библиотеки отыскать) site_library\n0.02155298 расположен где сайт библиотеки) site_library\n0.02696371 стоять сайт библиотеки) site_library\n0.029795706 найти сайт библиотеки) site_library\n0.0394274 сайт библиотеки раскопать) site_library\n\n217 доброволец где распологается volunteer_become\n0.04308158 доброволец где есть volunteer_become\n0.04608226 доброволец становиться volunteer_become\n0.055591226 распологается где доброволец volunteer_become\n0.0687536 волонтер находится volunteer_become\n0.07224977 распологается где волонтер volunteer_become\n\n673 находится факультет математико механический loc_dean_mmf\n2.3841858e-07 находится факультет математико механический loc_dean_mmf\n0.009688437 находится факультет математико механический! loc_dean_mmf\n0.018764138 где есть факультет математико механический loc_dean_mmf\n0.019529104 находится факультет механико математический loc_dean_mmf\n0.019529104 находится факультет механико математический loc_dean_mmf\n\n",
          "output_type": "stream"
        }
      ]
    }
  ]
}