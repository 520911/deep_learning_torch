{
  "nbformat": 4,
  "nbformat_minor": 0,
  "metadata": {
    "colab": {
      "provenance": [],
      "gpuType": "T4"
    },
    "kernelspec": {
      "name": "python3",
      "display_name": "Python 3"
    },
    "language_info": {
      "name": "python"
    },
    "accelerator": "GPU",
    "widgets": {
      "application/vnd.jupyter.widget-state+json": {
        "36821e6d9730438385bce6d18bd31ecf": {
          "model_module": "@jupyter-widgets/controls",
          "model_name": "HBoxModel",
          "model_module_version": "1.5.0",
          "state": {
            "_dom_classes": [],
            "_model_module": "@jupyter-widgets/controls",
            "_model_module_version": "1.5.0",
            "_model_name": "HBoxModel",
            "_view_count": null,
            "_view_module": "@jupyter-widgets/controls",
            "_view_module_version": "1.5.0",
            "_view_name": "HBoxView",
            "box_style": "",
            "children": [
              "IPY_MODEL_b7fab0ef86a145299c58cf59b4424a67",
              "IPY_MODEL_bd5d8d8bcf8448459d8ef26bbef4fe68",
              "IPY_MODEL_0529ef59ed1b4717b9c8a9c53452b30d"
            ],
            "layout": "IPY_MODEL_e2afd38b8ee04f44bcceb31ad5122d3f"
          }
        },
        "b7fab0ef86a145299c58cf59b4424a67": {
          "model_module": "@jupyter-widgets/controls",
          "model_name": "HTMLModel",
          "model_module_version": "1.5.0",
          "state": {
            "_dom_classes": [],
            "_model_module": "@jupyter-widgets/controls",
            "_model_module_version": "1.5.0",
            "_model_name": "HTMLModel",
            "_view_count": null,
            "_view_module": "@jupyter-widgets/controls",
            "_view_module_version": "1.5.0",
            "_view_name": "HTMLView",
            "description": "",
            "description_tooltip": null,
            "layout": "IPY_MODEL_accb11d3e93c4f2ca90d9c2b0cc6aab2",
            "placeholder": "​",
            "style": "IPY_MODEL_6ceaa7aafe5e438eac5e945f228fa3e8",
            "value": "100%"
          }
        },
        "bd5d8d8bcf8448459d8ef26bbef4fe68": {
          "model_module": "@jupyter-widgets/controls",
          "model_name": "FloatProgressModel",
          "model_module_version": "1.5.0",
          "state": {
            "_dom_classes": [],
            "_model_module": "@jupyter-widgets/controls",
            "_model_module_version": "1.5.0",
            "_model_name": "FloatProgressModel",
            "_view_count": null,
            "_view_module": "@jupyter-widgets/controls",
            "_view_module_version": "1.5.0",
            "_view_name": "ProgressView",
            "bar_style": "success",
            "description": "",
            "description_tooltip": null,
            "layout": "IPY_MODEL_84cd98ef4fbc4c52b2627d73b9d77b89",
            "max": 126875,
            "min": 0,
            "orientation": "horizontal",
            "style": "IPY_MODEL_ad5166c126c04746a01c601108a4e0ef",
            "value": 126875
          }
        },
        "0529ef59ed1b4717b9c8a9c53452b30d": {
          "model_module": "@jupyter-widgets/controls",
          "model_name": "HTMLModel",
          "model_module_version": "1.5.0",
          "state": {
            "_dom_classes": [],
            "_model_module": "@jupyter-widgets/controls",
            "_model_module_version": "1.5.0",
            "_model_name": "HTMLModel",
            "_view_count": null,
            "_view_module": "@jupyter-widgets/controls",
            "_view_module_version": "1.5.0",
            "_view_name": "HTMLView",
            "description": "",
            "description_tooltip": null,
            "layout": "IPY_MODEL_a449e13205234150a948b7f6c453fdf2",
            "placeholder": "​",
            "style": "IPY_MODEL_39b258d0f254433db4a21fbc4a5adb15",
            "value": " 126875/126875 [00:00&lt;00:00, 146091.86it/s]"
          }
        },
        "e2afd38b8ee04f44bcceb31ad5122d3f": {
          "model_module": "@jupyter-widgets/base",
          "model_name": "LayoutModel",
          "model_module_version": "1.2.0",
          "state": {
            "_model_module": "@jupyter-widgets/base",
            "_model_module_version": "1.2.0",
            "_model_name": "LayoutModel",
            "_view_count": null,
            "_view_module": "@jupyter-widgets/base",
            "_view_module_version": "1.2.0",
            "_view_name": "LayoutView",
            "align_content": null,
            "align_items": null,
            "align_self": null,
            "border": null,
            "bottom": null,
            "display": null,
            "flex": null,
            "flex_flow": null,
            "grid_area": null,
            "grid_auto_columns": null,
            "grid_auto_flow": null,
            "grid_auto_rows": null,
            "grid_column": null,
            "grid_gap": null,
            "grid_row": null,
            "grid_template_areas": null,
            "grid_template_columns": null,
            "grid_template_rows": null,
            "height": null,
            "justify_content": null,
            "justify_items": null,
            "left": null,
            "margin": null,
            "max_height": null,
            "max_width": null,
            "min_height": null,
            "min_width": null,
            "object_fit": null,
            "object_position": null,
            "order": null,
            "overflow": null,
            "overflow_x": null,
            "overflow_y": null,
            "padding": null,
            "right": null,
            "top": null,
            "visibility": null,
            "width": null
          }
        },
        "accb11d3e93c4f2ca90d9c2b0cc6aab2": {
          "model_module": "@jupyter-widgets/base",
          "model_name": "LayoutModel",
          "model_module_version": "1.2.0",
          "state": {
            "_model_module": "@jupyter-widgets/base",
            "_model_module_version": "1.2.0",
            "_model_name": "LayoutModel",
            "_view_count": null,
            "_view_module": "@jupyter-widgets/base",
            "_view_module_version": "1.2.0",
            "_view_name": "LayoutView",
            "align_content": null,
            "align_items": null,
            "align_self": null,
            "border": null,
            "bottom": null,
            "display": null,
            "flex": null,
            "flex_flow": null,
            "grid_area": null,
            "grid_auto_columns": null,
            "grid_auto_flow": null,
            "grid_auto_rows": null,
            "grid_column": null,
            "grid_gap": null,
            "grid_row": null,
            "grid_template_areas": null,
            "grid_template_columns": null,
            "grid_template_rows": null,
            "height": null,
            "justify_content": null,
            "justify_items": null,
            "left": null,
            "margin": null,
            "max_height": null,
            "max_width": null,
            "min_height": null,
            "min_width": null,
            "object_fit": null,
            "object_position": null,
            "order": null,
            "overflow": null,
            "overflow_x": null,
            "overflow_y": null,
            "padding": null,
            "right": null,
            "top": null,
            "visibility": null,
            "width": null
          }
        },
        "6ceaa7aafe5e438eac5e945f228fa3e8": {
          "model_module": "@jupyter-widgets/controls",
          "model_name": "DescriptionStyleModel",
          "model_module_version": "1.5.0",
          "state": {
            "_model_module": "@jupyter-widgets/controls",
            "_model_module_version": "1.5.0",
            "_model_name": "DescriptionStyleModel",
            "_view_count": null,
            "_view_module": "@jupyter-widgets/base",
            "_view_module_version": "1.2.0",
            "_view_name": "StyleView",
            "description_width": ""
          }
        },
        "84cd98ef4fbc4c52b2627d73b9d77b89": {
          "model_module": "@jupyter-widgets/base",
          "model_name": "LayoutModel",
          "model_module_version": "1.2.0",
          "state": {
            "_model_module": "@jupyter-widgets/base",
            "_model_module_version": "1.2.0",
            "_model_name": "LayoutModel",
            "_view_count": null,
            "_view_module": "@jupyter-widgets/base",
            "_view_module_version": "1.2.0",
            "_view_name": "LayoutView",
            "align_content": null,
            "align_items": null,
            "align_self": null,
            "border": null,
            "bottom": null,
            "display": null,
            "flex": null,
            "flex_flow": null,
            "grid_area": null,
            "grid_auto_columns": null,
            "grid_auto_flow": null,
            "grid_auto_rows": null,
            "grid_column": null,
            "grid_gap": null,
            "grid_row": null,
            "grid_template_areas": null,
            "grid_template_columns": null,
            "grid_template_rows": null,
            "height": null,
            "justify_content": null,
            "justify_items": null,
            "left": null,
            "margin": null,
            "max_height": null,
            "max_width": null,
            "min_height": null,
            "min_width": null,
            "object_fit": null,
            "object_position": null,
            "order": null,
            "overflow": null,
            "overflow_x": null,
            "overflow_y": null,
            "padding": null,
            "right": null,
            "top": null,
            "visibility": null,
            "width": null
          }
        },
        "ad5166c126c04746a01c601108a4e0ef": {
          "model_module": "@jupyter-widgets/controls",
          "model_name": "ProgressStyleModel",
          "model_module_version": "1.5.0",
          "state": {
            "_model_module": "@jupyter-widgets/controls",
            "_model_module_version": "1.5.0",
            "_model_name": "ProgressStyleModel",
            "_view_count": null,
            "_view_module": "@jupyter-widgets/base",
            "_view_module_version": "1.2.0",
            "_view_name": "StyleView",
            "bar_color": null,
            "description_width": ""
          }
        },
        "a449e13205234150a948b7f6c453fdf2": {
          "model_module": "@jupyter-widgets/base",
          "model_name": "LayoutModel",
          "model_module_version": "1.2.0",
          "state": {
            "_model_module": "@jupyter-widgets/base",
            "_model_module_version": "1.2.0",
            "_model_name": "LayoutModel",
            "_view_count": null,
            "_view_module": "@jupyter-widgets/base",
            "_view_module_version": "1.2.0",
            "_view_name": "LayoutView",
            "align_content": null,
            "align_items": null,
            "align_self": null,
            "border": null,
            "bottom": null,
            "display": null,
            "flex": null,
            "flex_flow": null,
            "grid_area": null,
            "grid_auto_columns": null,
            "grid_auto_flow": null,
            "grid_auto_rows": null,
            "grid_column": null,
            "grid_gap": null,
            "grid_row": null,
            "grid_template_areas": null,
            "grid_template_columns": null,
            "grid_template_rows": null,
            "height": null,
            "justify_content": null,
            "justify_items": null,
            "left": null,
            "margin": null,
            "max_height": null,
            "max_width": null,
            "min_height": null,
            "min_width": null,
            "object_fit": null,
            "object_position": null,
            "order": null,
            "overflow": null,
            "overflow_x": null,
            "overflow_y": null,
            "padding": null,
            "right": null,
            "top": null,
            "visibility": null,
            "width": null
          }
        },
        "39b258d0f254433db4a21fbc4a5adb15": {
          "model_module": "@jupyter-widgets/controls",
          "model_name": "DescriptionStyleModel",
          "model_module_version": "1.5.0",
          "state": {
            "_model_module": "@jupyter-widgets/controls",
            "_model_module_version": "1.5.0",
            "_model_name": "DescriptionStyleModel",
            "_view_count": null,
            "_view_module": "@jupyter-widgets/base",
            "_view_module_version": "1.2.0",
            "_view_name": "StyleView",
            "description_width": ""
          }
        }
      }
    }
  },
  "cells": [
    {
      "cell_type": "markdown",
      "source": [
        "Скачать датасет с фразами Симпсонов - github.com...psons-Data\n",
        "\n",
        "Обучить word2vec на фразах персонажей\n",
        "\n",
        "Визуализировать embeddings по самым частотным словам (top 1000)\n",
        "\n",
        "Найти самые близкие слова для: homer - marge + bart bart - lisa + school marge - homer + home\n",
        "\n",
        "5* Попробовать построить классификатор bart/lisa с использованием этих эмбеддингов"
      ],
      "metadata": {
        "id": "ufXhSG07_FlO"
      }
    },
    {
      "cell_type": "code",
      "source": [
        "import pandas as pd\n",
        "from gensim import models\n",
        "\n",
        "import torch\n",
        "from sklearn.model_selection import train_test_split\n",
        "\n",
        "import time"
      ],
      "metadata": {
        "id": "PHL0OP-XAzCc"
      },
      "execution_count": null,
      "outputs": []
    },
    {
      "cell_type": "code",
      "source": [
        "!wget https://github.com/sujanjoejacob/Text-mining-with-Simpsons-Data/archive/refs/heads/master.zip\n",
        "!unzip master.zip\n",
        "!mv Text-mining-with-Simpsons-Data-master/simpsons_script_lines.csv.zip ./\n",
        "!unzip simpsons_script_lines.csv.zip"
      ],
      "metadata": {
        "colab": {
          "base_uri": "https://localhost:8080/"
        },
        "id": "WM1Y9F_V_Lxd",
        "outputId": "69137b05-82c2-422e-c68e-e25b66e5b8b7"
      },
      "execution_count": null,
      "outputs": [
        {
          "output_type": "stream",
          "name": "stdout",
          "text": [
            "--2023-07-05 09:20:05--  https://github.com/sujanjoejacob/Text-mining-with-Simpsons-Data/archive/refs/heads/master.zip\n",
            "Resolving github.com (github.com)... 192.30.255.113\n",
            "Connecting to github.com (github.com)|192.30.255.113|:443... connected.\n",
            "HTTP request sent, awaiting response... 302 Found\n",
            "Location: https://codeload.github.com/sujanjoejacob/Text-mining-with-Simpsons-Data/zip/refs/heads/master [following]\n",
            "--2023-07-05 09:20:05--  https://codeload.github.com/sujanjoejacob/Text-mining-with-Simpsons-Data/zip/refs/heads/master\n",
            "Resolving codeload.github.com (codeload.github.com)... 192.30.255.121\n",
            "Connecting to codeload.github.com (codeload.github.com)|192.30.255.121|:443... connected.\n",
            "HTTP request sent, awaiting response... 200 OK\n",
            "Length: unspecified [application/zip]\n",
            "Saving to: ‘master.zip’\n",
            "\n",
            "master.zip              [    <=>             ]   8.94M  9.60MB/s    in 0.9s    \n",
            "\n",
            "2023-07-05 09:20:06 (9.60 MB/s) - ‘master.zip’ saved [9376659]\n",
            "\n",
            "Archive:  master.zip\n",
            "4d1aee02aecdbd0b26e20e6cc2a5ce046cf1e07c\n",
            "   creating: Text-mining-with-Simpsons-Data-master/\n",
            "  inflating: Text-mining-with-Simpsons-Data-master/README.md  \n",
            "  inflating: Text-mining-with-Simpsons-Data-master/Text-mining-with-simpsons data.Rmd  \n",
            "  inflating: Text-mining-with-Simpsons-Data-master/simpsons_characters.csv  \n",
            "  inflating: Text-mining-with-Simpsons-Data-master/simpsons_episodes.csv  \n",
            "  inflating: Text-mining-with-Simpsons-Data-master/simpsons_locations.csv  \n",
            " extracting: Text-mining-with-Simpsons-Data-master/simpsons_script_lines.csv.zip  \n",
            "Archive:  simpsons_script_lines.csv.zip\n",
            "  inflating: simpsons_script_lines.csv  \n"
          ]
        }
      ]
    },
    {
      "cell_type": "code",
      "source": [
        "df = pd.read_csv('simpsons_script_lines.csv', usecols=['raw_character_text', 'spoken_words', 'normalized_text', 'word_count'])\n",
        "df.head()"
      ],
      "metadata": {
        "colab": {
          "base_uri": "https://localhost:8080/",
          "height": 206
        },
        "id": "aWBhCqSBAcOc",
        "outputId": "7dd9c69e-acab-4bc9-cd48-17e4788d338a"
      },
      "execution_count": null,
      "outputs": [
        {
          "output_type": "execute_result",
          "data": {
            "text/plain": [
              "        raw_character_text                                       spoken_words  \\\n",
              "0              Miss Hoover  No, actually, it was a little of both. Sometim...   \n",
              "1             Lisa Simpson                             Where's Mr. Bergstrom?   \n",
              "2              Miss Hoover  I don't know. Although I'd sure like to talk t...   \n",
              "3             Lisa Simpson                         That life is worth living.   \n",
              "4  Edna Krabappel-Flanders  The polls will be open from now until the end ...   \n",
              "\n",
              "                                     normalized_text word_count  \n",
              "0  no actually it was a little of both sometimes ...         31  \n",
              "1                                wheres mr bergstrom          3  \n",
              "2  i dont know although id sure like to talk to h...         22  \n",
              "3                          that life is worth living          5  \n",
              "4  the polls will be open from now until the end ...         33  "
            ],
            "text/html": [
              "\n",
              "  <div id=\"df-c054f1b1-8105-4203-a240-d66249ee2011\">\n",
              "    <div class=\"colab-df-container\">\n",
              "      <div>\n",
              "<style scoped>\n",
              "    .dataframe tbody tr th:only-of-type {\n",
              "        vertical-align: middle;\n",
              "    }\n",
              "\n",
              "    .dataframe tbody tr th {\n",
              "        vertical-align: top;\n",
              "    }\n",
              "\n",
              "    .dataframe thead th {\n",
              "        text-align: right;\n",
              "    }\n",
              "</style>\n",
              "<table border=\"1\" class=\"dataframe\">\n",
              "  <thead>\n",
              "    <tr style=\"text-align: right;\">\n",
              "      <th></th>\n",
              "      <th>raw_character_text</th>\n",
              "      <th>spoken_words</th>\n",
              "      <th>normalized_text</th>\n",
              "      <th>word_count</th>\n",
              "    </tr>\n",
              "  </thead>\n",
              "  <tbody>\n",
              "    <tr>\n",
              "      <th>0</th>\n",
              "      <td>Miss Hoover</td>\n",
              "      <td>No, actually, it was a little of both. Sometim...</td>\n",
              "      <td>no actually it was a little of both sometimes ...</td>\n",
              "      <td>31</td>\n",
              "    </tr>\n",
              "    <tr>\n",
              "      <th>1</th>\n",
              "      <td>Lisa Simpson</td>\n",
              "      <td>Where's Mr. Bergstrom?</td>\n",
              "      <td>wheres mr bergstrom</td>\n",
              "      <td>3</td>\n",
              "    </tr>\n",
              "    <tr>\n",
              "      <th>2</th>\n",
              "      <td>Miss Hoover</td>\n",
              "      <td>I don't know. Although I'd sure like to talk t...</td>\n",
              "      <td>i dont know although id sure like to talk to h...</td>\n",
              "      <td>22</td>\n",
              "    </tr>\n",
              "    <tr>\n",
              "      <th>3</th>\n",
              "      <td>Lisa Simpson</td>\n",
              "      <td>That life is worth living.</td>\n",
              "      <td>that life is worth living</td>\n",
              "      <td>5</td>\n",
              "    </tr>\n",
              "    <tr>\n",
              "      <th>4</th>\n",
              "      <td>Edna Krabappel-Flanders</td>\n",
              "      <td>The polls will be open from now until the end ...</td>\n",
              "      <td>the polls will be open from now until the end ...</td>\n",
              "      <td>33</td>\n",
              "    </tr>\n",
              "  </tbody>\n",
              "</table>\n",
              "</div>\n",
              "      <button class=\"colab-df-convert\" onclick=\"convertToInteractive('df-c054f1b1-8105-4203-a240-d66249ee2011')\"\n",
              "              title=\"Convert this dataframe to an interactive table.\"\n",
              "              style=\"display:none;\">\n",
              "        \n",
              "  <svg xmlns=\"http://www.w3.org/2000/svg\" height=\"24px\"viewBox=\"0 0 24 24\"\n",
              "       width=\"24px\">\n",
              "    <path d=\"M0 0h24v24H0V0z\" fill=\"none\"/>\n",
              "    <path d=\"M18.56 5.44l.94 2.06.94-2.06 2.06-.94-2.06-.94-.94-2.06-.94 2.06-2.06.94zm-11 1L8.5 8.5l.94-2.06 2.06-.94-2.06-.94L8.5 2.5l-.94 2.06-2.06.94zm10 10l.94 2.06.94-2.06 2.06-.94-2.06-.94-.94-2.06-.94 2.06-2.06.94z\"/><path d=\"M17.41 7.96l-1.37-1.37c-.4-.4-.92-.59-1.43-.59-.52 0-1.04.2-1.43.59L10.3 9.45l-7.72 7.72c-.78.78-.78 2.05 0 2.83L4 21.41c.39.39.9.59 1.41.59.51 0 1.02-.2 1.41-.59l7.78-7.78 2.81-2.81c.8-.78.8-2.07 0-2.86zM5.41 20L4 18.59l7.72-7.72 1.47 1.35L5.41 20z\"/>\n",
              "  </svg>\n",
              "      </button>\n",
              "      \n",
              "  <style>\n",
              "    .colab-df-container {\n",
              "      display:flex;\n",
              "      flex-wrap:wrap;\n",
              "      gap: 12px;\n",
              "    }\n",
              "\n",
              "    .colab-df-convert {\n",
              "      background-color: #E8F0FE;\n",
              "      border: none;\n",
              "      border-radius: 50%;\n",
              "      cursor: pointer;\n",
              "      display: none;\n",
              "      fill: #1967D2;\n",
              "      height: 32px;\n",
              "      padding: 0 0 0 0;\n",
              "      width: 32px;\n",
              "    }\n",
              "\n",
              "    .colab-df-convert:hover {\n",
              "      background-color: #E2EBFA;\n",
              "      box-shadow: 0px 1px 2px rgba(60, 64, 67, 0.3), 0px 1px 3px 1px rgba(60, 64, 67, 0.15);\n",
              "      fill: #174EA6;\n",
              "    }\n",
              "\n",
              "    [theme=dark] .colab-df-convert {\n",
              "      background-color: #3B4455;\n",
              "      fill: #D2E3FC;\n",
              "    }\n",
              "\n",
              "    [theme=dark] .colab-df-convert:hover {\n",
              "      background-color: #434B5C;\n",
              "      box-shadow: 0px 1px 3px 1px rgba(0, 0, 0, 0.15);\n",
              "      filter: drop-shadow(0px 1px 2px rgba(0, 0, 0, 0.3));\n",
              "      fill: #FFFFFF;\n",
              "    }\n",
              "  </style>\n",
              "\n",
              "      <script>\n",
              "        const buttonEl =\n",
              "          document.querySelector('#df-c054f1b1-8105-4203-a240-d66249ee2011 button.colab-df-convert');\n",
              "        buttonEl.style.display =\n",
              "          google.colab.kernel.accessAllowed ? 'block' : 'none';\n",
              "\n",
              "        async function convertToInteractive(key) {\n",
              "          const element = document.querySelector('#df-c054f1b1-8105-4203-a240-d66249ee2011');\n",
              "          const dataTable =\n",
              "            await google.colab.kernel.invokeFunction('convertToInteractive',\n",
              "                                                     [key], {});\n",
              "          if (!dataTable) return;\n",
              "\n",
              "          const docLinkHtml = 'Like what you see? Visit the ' +\n",
              "            '<a target=\"_blank\" href=https://colab.research.google.com/notebooks/data_table.ipynb>data table notebook</a>'\n",
              "            + ' to learn more about interactive tables.';\n",
              "          element.innerHTML = '';\n",
              "          dataTable['output_type'] = 'display_data';\n",
              "          await google.colab.output.renderOutput(dataTable, element);\n",
              "          const docLink = document.createElement('div');\n",
              "          docLink.innerHTML = docLinkHtml;\n",
              "          element.appendChild(docLink);\n",
              "        }\n",
              "      </script>\n",
              "    </div>\n",
              "  </div>\n",
              "  "
            ]
          },
          "metadata": {},
          "execution_count": 3
        }
      ]
    },
    {
      "cell_type": "code",
      "source": [
        "df = df.dropna()\n",
        "df = df.drop_duplicates()\n",
        "df.reset_index(inplace=True)"
      ],
      "metadata": {
        "id": "KydENErfDQyK"
      },
      "execution_count": null,
      "outputs": []
    },
    {
      "cell_type": "code",
      "source": [
        "sentences = [i.split(' ') for i in df['normalized_text'].tolist()]"
      ],
      "metadata": {
        "id": "AiwhJ6CBS36Z"
      },
      "execution_count": null,
      "outputs": []
    },
    {
      "cell_type": "code",
      "source": [
        "model = models.Word2Vec(min_count=2)\n",
        "model.build_vocab(sentences)\n",
        "model.train(sentences, total_examples=model.corpus_count, epochs=model.epochs)"
      ],
      "metadata": {
        "colab": {
          "base_uri": "https://localhost:8080/"
        },
        "id": "tn7n0GXCShba",
        "outputId": "89608719-d613-4b9b-de12-bebed4707c8d"
      },
      "execution_count": null,
      "outputs": [
        {
          "output_type": "execute_result",
          "data": {
            "text/plain": [
              "(4918440, 6476390)"
            ]
          },
          "metadata": {},
          "execution_count": 6
        }
      ]
    },
    {
      "cell_type": "code",
      "source": [
        "from nltk import FreqDist\n",
        "from tqdm import tqdm_notebook as tqdm\n",
        "from sklearn.manifold import TSNE\n",
        "\n",
        "top_words = []\n",
        "\n",
        "fd = FreqDist()\n",
        "\n",
        "for s in tqdm(sentences):\n",
        "    fd.update(s)\n",
        "\n",
        "for w in fd.most_common(1000):\n",
        "    top_words.append(w[0])\n",
        "\n",
        "print(top_words[:50:])\n",
        "top_words_vec = model.wv[top_words]"
      ],
      "metadata": {
        "colab": {
          "base_uri": "https://localhost:8080/",
          "height": 140,
          "referenced_widgets": [
            "36821e6d9730438385bce6d18bd31ecf",
            "b7fab0ef86a145299c58cf59b4424a67",
            "bd5d8d8bcf8448459d8ef26bbef4fe68",
            "0529ef59ed1b4717b9c8a9c53452b30d",
            "e2afd38b8ee04f44bcceb31ad5122d3f",
            "accb11d3e93c4f2ca90d9c2b0cc6aab2",
            "6ceaa7aafe5e438eac5e945f228fa3e8",
            "84cd98ef4fbc4c52b2627d73b9d77b89",
            "ad5166c126c04746a01c601108a4e0ef",
            "a449e13205234150a948b7f6c453fdf2",
            "39b258d0f254433db4a21fbc4a5adb15"
          ]
        },
        "id": "eM-p458bShd5",
        "outputId": "09fe4895-2921-4726-e672-92323e5e84be"
      },
      "execution_count": null,
      "outputs": [
        {
          "output_type": "stream",
          "name": "stderr",
          "text": [
            "<ipython-input-8-5cb28275eddd>:9: TqdmDeprecationWarning: This function will be removed in tqdm==5.0.0\n",
            "Please use `tqdm.notebook.tqdm` instead of `tqdm.tqdm_notebook`\n",
            "  for s in tqdm(sentences):\n"
          ]
        },
        {
          "output_type": "display_data",
          "data": {
            "text/plain": [
              "  0%|          | 0/126875 [00:00<?, ?it/s]"
            ],
            "application/vnd.jupyter.widget-view+json": {
              "version_major": 2,
              "version_minor": 0,
              "model_id": "36821e6d9730438385bce6d18bd31ecf"
            }
          },
          "metadata": {}
        },
        {
          "output_type": "stream",
          "name": "stdout",
          "text": [
            "['the', 'you', 'i', 'a', 'to', 'and', 'of', 'it', 'that', 'my', 'in', 'is', 'this', 'me', 'your', 'for', 'im', 'we', 'on', 'oh', 'have', 'what', 'but', 'be', 'no', 'well', 'its', 'dont', 'all', 'just', 'with', 'do', 'are', 'now', 'not', 'like', 'so', 'was', 'get', 'youre', 'can', 'know', 'one', 'at', 'thats', 'out', 'up', 'here', 'hey', 'if']\n"
          ]
        }
      ]
    },
    {
      "cell_type": "code",
      "source": [
        "tsne = TSNE(n_components=2, random_state=0)\n",
        "top_words_tsne = tsne.fit_transform(top_words_vec)"
      ],
      "metadata": {
        "id": "q_WEtslubN0q"
      },
      "execution_count": null,
      "outputs": []
    },
    {
      "cell_type": "code",
      "source": [
        "from bokeh.models import ColumnDataSource, LabelSet\n",
        "from bokeh.plotting import figure, show, output_file\n",
        "from bokeh.io import output_notebook\n",
        "output_notebook()\n",
        "\n",
        "p = figure(tools=\"pan,wheel_zoom,reset,save\",\n",
        "           toolbar_location=\"above\",\n",
        "           title=\"word2vec T-SNE top1000 words\")\n",
        "\n",
        "source = ColumnDataSource(data=dict(x1=top_words_tsne[:,0],\n",
        "                                    x2=top_words_tsne[:,1],\n",
        "                                    names=top_words))\n",
        "\n",
        "p.scatter(x=\"x1\", y=\"x2\", size=8, source=source)\n",
        "\n",
        "labels = LabelSet(x=\"x1\", y=\"x2\", text=\"names\", y_offset=6,\n",
        "                  text_font_size=\"8pt\", text_color=\"#555555\",\n",
        "                  source=source, text_align='center')\n",
        "p.add_layout(labels)\n",
        "\n",
        "show(p)"
      ],
      "metadata": {
        "colab": {
          "base_uri": "https://localhost:8080/",
          "height": 617
        },
        "id": "U6mIKtWgbN3c",
        "outputId": "dae3dbe4-abcc-4b42-8e0a-834682e4377a"
      },
      "execution_count": null,
      "outputs": [
        {
          "output_type": "display_data",
          "data": {
            "application/javascript": [
              "(function(root) {\n",
              "  function now() {\n",
              "    return new Date();\n",
              "  }\n",
              "\n",
              "  const force = true;\n",
              "\n",
              "  if (typeof root._bokeh_onload_callbacks === \"undefined\" || force === true) {\n",
              "    root._bokeh_onload_callbacks = [];\n",
              "    root._bokeh_is_loading = undefined;\n",
              "  }\n",
              "\n",
              "const JS_MIME_TYPE = 'application/javascript';\n",
              "  const HTML_MIME_TYPE = 'text/html';\n",
              "  const EXEC_MIME_TYPE = 'application/vnd.bokehjs_exec.v0+json';\n",
              "  const CLASS_NAME = 'output_bokeh rendered_html';\n",
              "\n",
              "  /**\n",
              "   * Render data to the DOM node\n",
              "   */\n",
              "  function render(props, node) {\n",
              "    const script = document.createElement(\"script\");\n",
              "    node.appendChild(script);\n",
              "  }\n",
              "\n",
              "  /**\n",
              "   * Handle when an output is cleared or removed\n",
              "   */\n",
              "  function handleClearOutput(event, handle) {\n",
              "    const cell = handle.cell;\n",
              "\n",
              "    const id = cell.output_area._bokeh_element_id;\n",
              "    const server_id = cell.output_area._bokeh_server_id;\n",
              "    // Clean up Bokeh references\n",
              "    if (id != null && id in Bokeh.index) {\n",
              "      Bokeh.index[id].model.document.clear();\n",
              "      delete Bokeh.index[id];\n",
              "    }\n",
              "\n",
              "    if (server_id !== undefined) {\n",
              "      // Clean up Bokeh references\n",
              "      const cmd_clean = \"from bokeh.io.state import curstate; print(curstate().uuid_to_server['\" + server_id + \"'].get_sessions()[0].document.roots[0]._id)\";\n",
              "      cell.notebook.kernel.execute(cmd_clean, {\n",
              "        iopub: {\n",
              "          output: function(msg) {\n",
              "            const id = msg.content.text.trim();\n",
              "            if (id in Bokeh.index) {\n",
              "              Bokeh.index[id].model.document.clear();\n",
              "              delete Bokeh.index[id];\n",
              "            }\n",
              "          }\n",
              "        }\n",
              "      });\n",
              "      // Destroy server and session\n",
              "      const cmd_destroy = \"import bokeh.io.notebook as ion; ion.destroy_server('\" + server_id + \"')\";\n",
              "      cell.notebook.kernel.execute(cmd_destroy);\n",
              "    }\n",
              "  }\n",
              "\n",
              "  /**\n",
              "   * Handle when a new output is added\n",
              "   */\n",
              "  function handleAddOutput(event, handle) {\n",
              "    const output_area = handle.output_area;\n",
              "    const output = handle.output;\n",
              "\n",
              "    // limit handleAddOutput to display_data with EXEC_MIME_TYPE content only\n",
              "    if ((output.output_type != \"display_data\") || (!Object.prototype.hasOwnProperty.call(output.data, EXEC_MIME_TYPE))) {\n",
              "      return\n",
              "    }\n",
              "\n",
              "    const toinsert = output_area.element.find(\".\" + CLASS_NAME.split(' ')[0]);\n",
              "\n",
              "    if (output.metadata[EXEC_MIME_TYPE][\"id\"] !== undefined) {\n",
              "      toinsert[toinsert.length - 1].firstChild.textContent = output.data[JS_MIME_TYPE];\n",
              "      // store reference to embed id on output_area\n",
              "      output_area._bokeh_element_id = output.metadata[EXEC_MIME_TYPE][\"id\"];\n",
              "    }\n",
              "    if (output.metadata[EXEC_MIME_TYPE][\"server_id\"] !== undefined) {\n",
              "      const bk_div = document.createElement(\"div\");\n",
              "      bk_div.innerHTML = output.data[HTML_MIME_TYPE];\n",
              "      const script_attrs = bk_div.children[0].attributes;\n",
              "      for (let i = 0; i < script_attrs.length; i++) {\n",
              "        toinsert[toinsert.length - 1].firstChild.setAttribute(script_attrs[i].name, script_attrs[i].value);\n",
              "        toinsert[toinsert.length - 1].firstChild.textContent = bk_div.children[0].textContent\n",
              "      }\n",
              "      // store reference to server id on output_area\n",
              "      output_area._bokeh_server_id = output.metadata[EXEC_MIME_TYPE][\"server_id\"];\n",
              "    }\n",
              "  }\n",
              "\n",
              "  function register_renderer(events, OutputArea) {\n",
              "\n",
              "    function append_mime(data, metadata, element) {\n",
              "      // create a DOM node to render to\n",
              "      const toinsert = this.create_output_subarea(\n",
              "        metadata,\n",
              "        CLASS_NAME,\n",
              "        EXEC_MIME_TYPE\n",
              "      );\n",
              "      this.keyboard_manager.register_events(toinsert);\n",
              "      // Render to node\n",
              "      const props = {data: data, metadata: metadata[EXEC_MIME_TYPE]};\n",
              "      render(props, toinsert[toinsert.length - 1]);\n",
              "      element.append(toinsert);\n",
              "      return toinsert\n",
              "    }\n",
              "\n",
              "    /* Handle when an output is cleared or removed */\n",
              "    events.on('clear_output.CodeCell', handleClearOutput);\n",
              "    events.on('delete.Cell', handleClearOutput);\n",
              "\n",
              "    /* Handle when a new output is added */\n",
              "    events.on('output_added.OutputArea', handleAddOutput);\n",
              "\n",
              "    /**\n",
              "     * Register the mime type and append_mime function with output_area\n",
              "     */\n",
              "    OutputArea.prototype.register_mime_type(EXEC_MIME_TYPE, append_mime, {\n",
              "      /* Is output safe? */\n",
              "      safe: true,\n",
              "      /* Index of renderer in `output_area.display_order` */\n",
              "      index: 0\n",
              "    });\n",
              "  }\n",
              "\n",
              "  // register the mime type if in Jupyter Notebook environment and previously unregistered\n",
              "  if (root.Jupyter !== undefined) {\n",
              "    const events = require('base/js/events');\n",
              "    const OutputArea = require('notebook/js/outputarea').OutputArea;\n",
              "\n",
              "    if (OutputArea.prototype.mime_types().indexOf(EXEC_MIME_TYPE) == -1) {\n",
              "      register_renderer(events, OutputArea);\n",
              "    }\n",
              "  }\n",
              "  if (typeof (root._bokeh_timeout) === \"undefined\" || force === true) {\n",
              "    root._bokeh_timeout = Date.now() + 5000;\n",
              "    root._bokeh_failed_load = false;\n",
              "  }\n",
              "\n",
              "  const NB_LOAD_WARNING = {'data': {'text/html':\n",
              "     \"<div style='background-color: #fdd'>\\n\"+\n",
              "     \"<p>\\n\"+\n",
              "     \"BokehJS does not appear to have successfully loaded. If loading BokehJS from CDN, this \\n\"+\n",
              "     \"may be due to a slow or bad network connection. Possible fixes:\\n\"+\n",
              "     \"</p>\\n\"+\n",
              "     \"<ul>\\n\"+\n",
              "     \"<li>re-rerun `output_notebook()` to attempt to load from CDN again, or</li>\\n\"+\n",
              "     \"<li>use INLINE resources instead, as so:</li>\\n\"+\n",
              "     \"</ul>\\n\"+\n",
              "     \"<code>\\n\"+\n",
              "     \"from bokeh.resources import INLINE\\n\"+\n",
              "     \"output_notebook(resources=INLINE)\\n\"+\n",
              "     \"</code>\\n\"+\n",
              "     \"</div>\"}};\n",
              "\n",
              "  function display_loaded() {\n",
              "    const el = document.getElementById(null);\n",
              "    if (el != null) {\n",
              "      el.textContent = \"BokehJS is loading...\";\n",
              "    }\n",
              "    if (root.Bokeh !== undefined) {\n",
              "      if (el != null) {\n",
              "        el.textContent = \"BokehJS \" + root.Bokeh.version + \" successfully loaded.\";\n",
              "      }\n",
              "    } else if (Date.now() < root._bokeh_timeout) {\n",
              "      setTimeout(display_loaded, 100)\n",
              "    }\n",
              "  }\n",
              "\n",
              "  function run_callbacks() {\n",
              "    try {\n",
              "      root._bokeh_onload_callbacks.forEach(function(callback) {\n",
              "        if (callback != null)\n",
              "          callback();\n",
              "      });\n",
              "    } finally {\n",
              "      delete root._bokeh_onload_callbacks\n",
              "    }\n",
              "    console.debug(\"Bokeh: all callbacks have finished\");\n",
              "  }\n",
              "\n",
              "  function load_libs(css_urls, js_urls, callback) {\n",
              "    if (css_urls == null) css_urls = [];\n",
              "    if (js_urls == null) js_urls = [];\n",
              "\n",
              "    root._bokeh_onload_callbacks.push(callback);\n",
              "    if (root._bokeh_is_loading > 0) {\n",
              "      console.debug(\"Bokeh: BokehJS is being loaded, scheduling callback at\", now());\n",
              "      return null;\n",
              "    }\n",
              "    if (js_urls == null || js_urls.length === 0) {\n",
              "      run_callbacks();\n",
              "      return null;\n",
              "    }\n",
              "    console.debug(\"Bokeh: BokehJS not loaded, scheduling load and callback at\", now());\n",
              "    root._bokeh_is_loading = css_urls.length + js_urls.length;\n",
              "\n",
              "    function on_load() {\n",
              "      root._bokeh_is_loading--;\n",
              "      if (root._bokeh_is_loading === 0) {\n",
              "        console.debug(\"Bokeh: all BokehJS libraries/stylesheets loaded\");\n",
              "        run_callbacks()\n",
              "      }\n",
              "    }\n",
              "\n",
              "    function on_error(url) {\n",
              "      console.error(\"failed to load \" + url);\n",
              "    }\n",
              "\n",
              "    for (let i = 0; i < css_urls.length; i++) {\n",
              "      const url = css_urls[i];\n",
              "      const element = document.createElement(\"link\");\n",
              "      element.onload = on_load;\n",
              "      element.onerror = on_error.bind(null, url);\n",
              "      element.rel = \"stylesheet\";\n",
              "      element.type = \"text/css\";\n",
              "      element.href = url;\n",
              "      console.debug(\"Bokeh: injecting link tag for BokehJS stylesheet: \", url);\n",
              "      document.body.appendChild(element);\n",
              "    }\n",
              "\n",
              "    for (let i = 0; i < js_urls.length; i++) {\n",
              "      const url = js_urls[i];\n",
              "      const element = document.createElement('script');\n",
              "      element.onload = on_load;\n",
              "      element.onerror = on_error.bind(null, url);\n",
              "      element.async = false;\n",
              "      element.src = url;\n",
              "      console.debug(\"Bokeh: injecting script tag for BokehJS library: \", url);\n",
              "      document.head.appendChild(element);\n",
              "    }\n",
              "  };\n",
              "\n",
              "  function inject_raw_css(css) {\n",
              "    const element = document.createElement(\"style\");\n",
              "    element.appendChild(document.createTextNode(css));\n",
              "    document.body.appendChild(element);\n",
              "  }\n",
              "\n",
              "  const js_urls = [\"https://cdn.bokeh.org/bokeh/release/bokeh-2.4.3.min.js\", \"https://cdn.bokeh.org/bokeh/release/bokeh-gl-2.4.3.min.js\", \"https://cdn.bokeh.org/bokeh/release/bokeh-widgets-2.4.3.min.js\", \"https://cdn.bokeh.org/bokeh/release/bokeh-tables-2.4.3.min.js\", \"https://cdn.bokeh.org/bokeh/release/bokeh-mathjax-2.4.3.min.js\"];\n",
              "  const css_urls = [];\n",
              "\n",
              "  const inline_js = [    function(Bokeh) {\n",
              "      Bokeh.set_log_level(\"info\");\n",
              "    },\n",
              "function(Bokeh) {\n",
              "    }\n",
              "  ];\n",
              "\n",
              "  function run_inline_js() {\n",
              "    if (root.Bokeh !== undefined || force === true) {\n",
              "          for (let i = 0; i < inline_js.length; i++) {\n",
              "      inline_js[i].call(root, root.Bokeh);\n",
              "    }\n",
              "} else if (Date.now() < root._bokeh_timeout) {\n",
              "      setTimeout(run_inline_js, 100);\n",
              "    } else if (!root._bokeh_failed_load) {\n",
              "      console.log(\"Bokeh: BokehJS failed to load within specified timeout.\");\n",
              "      root._bokeh_failed_load = true;\n",
              "    } else if (force !== true) {\n",
              "      const cell = $(document.getElementById(null)).parents('.cell').data().cell;\n",
              "      cell.output_area.append_execute_result(NB_LOAD_WARNING)\n",
              "    }\n",
              "  }\n",
              "\n",
              "  if (root._bokeh_is_loading === 0) {\n",
              "    console.debug(\"Bokeh: BokehJS loaded, going straight to plotting\");\n",
              "    run_inline_js();\n",
              "  } else {\n",
              "    load_libs(css_urls, js_urls, function() {\n",
              "      console.debug(\"Bokeh: BokehJS plotting callback run at\", now());\n",
              "      run_inline_js();\n",
              "    });\n",
              "  }\n",
              "}(window));"
            ],
            "application/vnd.bokehjs_load.v0+json": "(function(root) {\n  function now() {\n    return new Date();\n  }\n\n  const force = true;\n\n  if (typeof root._bokeh_onload_callbacks === \"undefined\" || force === true) {\n    root._bokeh_onload_callbacks = [];\n    root._bokeh_is_loading = undefined;\n  }\n\n\n  if (typeof (root._bokeh_timeout) === \"undefined\" || force === true) {\n    root._bokeh_timeout = Date.now() + 5000;\n    root._bokeh_failed_load = false;\n  }\n\n  const NB_LOAD_WARNING = {'data': {'text/html':\n     \"<div style='background-color: #fdd'>\\n\"+\n     \"<p>\\n\"+\n     \"BokehJS does not appear to have successfully loaded. If loading BokehJS from CDN, this \\n\"+\n     \"may be due to a slow or bad network connection. Possible fixes:\\n\"+\n     \"</p>\\n\"+\n     \"<ul>\\n\"+\n     \"<li>re-rerun `output_notebook()` to attempt to load from CDN again, or</li>\\n\"+\n     \"<li>use INLINE resources instead, as so:</li>\\n\"+\n     \"</ul>\\n\"+\n     \"<code>\\n\"+\n     \"from bokeh.resources import INLINE\\n\"+\n     \"output_notebook(resources=INLINE)\\n\"+\n     \"</code>\\n\"+\n     \"</div>\"}};\n\n  function display_loaded() {\n    const el = document.getElementById(null);\n    if (el != null) {\n      el.textContent = \"BokehJS is loading...\";\n    }\n    if (root.Bokeh !== undefined) {\n      if (el != null) {\n        el.textContent = \"BokehJS \" + root.Bokeh.version + \" successfully loaded.\";\n      }\n    } else if (Date.now() < root._bokeh_timeout) {\n      setTimeout(display_loaded, 100)\n    }\n  }\n\n  function run_callbacks() {\n    try {\n      root._bokeh_onload_callbacks.forEach(function(callback) {\n        if (callback != null)\n          callback();\n      });\n    } finally {\n      delete root._bokeh_onload_callbacks\n    }\n    console.debug(\"Bokeh: all callbacks have finished\");\n  }\n\n  function load_libs(css_urls, js_urls, callback) {\n    if (css_urls == null) css_urls = [];\n    if (js_urls == null) js_urls = [];\n\n    root._bokeh_onload_callbacks.push(callback);\n    if (root._bokeh_is_loading > 0) {\n      console.debug(\"Bokeh: BokehJS is being loaded, scheduling callback at\", now());\n      return null;\n    }\n    if (js_urls == null || js_urls.length === 0) {\n      run_callbacks();\n      return null;\n    }\n    console.debug(\"Bokeh: BokehJS not loaded, scheduling load and callback at\", now());\n    root._bokeh_is_loading = css_urls.length + js_urls.length;\n\n    function on_load() {\n      root._bokeh_is_loading--;\n      if (root._bokeh_is_loading === 0) {\n        console.debug(\"Bokeh: all BokehJS libraries/stylesheets loaded\");\n        run_callbacks()\n      }\n    }\n\n    function on_error(url) {\n      console.error(\"failed to load \" + url);\n    }\n\n    for (let i = 0; i < css_urls.length; i++) {\n      const url = css_urls[i];\n      const element = document.createElement(\"link\");\n      element.onload = on_load;\n      element.onerror = on_error.bind(null, url);\n      element.rel = \"stylesheet\";\n      element.type = \"text/css\";\n      element.href = url;\n      console.debug(\"Bokeh: injecting link tag for BokehJS stylesheet: \", url);\n      document.body.appendChild(element);\n    }\n\n    for (let i = 0; i < js_urls.length; i++) {\n      const url = js_urls[i];\n      const element = document.createElement('script');\n      element.onload = on_load;\n      element.onerror = on_error.bind(null, url);\n      element.async = false;\n      element.src = url;\n      console.debug(\"Bokeh: injecting script tag for BokehJS library: \", url);\n      document.head.appendChild(element);\n    }\n  };\n\n  function inject_raw_css(css) {\n    const element = document.createElement(\"style\");\n    element.appendChild(document.createTextNode(css));\n    document.body.appendChild(element);\n  }\n\n  const js_urls = [\"https://cdn.bokeh.org/bokeh/release/bokeh-2.4.3.min.js\", \"https://cdn.bokeh.org/bokeh/release/bokeh-gl-2.4.3.min.js\", \"https://cdn.bokeh.org/bokeh/release/bokeh-widgets-2.4.3.min.js\", \"https://cdn.bokeh.org/bokeh/release/bokeh-tables-2.4.3.min.js\", \"https://cdn.bokeh.org/bokeh/release/bokeh-mathjax-2.4.3.min.js\"];\n  const css_urls = [];\n\n  const inline_js = [    function(Bokeh) {\n      Bokeh.set_log_level(\"info\");\n    },\nfunction(Bokeh) {\n    }\n  ];\n\n  function run_inline_js() {\n    if (root.Bokeh !== undefined || force === true) {\n          for (let i = 0; i < inline_js.length; i++) {\n      inline_js[i].call(root, root.Bokeh);\n    }\n} else if (Date.now() < root._bokeh_timeout) {\n      setTimeout(run_inline_js, 100);\n    } else if (!root._bokeh_failed_load) {\n      console.log(\"Bokeh: BokehJS failed to load within specified timeout.\");\n      root._bokeh_failed_load = true;\n    } else if (force !== true) {\n      const cell = $(document.getElementById(null)).parents('.cell').data().cell;\n      cell.output_area.append_execute_result(NB_LOAD_WARNING)\n    }\n  }\n\n  if (root._bokeh_is_loading === 0) {\n    console.debug(\"Bokeh: BokehJS loaded, going straight to plotting\");\n    run_inline_js();\n  } else {\n    load_libs(css_urls, js_urls, function() {\n      console.debug(\"Bokeh: BokehJS plotting callback run at\", now());\n      run_inline_js();\n    });\n  }\n}(window));"
          },
          "metadata": {}
        },
        {
          "output_type": "display_data",
          "data": {
            "text/html": [
              "\n",
              "  <div class=\"bk-root\" id=\"fbb31e8c-5ef8-4797-98f4-41e220ced99b\" data-root-id=\"1193\"></div>\n"
            ]
          },
          "metadata": {}
        },
        {
          "output_type": "display_data",
          "data": {
            "application/javascript": [
              "(function(root) {\n",
              "  function embed_document(root) {\n",
              "  const docs_json = {\"a7d3df50-18a4-4895-a522-7ed5ca42e1f5\":{\"defs\":[],\"roots\":{\"references\":[{\"attributes\":{\"below\":[{\"id\":\"1204\"}],\"center\":[{\"id\":\"1207\"},{\"id\":\"1211\"},{\"id\":\"1228\"}],\"left\":[{\"id\":\"1208\"}],\"renderers\":[{\"id\":\"1226\"}],\"title\":{\"id\":\"1194\"},\"toolbar\":{\"id\":\"1216\"},\"toolbar_location\":\"above\",\"x_range\":{\"id\":\"1196\"},\"x_scale\":{\"id\":\"1200\"},\"y_range\":{\"id\":\"1198\"},\"y_scale\":{\"id\":\"1202\"}},\"id\":\"1193\",\"subtype\":\"Figure\",\"type\":\"Plot\"},{\"attributes\":{\"coordinates\":null,\"data_source\":{\"id\":\"1221\"},\"glyph\":{\"id\":\"1223\"},\"group\":null,\"hover_glyph\":null,\"muted_glyph\":{\"id\":\"1225\"},\"nonselection_glyph\":{\"id\":\"1224\"},\"view\":{\"id\":\"1227\"}},\"id\":\"1226\",\"type\":\"GlyphRenderer\"},{\"attributes\":{},\"id\":\"1212\",\"type\":\"PanTool\"},{\"attributes\":{\"source\":{\"id\":\"1221\"}},\"id\":\"1227\",\"type\":\"CDSView\"},{\"attributes\":{\"fill_alpha\":{\"value\":0.1},\"fill_color\":{\"value\":\"#1f77b4\"},\"hatch_alpha\":{\"value\":0.1},\"line_alpha\":{\"value\":0.1},\"line_color\":{\"value\":\"#1f77b4\"},\"size\":{\"value\":8},\"x\":{\"field\":\"x1\"},\"y\":{\"field\":\"x2\"}},\"id\":\"1224\",\"type\":\"Scatter\"},{\"attributes\":{},\"id\":\"1213\",\"type\":\"WheelZoomTool\"},{\"attributes\":{},\"id\":\"1205\",\"type\":\"BasicTicker\"},{\"attributes\":{},\"id\":\"1255\",\"type\":\"UnionRenderers\"},{\"attributes\":{\"coordinates\":null,\"formatter\":{\"id\":\"1250\"},\"group\":null,\"major_label_policy\":{\"id\":\"1251\"},\"ticker\":{\"id\":\"1209\"}},\"id\":\"1208\",\"type\":\"LinearAxis\"},{\"attributes\":{},\"id\":\"1200\",\"type\":\"LinearScale\"},{\"attributes\":{\"tools\":[{\"id\":\"1212\"},{\"id\":\"1213\"},{\"id\":\"1214\"},{\"id\":\"1215\"}]},\"id\":\"1216\",\"type\":\"Toolbar\"},{\"attributes\":{},\"id\":\"1198\",\"type\":\"DataRange1d\"},{\"attributes\":{},\"id\":\"1256\",\"type\":\"Selection\"},{\"attributes\":{},\"id\":\"1215\",\"type\":\"SaveTool\"},{\"attributes\":{\"axis\":{\"id\":\"1204\"},\"coordinates\":null,\"group\":null,\"ticker\":null},\"id\":\"1207\",\"type\":\"Grid\"},{\"attributes\":{\"coordinates\":null,\"group\":null,\"source\":{\"id\":\"1221\"},\"text\":{\"field\":\"names\"},\"text_align\":{\"value\":\"center\"},\"text_color\":{\"value\":\"#555555\"},\"text_font_size\":{\"value\":\"8pt\"},\"x\":{\"field\":\"x1\"},\"y\":{\"field\":\"x2\"},\"y_offset\":{\"value\":6}},\"id\":\"1228\",\"type\":\"LabelSet\"},{\"attributes\":{},\"id\":\"1202\",\"type\":\"LinearScale\"},{\"attributes\":{\"fill_alpha\":{\"value\":0.2},\"fill_color\":{\"value\":\"#1f77b4\"},\"hatch_alpha\":{\"value\":0.2},\"line_alpha\":{\"value\":0.2},\"line_color\":{\"value\":\"#1f77b4\"},\"size\":{\"value\":8},\"x\":{\"field\":\"x1\"},\"y\":{\"field\":\"x2\"}},\"id\":\"1225\",\"type\":\"Scatter\"},{\"attributes\":{},\"id\":\"1196\",\"type\":\"DataRange1d\"},{\"attributes\":{},\"id\":\"1250\",\"type\":\"BasicTickFormatter\"},{\"attributes\":{\"fill_color\":{\"value\":\"#1f77b4\"},\"line_color\":{\"value\":\"#1f77b4\"},\"size\":{\"value\":8},\"x\":{\"field\":\"x1\"},\"y\":{\"field\":\"x2\"}},\"id\":\"1223\",\"type\":\"Scatter\"},{\"attributes\":{\"data\":{\"names\":[\"the\",\"you\",\"i\",\"a\",\"to\",\"and\",\"of\",\"it\",\"that\",\"my\",\"in\",\"is\",\"this\",\"me\",\"your\",\"for\",\"im\",\"we\",\"on\",\"oh\",\"have\",\"what\",\"but\",\"be\",\"no\",\"well\",\"its\",\"dont\",\"all\",\"just\",\"with\",\"do\",\"are\",\"now\",\"not\",\"like\",\"so\",\"was\",\"get\",\"youre\",\"can\",\"know\",\"one\",\"at\",\"thats\",\"out\",\"up\",\"here\",\"hey\",\"if\",\"right\",\"homer\",\"were\",\"got\",\"go\",\"he\",\"our\",\"how\",\"--\",\"about\",\"bart\",\"ill\",\"from\",\"there\",\"they\",\"see\",\"good\",\"as\",\"will\",\"think\",\"yeah\",\"want\",\"an\",\"cant\",\"why\",\"look\",\"gonna\",\"marge\",\"man\",\"back\",\"little\",\"uh\",\"some\",\"who\",\"him\",\"time\",\"when\",\"us\",\"did\",\"dad\",\"come\",\"ive\",\"could\",\"okay\",\"take\",\"his\",\"never\",\"say\",\"simpson\",\"make\",\"would\",\"hes\",\"more\",\"or\",\"by\",\"lisa\",\"really\",\"been\",\"yes\",\"her\",\"love\",\"going\",\"lets\",\"theres\",\"has\",\"way\",\"down\",\"only\",\"off\",\"then\",\"too\",\"two\",\"where\",\"something\",\"mr\",\"need\",\"am\",\"those\",\"had\",\"boy\",\"people\",\"these\",\"over\",\"tell\",\"sorry\",\"day\",\"them\",\"please\",\"sure\",\"kids\",\"give\",\"thing\",\"let\",\"new\",\"didnt\",\"whats\",\"mom\",\"wait\",\"should\",\"great\",\"she\",\"first\",\"ever\",\"god\",\"better\",\"any\",\"into\",\"stop\",\"even\",\"again\",\"maybe\",\"life\",\"sir\",\"old\",\"id\",\"youve\",\"help\",\"than\",\"theyre\",\"home\",\"big\",\"because\",\"mean\",\"made\",\"much\",\"their\",\"thank\",\"put\",\"said\",\"still\",\"show\",\"work\",\"very\",\"money\",\"school\",\"springfield\",\"son\",\"always\",\"youll\",\"call\",\"three\",\"last\",\"thought\",\"ya\",\"gotta\",\"every\",\"ah\",\"name\",\"must\",\"guys\",\"family\",\"find\",\"before\",\"house\",\"guy\",\"years\",\"things\",\"bad\",\"anything\",\"guess\",\"feel\",\"weve\",\"wont\",\"hello\",\"baby\",\"doing\",\"night\",\"isnt\",\"place\",\"next\",\"away\",\"burns\",\"keep\",\"thanks\",\"other\",\"world\",\"wow\",\"believe\",\"does\",\"hell\",\"lot\",\"after\",\"huh\",\"nice\",\"nothing\",\"real\",\"remember\",\"doesnt\",\"best\",\"long\",\"another\",\"shes\",\"ooh\",\"krusty\",\"which\",\"moe\",\"car\",\"hear\",\"everything\",\"around\",\"use\",\"own\",\"talk\",\"today\",\"stupid\",\"everyone\",\"happy\",\"eat\",\"done\",\"kill\",\"fun\",\"fine\",\"through\",\"heres\",\"may\",\"play\",\"most\",\"wrong\",\"eh\",\"wanna\",\"someone\",\"father\",\"while\",\"dog\",\"worry\",\"honey\",\"girl\",\"em\",\"looks\",\"five\",\"children\",\"job\",\"dollars\",\"aw\",\"enough\",\"mother\",\"kind\",\"being\",\"many\",\"listen\",\"turn\",\"left\",\"whoa\",\"friends\",\"friend\",\"milhouse\",\"minute\",\"getting\",\"cause\",\"without\",\"town\",\"might\",\"um\",\"try\",\"kid\",\"tonight\",\"leave\",\"live\",\"watch\",\"boys\",\"hundred\",\"flanders\",\"care\",\"homie\",\"cool\",\"free\",\"seen\",\"room\",\"whos\",\"ow\",\"once\",\"beer\",\"maggie\",\"pretty\",\"used\",\"head\",\"coming\",\"dead\",\"check\",\"tv\",\"hope\",\"cmon\",\"says\",\"stay\",\"welcome\",\"book\",\"told\",\"actually\",\"miss\",\"whole\",\"everybody\",\"start\",\"such\",\"buy\",\"wife\",\"sweet\",\"already\",\"wanted\",\"game\",\"young\",\"wouldnt\",\"four\",\"movie\",\"shut\",\"face\",\"trying\",\"hi\",\"course\",\"gone\",\"heard\",\"pay\",\"yourself\",\"lost\",\"smithers\",\"stuff\",\"wish\",\"found\",\"forget\",\"read\",\"youd\",\"talking\",\"came\",\"hard\",\"ten\",\"crazy\",\"run\",\"beautiful\",\"since\",\"year\",\"together\",\"afraid\",\"hot\",\"idea\",\"makes\",\"dear\",\"fat\",\"party\",\"true\",\"aint\",\"mind\",\"called\",\"happened\",\"die\",\"hate\",\"same\",\"christmas\",\"wheres\",\"finally\",\"anyone\",\"ha\",\"story\",\"problem\",\"myself\",\"end\",\"food\",\"chief\",\"ask\",\"word\",\"bring\",\"win\",\"cut\",\"tomorrow\",\"woman\",\"lady\",\"hold\",\"heart\",\"else\",\"ned\",\"funny\",\"went\",\"excuse\",\"open\",\"havent\",\"eyes\",\"heh\",\"looking\",\"least\",\"under\",\"days\",\"making\",\"power\",\"also\",\"part\",\"saying\",\"number\",\"arent\",\"hair\",\"special\",\"couldnt\",\"week\",\"mrs\",\"hmm\",\"yet\",\"having\",\"save\",\"full\",\"took\",\"lord\",\"business\",\"perfect\",\"until\",\"knew\",\"six\",\"change\",\"wasnt\",\"second\",\"saw\",\"wants\",\"point\",\"ready\",\"morning\",\"taking\",\"comes\",\"class\",\"move\",\"each\",\"hit\",\"fire\",\"grampa\",\"both\",\"thousand\",\"dinner\",\"gave\",\"meet\",\"times\",\"means\",\"pick\",\"gets\",\"news\",\"understand\",\"easy\",\"skinner\",\"ones\",\"drink\",\"hand\",\"goes\",\"few\",\"married\",\"supposed\",\"break\",\"daddy\",\"sleep\",\"husband\",\"anymore\",\"dream\",\"hurt\",\"bed\",\"minutes\",\"bar\",\"la\",\"city\",\"store\",\"deal\",\"simpsons\",\"fight\",\"water\",\"set\",\"music\",\"barts\",\"door\",\"woo\",\"girls\",\"thinking\",\"needs\",\"brother\",\"hm\",\"eight\",\"song\",\"men\",\"phone\",\"-\",\"alone\",\"bob\",\"stand\",\"sounds\",\"answer\",\"rock\",\"brought\",\"sign\",\"late\",\"hands\",\"attention\",\"watching\",\"whatever\",\"hours\",\"enjoy\",\"important\",\"bet\",\"doctor\",\"drive\",\"rest\",\"sit\",\"outta\",\"mad\",\"test\",\"side\",\"soon\",\"million\",\"poor\",\"till\",\"kiss\",\"death\",\"mine\",\"ladies\",\"glad\",\"ago\",\"wonderful\",\"anyway\",\"president\",\"chance\",\"forever\",\"ice\",\"line\",\"top\",\"learn\",\"except\",\"pants\",\"plant\",\"working\",\"matter\",\"inside\",\"birthday\",\"secret\",\"probably\",\"damn\",\"america\",\"air\",\"quit\",\"parents\",\"throw\",\"walk\",\"close\",\"team\",\"later\",\"marriage\",\"sound\",\"hoo\",\"country\",\"ball\",\"gentlemen\",\"apu\",\"eye\",\"ride\",\"clown\",\"american\",\"fair\",\"box\",\"hmmm\",\"uh-oh\",\"nobody\",\"seems\",\"picture\",\"lis\",\"nelson\",\"alive\",\"goodbye\",\"trouble\",\"behind\",\"card\",\"learned\",\"question\",\"shall\",\"won\",\"sister\",\"write\",\"quite\",\"future\",\"lenny\",\"church\",\"killed\",\"happen\",\"front\",\"plan\",\"clean\",\"spend\",\"goin\",\"women\",\"shot\",\"send\",\"case\",\"exactly\",\"folks\",\"dr\",\"seymour\",\"saved\",\"words\",\"eating\",\"sweetie\",\"dance\",\"beat\",\"half\",\"bit\",\"bout\",\"seven\",\"bus\",\"police\",\"sick\",\"terrible\",\"fast\",\"principal\",\"red\",\"knows\",\"against\",\"high\",\"candy\",\"fifty\",\"truth\",\"doin\",\"theyll\",\"started\",\"lose\",\"person\",\"itll\",\"wed\",\"proud\",\"far\",\"yours\",\"sell\",\"worse\",\"order\",\"cream\",\"living\",\"lives\",\"king\",\"teach\",\"war\",\"favorite\",\"dogs\",\"state\",\"ralph\",\"almost\",\"bill\",\"kent\",\"itchy\",\"lie\",\"catch\",\"turned\",\"become\",\"telling\",\"haw\",\"rich\",\"body\",\"quiet\",\"smell\",\"blue\",\"bought\",\"child\",\"reason\",\"honor\",\"somebody\",\"dude\",\"cat\",\"earth\",\"moment\",\"blood\",\"wedding\",\"mmm\",\"tried\",\"bucks\",\"moes\",\"willie\",\"couple\",\"along\",\"gimme\",\"tree\",\"butt\",\"pie\",\"wear\",\"playing\",\"nine\",\"safe\",\"greatest\",\"worst\",\"ahead\",\"comin\",\"light\",\"human\",\"hour\",\"different\",\"less\",\"fish\",\"twenty\",\"likes\",\"join\",\"return\",\"mouth\",\"oooh\",\"nuclear\",\"nothin\",\"brain\",\"star\",\"date\",\"gay\",\"seem\",\"feeling\",\"act\",\"paper\",\"ooo\",\"small\",\"sometimes\",\"stick\",\"soul\",\"bear\",\"shouldnt\",\"art\",\"promise\",\"hat\",\"lucky\",\"wonder\",\"perhaps\",\"outside\",\"instead\",\"machine\",\"daughter\",\"smart\",\"paid\",\"drunk\",\"using\",\"giving\",\"monkey\",\"roll\",\"cold\",\"pass\",\"either\",\"movies\",\"ass\",\"wearing\",\"dollar\",\"books\",\"street\",\"lisas\",\"met\",\"trip\",\"quick\",\"lunch\",\"ho\",\"hero\",\"floor\",\"taken\",\"film\",\"fact\",\"gas\",\"selma\",\"club\",\"sad\",\"speak\",\"kinda\",\"between\",\"worth\",\"tired\",\"bag\",\"relax\",\"wake\",\"present\",\"monster\",\"takes\",\"fault\",\"sex\",\"names\",\"crap\",\"barney\",\"homers\",\"weeks\",\"sold\",\"carl\",\"extra\",\"piece\",\"works\",\"da\",\"land\",\"law\",\"lousy\",\"company\",\"werent\",\"edna\",\"straight\",\"touch\",\"teacher\",\"feet\",\"evil\",\"black\",\"voice\",\"pull\",\"hang\",\"office\",\"forgot\",\"broke\",\"white\",\"drop\",\"luck\",\"shoot\",\"space\",\"shows\",\"dads\",\"laugh\",\"fired\",\"gun\",\"choice\",\"park\",\"fly\",\"gettin\",\"college\",\"cute\",\"problems\",\"thinks\",\"scratchy\",\"past\",\"duff\",\"horrible\",\"unless\",\"third\",\"surprise\",\"died\",\"angry\",\"pizza\",\"super\",\"plus\",\"leaving\",\"though\",\"nose\",\"afford\",\"sideshow\",\"drinking\",\"idiot\",\"yo\",\"anybody\",\"hurry\",\"loves\",\"lou\",\"step\",\"hows\",\"seat\",\"age\",\"worked\",\"driving\",\"known\",\"coffee\",\"buddy\",\"asked\",\"weird\",\"running\",\"months\",\"dreams\",\"ring\",\"happens\",\"table\",\"longer\",\"prison\",\"sugar\",\"boss\",\"stuck\",\"judge\",\"evening\",\"fall\",\"local\",\"wrote\",\"loved\",\"cheese\",\"himself\",\"trust\",\"system\",\"blah\",\"field\",\"fresh\",\"public\",\"blow\",\"felt\",\"milk\",\"theyve\",\"certainly\",\"calling\",\"sing\",\"mayor\",\"clear\",\"questions\",\"burn\",\"changed\",\"heaven\",\"vote\",\"nuts\",\"gee\",\"pain\",\"share\",\"magic\",\"awesome\",\"lesson\",\"band\",\"letter\",\"early\",\"cake\",\"excellent\",\"history\",\"visit\",\"grow\",\"ruined\",\"babies\",\"missed\",\"report\",\"missing\",\"suit\",\"sense\",\"uh-huh\",\"breakfast\",\"tickets\",\"court\",\"grade\",\"bird\",\"mister\",\"finish\",\"nah\",\"wiggum\",\"somewhere\",\"gift\",\"twelve\",\"safety\",\"jerk\",\"ate\",\"maam\",\"reading\",\"sea\",\"meat\",\"tough\",\"sent\",\"science\",\"absolutely\",\"low\",\"todays\",\"animals\",\"clothes\",\"chocolate\",\"fool\",\"peace\",\"chicken\",\"thatll\",\"follow\",\"chair\",\"marry\",\"jesus\",\"joe\",\"summer\",\"respect\",\"service\",\"sort\",\"born\",\"center\",\"window\",\"garbage\",\"short\",\"caught\",\"cost\"],\"x1\":{\"__ndarray__\":\"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\",\"dtype\":\"float32\",\"order\":\"little\",\"shape\":[1000]},\"x2\":{\"__ndarray__\":\"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\",\"dtype\":\"float32\",\"order\":\"little\",\"shape\":[1000]}},\"selected\":{\"id\":\"1256\"},\"selection_policy\":{\"id\":\"1255\"}},\"id\":\"1221\",\"type\":\"ColumnDataSource\"},{\"attributes\":{},\"id\":\"1214\",\"type\":\"ResetTool\"},{\"attributes\":{},\"id\":\"1209\",\"type\":\"BasicTicker\"},{\"attributes\":{},\"id\":\"1251\",\"type\":\"AllLabels\"},{\"attributes\":{\"axis\":{\"id\":\"1208\"},\"coordinates\":null,\"dimension\":1,\"group\":null,\"ticker\":null},\"id\":\"1211\",\"type\":\"Grid\"},{\"attributes\":{},\"id\":\"1253\",\"type\":\"BasicTickFormatter\"},{\"attributes\":{},\"id\":\"1254\",\"type\":\"AllLabels\"},{\"attributes\":{\"coordinates\":null,\"formatter\":{\"id\":\"1253\"},\"group\":null,\"major_label_policy\":{\"id\":\"1254\"},\"ticker\":{\"id\":\"1205\"}},\"id\":\"1204\",\"type\":\"LinearAxis\"},{\"attributes\":{\"coordinates\":null,\"group\":null,\"text\":\"word2vec T-SNE top1000 words\"},\"id\":\"1194\",\"type\":\"Title\"}],\"root_ids\":[\"1193\"]},\"title\":\"Bokeh Application\",\"version\":\"2.4.3\"}};\n",
              "  const render_items = [{\"docid\":\"a7d3df50-18a4-4895-a522-7ed5ca42e1f5\",\"root_ids\":[\"1193\"],\"roots\":{\"1193\":\"fbb31e8c-5ef8-4797-98f4-41e220ced99b\"}}];\n",
              "  root.Bokeh.embed.embed_items_notebook(docs_json, render_items);\n",
              "  }\n",
              "  if (root.Bokeh !== undefined) {\n",
              "    embed_document(root);\n",
              "  } else {\n",
              "    let attempts = 0;\n",
              "    const timer = setInterval(function(root) {\n",
              "      if (root.Bokeh !== undefined) {\n",
              "        clearInterval(timer);\n",
              "        embed_document(root);\n",
              "      } else {\n",
              "        attempts++;\n",
              "        if (attempts > 100) {\n",
              "          clearInterval(timer);\n",
              "          console.log(\"Bokeh: ERROR: Unable to run BokehJS code because BokehJS library is missing\");\n",
              "        }\n",
              "      }\n",
              "    }, 10, root)\n",
              "  }\n",
              "})(window);"
            ],
            "application/vnd.bokehjs_exec.v0+json": ""
          },
          "metadata": {
            "application/vnd.bokehjs_exec.v0+json": {
              "id": "1193"
            }
          }
        }
      ]
    },
    {
      "cell_type": "code",
      "source": [
        "print(model.wv.most_similar(positive=[\"marge\", \"bart\"], negative=[\"marge\"], topn=5))"
      ],
      "metadata": {
        "id": "mlnHgaOyUTnB",
        "colab": {
          "base_uri": "https://localhost:8080/"
        },
        "outputId": "bf46eed0-9255-411a-e9d2-e2f3a42b4d15"
      },
      "execution_count": null,
      "outputs": [
        {
          "output_type": "stream",
          "name": "stdout",
          "text": [
            "[('lisa', 0.9148375391960144), ('homer', 0.8836032152175903), ('milhouse', 0.809614896774292), ('maggie', 0.7758014798164368), ('dad', 0.7654369473457336)]\n"
          ]
        }
      ]
    },
    {
      "cell_type": "code",
      "source": [
        "print(model.wv.most_similar(positive=[\"bart\", \"school\"], negative=[\"lisa\"], topn=5))"
      ],
      "metadata": {
        "colab": {
          "base_uri": "https://localhost:8080/"
        },
        "id": "Gvm9M57lez7Y",
        "outputId": "4212f183-addc-4d0a-f8e7-a5191bd5069b"
      },
      "execution_count": null,
      "outputs": [
        {
          "output_type": "stream",
          "name": "stdout",
          "text": [
            "[('game', 0.7339708805084229), ('church', 0.7307146191596985), ('house', 0.7181503176689148), ('christmas', 0.6959559917449951), ('store', 0.6880595088005066)]\n"
          ]
        }
      ]
    },
    {
      "cell_type": "code",
      "source": [
        "print(model.wv.most_similar(positive=[\"marge\", \"home\"], negative=[\"homer\"], topn=5))"
      ],
      "metadata": {
        "colab": {
          "base_uri": "https://localhost:8080/"
        },
        "id": "uII0_TSGe0Iw",
        "outputId": "9b926657-596d-410b-9f1b-cfbed9d11ecb"
      },
      "execution_count": null,
      "outputs": [
        {
          "output_type": "stream",
          "name": "stdout",
          "text": [
            "[('back', 0.7687998414039612), ('sleep', 0.6749753355979919), ('bed', 0.6496912240982056), ('dinner', 0.6429943442344666), ('while', 0.6024989485740662)]\n"
          ]
        }
      ]
    },
    {
      "cell_type": "markdown",
      "source": [
        "## Bart Lisa classifier"
      ],
      "metadata": {
        "id": "5WV63U0NS4Jx"
      }
    },
    {
      "cell_type": "code",
      "source": [
        "df = pd.read_csv('simpsons_script_lines.csv', usecols=['raw_character_text', 'normalized_text'])\n",
        "df.head()"
      ],
      "metadata": {
        "colab": {
          "base_uri": "https://localhost:8080/",
          "height": 206
        },
        "id": "yJmrEHHZz5pO",
        "outputId": "38e53f36-3354-47be-ff91-d2520c9c85c5"
      },
      "execution_count": null,
      "outputs": [
        {
          "output_type": "execute_result",
          "data": {
            "text/plain": [
              "        raw_character_text                                    normalized_text\n",
              "0              Miss Hoover  no actually it was a little of both sometimes ...\n",
              "1             Lisa Simpson                                wheres mr bergstrom\n",
              "2              Miss Hoover  i dont know although id sure like to talk to h...\n",
              "3             Lisa Simpson                          that life is worth living\n",
              "4  Edna Krabappel-Flanders  the polls will be open from now until the end ..."
            ],
            "text/html": [
              "\n",
              "  <div id=\"df-5a4386a8-b227-4dda-b1de-c4da477fa99d\">\n",
              "    <div class=\"colab-df-container\">\n",
              "      <div>\n",
              "<style scoped>\n",
              "    .dataframe tbody tr th:only-of-type {\n",
              "        vertical-align: middle;\n",
              "    }\n",
              "\n",
              "    .dataframe tbody tr th {\n",
              "        vertical-align: top;\n",
              "    }\n",
              "\n",
              "    .dataframe thead th {\n",
              "        text-align: right;\n",
              "    }\n",
              "</style>\n",
              "<table border=\"1\" class=\"dataframe\">\n",
              "  <thead>\n",
              "    <tr style=\"text-align: right;\">\n",
              "      <th></th>\n",
              "      <th>raw_character_text</th>\n",
              "      <th>normalized_text</th>\n",
              "    </tr>\n",
              "  </thead>\n",
              "  <tbody>\n",
              "    <tr>\n",
              "      <th>0</th>\n",
              "      <td>Miss Hoover</td>\n",
              "      <td>no actually it was a little of both sometimes ...</td>\n",
              "    </tr>\n",
              "    <tr>\n",
              "      <th>1</th>\n",
              "      <td>Lisa Simpson</td>\n",
              "      <td>wheres mr bergstrom</td>\n",
              "    </tr>\n",
              "    <tr>\n",
              "      <th>2</th>\n",
              "      <td>Miss Hoover</td>\n",
              "      <td>i dont know although id sure like to talk to h...</td>\n",
              "    </tr>\n",
              "    <tr>\n",
              "      <th>3</th>\n",
              "      <td>Lisa Simpson</td>\n",
              "      <td>that life is worth living</td>\n",
              "    </tr>\n",
              "    <tr>\n",
              "      <th>4</th>\n",
              "      <td>Edna Krabappel-Flanders</td>\n",
              "      <td>the polls will be open from now until the end ...</td>\n",
              "    </tr>\n",
              "  </tbody>\n",
              "</table>\n",
              "</div>\n",
              "      <button class=\"colab-df-convert\" onclick=\"convertToInteractive('df-5a4386a8-b227-4dda-b1de-c4da477fa99d')\"\n",
              "              title=\"Convert this dataframe to an interactive table.\"\n",
              "              style=\"display:none;\">\n",
              "        \n",
              "  <svg xmlns=\"http://www.w3.org/2000/svg\" height=\"24px\"viewBox=\"0 0 24 24\"\n",
              "       width=\"24px\">\n",
              "    <path d=\"M0 0h24v24H0V0z\" fill=\"none\"/>\n",
              "    <path d=\"M18.56 5.44l.94 2.06.94-2.06 2.06-.94-2.06-.94-.94-2.06-.94 2.06-2.06.94zm-11 1L8.5 8.5l.94-2.06 2.06-.94-2.06-.94L8.5 2.5l-.94 2.06-2.06.94zm10 10l.94 2.06.94-2.06 2.06-.94-2.06-.94-.94-2.06-.94 2.06-2.06.94z\"/><path d=\"M17.41 7.96l-1.37-1.37c-.4-.4-.92-.59-1.43-.59-.52 0-1.04.2-1.43.59L10.3 9.45l-7.72 7.72c-.78.78-.78 2.05 0 2.83L4 21.41c.39.39.9.59 1.41.59.51 0 1.02-.2 1.41-.59l7.78-7.78 2.81-2.81c.8-.78.8-2.07 0-2.86zM5.41 20L4 18.59l7.72-7.72 1.47 1.35L5.41 20z\"/>\n",
              "  </svg>\n",
              "      </button>\n",
              "      \n",
              "  <style>\n",
              "    .colab-df-container {\n",
              "      display:flex;\n",
              "      flex-wrap:wrap;\n",
              "      gap: 12px;\n",
              "    }\n",
              "\n",
              "    .colab-df-convert {\n",
              "      background-color: #E8F0FE;\n",
              "      border: none;\n",
              "      border-radius: 50%;\n",
              "      cursor: pointer;\n",
              "      display: none;\n",
              "      fill: #1967D2;\n",
              "      height: 32px;\n",
              "      padding: 0 0 0 0;\n",
              "      width: 32px;\n",
              "    }\n",
              "\n",
              "    .colab-df-convert:hover {\n",
              "      background-color: #E2EBFA;\n",
              "      box-shadow: 0px 1px 2px rgba(60, 64, 67, 0.3), 0px 1px 3px 1px rgba(60, 64, 67, 0.15);\n",
              "      fill: #174EA6;\n",
              "    }\n",
              "\n",
              "    [theme=dark] .colab-df-convert {\n",
              "      background-color: #3B4455;\n",
              "      fill: #D2E3FC;\n",
              "    }\n",
              "\n",
              "    [theme=dark] .colab-df-convert:hover {\n",
              "      background-color: #434B5C;\n",
              "      box-shadow: 0px 1px 3px 1px rgba(0, 0, 0, 0.15);\n",
              "      filter: drop-shadow(0px 1px 2px rgba(0, 0, 0, 0.3));\n",
              "      fill: #FFFFFF;\n",
              "    }\n",
              "  </style>\n",
              "\n",
              "      <script>\n",
              "        const buttonEl =\n",
              "          document.querySelector('#df-5a4386a8-b227-4dda-b1de-c4da477fa99d button.colab-df-convert');\n",
              "        buttonEl.style.display =\n",
              "          google.colab.kernel.accessAllowed ? 'block' : 'none';\n",
              "\n",
              "        async function convertToInteractive(key) {\n",
              "          const element = document.querySelector('#df-5a4386a8-b227-4dda-b1de-c4da477fa99d');\n",
              "          const dataTable =\n",
              "            await google.colab.kernel.invokeFunction('convertToInteractive',\n",
              "                                                     [key], {});\n",
              "          if (!dataTable) return;\n",
              "\n",
              "          const docLinkHtml = 'Like what you see? Visit the ' +\n",
              "            '<a target=\"_blank\" href=https://colab.research.google.com/notebooks/data_table.ipynb>data table notebook</a>'\n",
              "            + ' to learn more about interactive tables.';\n",
              "          element.innerHTML = '';\n",
              "          dataTable['output_type'] = 'display_data';\n",
              "          await google.colab.output.renderOutput(dataTable, element);\n",
              "          const docLink = document.createElement('div');\n",
              "          docLink.innerHTML = docLinkHtml;\n",
              "          element.appendChild(docLink);\n",
              "        }\n",
              "      </script>\n",
              "    </div>\n",
              "  </div>\n",
              "  "
            ]
          },
          "metadata": {},
          "execution_count": 7
        }
      ]
    },
    {
      "cell_type": "code",
      "source": [
        "df = df.dropna()\n",
        "df = df.drop_duplicates()\n",
        "df.reset_index(inplace=True)"
      ],
      "metadata": {
        "id": "DcX7k6CAz6GD"
      },
      "execution_count": null,
      "outputs": []
    },
    {
      "cell_type": "code",
      "source": [
        "df.loc[df['raw_character_text'].str.contains('Bart Sim'), 'class'] = 0\n",
        "df.loc[df['raw_character_text'].str.contains('Lisa Sim'), 'class'] = 1"
      ],
      "metadata": {
        "id": "F7JwXzBqEyAC"
      },
      "execution_count": null,
      "outputs": []
    },
    {
      "cell_type": "code",
      "source": [
        "df.dropna(inplace=True)\n",
        "df['class'] = df['class'].astype(int)"
      ],
      "metadata": {
        "id": "T3telutOJBnV"
      },
      "execution_count": null,
      "outputs": []
    },
    {
      "cell_type": "code",
      "source": [
        "df['raw_character_text'].value_counts()"
      ],
      "metadata": {
        "colab": {
          "base_uri": "https://localhost:8080/"
        },
        "id": "o5ZAejL7IAx3",
        "outputId": "dab83f49-d34c-4e3a-ca96-1bb3792a9e1f"
      },
      "execution_count": null,
      "outputs": [
        {
          "output_type": "execute_result",
          "data": {
            "text/plain": [
              "Bart Simpson    11887\n",
              "Lisa Simpson    10016\n",
              "Name: raw_character_text, dtype: int64"
            ]
          },
          "metadata": {},
          "execution_count": 11
        }
      ]
    },
    {
      "cell_type": "code",
      "source": [
        "df['tokens'] = df['normalized_text'].apply(lambda x: x.split(' '))"
      ],
      "metadata": {
        "id": "uOblBVNRJpC8"
      },
      "execution_count": null,
      "outputs": []
    },
    {
      "cell_type": "code",
      "source": [
        "df.head()"
      ],
      "metadata": {
        "colab": {
          "base_uri": "https://localhost:8080/",
          "height": 206
        },
        "id": "kDrBXIyLJq_c",
        "outputId": "039a9e95-473d-4f46-bf8f-fdb191d2f0f2"
      },
      "execution_count": null,
      "outputs": [
        {
          "output_type": "execute_result",
          "data": {
            "text/plain": [
              "    index raw_character_text                     normalized_text  class  \\\n",
              "1       1       Lisa Simpson                 wheres mr bergstrom      1   \n",
              "3       3       Lisa Simpson           that life is worth living      1   \n",
              "7       7       Bart Simpson       victory party under the slide      0   \n",
              "8       9       Lisa Simpson           mr bergstrom mr bergstrom      1   \n",
              "10     11       Lisa Simpson  do you know where i could find him      1   \n",
              "\n",
              "                                         tokens  \n",
              "1                       [wheres, mr, bergstrom]  \n",
              "3               [that, life, is, worth, living]  \n",
              "7           [victory, party, under, the, slide]  \n",
              "8                [mr, bergstrom, mr, bergstrom]  \n",
              "10  [do, you, know, where, i, could, find, him]  "
            ],
            "text/html": [
              "\n",
              "  <div id=\"df-d311715e-8596-4b6a-8489-876daf9776a3\">\n",
              "    <div class=\"colab-df-container\">\n",
              "      <div>\n",
              "<style scoped>\n",
              "    .dataframe tbody tr th:only-of-type {\n",
              "        vertical-align: middle;\n",
              "    }\n",
              "\n",
              "    .dataframe tbody tr th {\n",
              "        vertical-align: top;\n",
              "    }\n",
              "\n",
              "    .dataframe thead th {\n",
              "        text-align: right;\n",
              "    }\n",
              "</style>\n",
              "<table border=\"1\" class=\"dataframe\">\n",
              "  <thead>\n",
              "    <tr style=\"text-align: right;\">\n",
              "      <th></th>\n",
              "      <th>index</th>\n",
              "      <th>raw_character_text</th>\n",
              "      <th>normalized_text</th>\n",
              "      <th>class</th>\n",
              "      <th>tokens</th>\n",
              "    </tr>\n",
              "  </thead>\n",
              "  <tbody>\n",
              "    <tr>\n",
              "      <th>1</th>\n",
              "      <td>1</td>\n",
              "      <td>Lisa Simpson</td>\n",
              "      <td>wheres mr bergstrom</td>\n",
              "      <td>1</td>\n",
              "      <td>[wheres, mr, bergstrom]</td>\n",
              "    </tr>\n",
              "    <tr>\n",
              "      <th>3</th>\n",
              "      <td>3</td>\n",
              "      <td>Lisa Simpson</td>\n",
              "      <td>that life is worth living</td>\n",
              "      <td>1</td>\n",
              "      <td>[that, life, is, worth, living]</td>\n",
              "    </tr>\n",
              "    <tr>\n",
              "      <th>7</th>\n",
              "      <td>7</td>\n",
              "      <td>Bart Simpson</td>\n",
              "      <td>victory party under the slide</td>\n",
              "      <td>0</td>\n",
              "      <td>[victory, party, under, the, slide]</td>\n",
              "    </tr>\n",
              "    <tr>\n",
              "      <th>8</th>\n",
              "      <td>9</td>\n",
              "      <td>Lisa Simpson</td>\n",
              "      <td>mr bergstrom mr bergstrom</td>\n",
              "      <td>1</td>\n",
              "      <td>[mr, bergstrom, mr, bergstrom]</td>\n",
              "    </tr>\n",
              "    <tr>\n",
              "      <th>10</th>\n",
              "      <td>11</td>\n",
              "      <td>Lisa Simpson</td>\n",
              "      <td>do you know where i could find him</td>\n",
              "      <td>1</td>\n",
              "      <td>[do, you, know, where, i, could, find, him]</td>\n",
              "    </tr>\n",
              "  </tbody>\n",
              "</table>\n",
              "</div>\n",
              "      <button class=\"colab-df-convert\" onclick=\"convertToInteractive('df-d311715e-8596-4b6a-8489-876daf9776a3')\"\n",
              "              title=\"Convert this dataframe to an interactive table.\"\n",
              "              style=\"display:none;\">\n",
              "        \n",
              "  <svg xmlns=\"http://www.w3.org/2000/svg\" height=\"24px\"viewBox=\"0 0 24 24\"\n",
              "       width=\"24px\">\n",
              "    <path d=\"M0 0h24v24H0V0z\" fill=\"none\"/>\n",
              "    <path d=\"M18.56 5.44l.94 2.06.94-2.06 2.06-.94-2.06-.94-.94-2.06-.94 2.06-2.06.94zm-11 1L8.5 8.5l.94-2.06 2.06-.94-2.06-.94L8.5 2.5l-.94 2.06-2.06.94zm10 10l.94 2.06.94-2.06 2.06-.94-2.06-.94-.94-2.06-.94 2.06-2.06.94z\"/><path d=\"M17.41 7.96l-1.37-1.37c-.4-.4-.92-.59-1.43-.59-.52 0-1.04.2-1.43.59L10.3 9.45l-7.72 7.72c-.78.78-.78 2.05 0 2.83L4 21.41c.39.39.9.59 1.41.59.51 0 1.02-.2 1.41-.59l7.78-7.78 2.81-2.81c.8-.78.8-2.07 0-2.86zM5.41 20L4 18.59l7.72-7.72 1.47 1.35L5.41 20z\"/>\n",
              "  </svg>\n",
              "      </button>\n",
              "      \n",
              "  <style>\n",
              "    .colab-df-container {\n",
              "      display:flex;\n",
              "      flex-wrap:wrap;\n",
              "      gap: 12px;\n",
              "    }\n",
              "\n",
              "    .colab-df-convert {\n",
              "      background-color: #E8F0FE;\n",
              "      border: none;\n",
              "      border-radius: 50%;\n",
              "      cursor: pointer;\n",
              "      display: none;\n",
              "      fill: #1967D2;\n",
              "      height: 32px;\n",
              "      padding: 0 0 0 0;\n",
              "      width: 32px;\n",
              "    }\n",
              "\n",
              "    .colab-df-convert:hover {\n",
              "      background-color: #E2EBFA;\n",
              "      box-shadow: 0px 1px 2px rgba(60, 64, 67, 0.3), 0px 1px 3px 1px rgba(60, 64, 67, 0.15);\n",
              "      fill: #174EA6;\n",
              "    }\n",
              "\n",
              "    [theme=dark] .colab-df-convert {\n",
              "      background-color: #3B4455;\n",
              "      fill: #D2E3FC;\n",
              "    }\n",
              "\n",
              "    [theme=dark] .colab-df-convert:hover {\n",
              "      background-color: #434B5C;\n",
              "      box-shadow: 0px 1px 3px 1px rgba(0, 0, 0, 0.15);\n",
              "      filter: drop-shadow(0px 1px 2px rgba(0, 0, 0, 0.3));\n",
              "      fill: #FFFFFF;\n",
              "    }\n",
              "  </style>\n",
              "\n",
              "      <script>\n",
              "        const buttonEl =\n",
              "          document.querySelector('#df-d311715e-8596-4b6a-8489-876daf9776a3 button.colab-df-convert');\n",
              "        buttonEl.style.display =\n",
              "          google.colab.kernel.accessAllowed ? 'block' : 'none';\n",
              "\n",
              "        async function convertToInteractive(key) {\n",
              "          const element = document.querySelector('#df-d311715e-8596-4b6a-8489-876daf9776a3');\n",
              "          const dataTable =\n",
              "            await google.colab.kernel.invokeFunction('convertToInteractive',\n",
              "                                                     [key], {});\n",
              "          if (!dataTable) return;\n",
              "\n",
              "          const docLinkHtml = 'Like what you see? Visit the ' +\n",
              "            '<a target=\"_blank\" href=https://colab.research.google.com/notebooks/data_table.ipynb>data table notebook</a>'\n",
              "            + ' to learn more about interactive tables.';\n",
              "          element.innerHTML = '';\n",
              "          dataTable['output_type'] = 'display_data';\n",
              "          await google.colab.output.renderOutput(dataTable, element);\n",
              "          const docLink = document.createElement('div');\n",
              "          docLink.innerHTML = docLinkHtml;\n",
              "          element.appendChild(docLink);\n",
              "        }\n",
              "      </script>\n",
              "    </div>\n",
              "  </div>\n",
              "  "
            ]
          },
          "metadata": {},
          "execution_count": 13
        }
      ]
    },
    {
      "cell_type": "code",
      "source": [
        "MAX_LEN = max([len(i.split(' ')) for i in df['normalized_text']])\n",
        "vector_size = model.wv.get_vector('bergstrom').shape[0]\n",
        "train_size = int(len(df['normalized_text']) / 100 * 80)\n",
        "test_size = len(df['normalized_text']) - int(len(df['normalized_text']) / 100 * 80)\n",
        "MAX_LEN, train_size, test_size, test_size+train_size == len(df['normalized_text'])"
      ],
      "metadata": {
        "colab": {
          "base_uri": "https://localhost:8080/"
        },
        "id": "0uOGu1GH5POQ",
        "outputId": "0e7d4860-3e9c-4d47-c4cd-362ab978832c"
      },
      "execution_count": null,
      "outputs": [
        {
          "output_type": "execute_result",
          "data": {
            "text/plain": [
              "(75, 17522, 4381, True)"
            ]
          },
          "metadata": {},
          "execution_count": 14
        }
      ]
    },
    {
      "cell_type": "code",
      "source": [
        "train = []\n",
        "\n",
        "for ida, sent in enumerate(df['normalized_text'].tolist()[:train_size]):\n",
        "    X = torch.zeros(MAX_LEN, vector_size)\n",
        "    for idb, word in enumerate(sent.split(' ')):\n",
        "      if word in model.wv:\n",
        "        X[idb] = torch.tensor(model.wv[word])\n",
        "    train.append((X.T, df['class'].values[ida]))\n",
        "\n",
        "test = []\n",
        "\n",
        "for ida, sent in enumerate(df['normalized_text'].tolist()[train_size:]):\n",
        "    X = torch.zeros(MAX_LEN, vector_size)\n",
        "    for idb, word in enumerate(sent.split(' ')):\n",
        "      if word in model.wv:\n",
        "        X[idb] = torch.tensor(model.wv[word])\n",
        "    test.append((X.T, df['class'].values[ida + train_size]))"
      ],
      "metadata": {
        "id": "_yH9uIBr4lii"
      },
      "execution_count": null,
      "outputs": []
    },
    {
      "cell_type": "code",
      "source": [
        "train_ds = torch.utils.data.DataLoader(train, batch_size=256, shuffle=True)\n",
        "test_ds = torch.utils.data.DataLoader(train, batch_size=256)"
      ],
      "metadata": {
        "id": "v-RAzPyN699w"
      },
      "execution_count": null,
      "outputs": []
    },
    {
      "cell_type": "code",
      "source": [
        "model = torch.nn.Sequential(\n",
        "    torch.nn.Flatten(),\n",
        "    torch.nn.Linear(MAX_LEN * vector_size, 1024),\n",
        "    torch.nn.BatchNorm1d(1024),\n",
        "    torch.nn.ReLU(),\n",
        "    torch.nn.Dropout(0.2),\n",
        "    torch.nn.Linear(1024, 512),\n",
        "    torch.nn.BatchNorm1d(512),\n",
        "    torch.nn.ReLU(),\n",
        "    torch.nn.Dropout(0.2),\n",
        "    torch.nn.Linear(512, 256),\n",
        "    torch.nn.BatchNorm1d(256),\n",
        "    torch.nn.ReLU(),\n",
        "    torch.nn.Dropout(0.2),\n",
        "    torch.nn.Linear(256, 2)\n",
        ")"
      ],
      "metadata": {
        "id": "PJJCejJVke_t"
      },
      "execution_count": null,
      "outputs": []
    },
    {
      "cell_type": "code",
      "source": [
        "loss = torch.nn.CrossEntropyLoss()\n",
        "trainer = torch.optim.Adam(model.parameters(), lr=0.001)"
      ],
      "metadata": {
        "id": "-jGJOMEkZ3go"
      },
      "execution_count": null,
      "outputs": []
    },
    {
      "cell_type": "code",
      "source": [
        "model"
      ],
      "metadata": {
        "colab": {
          "base_uri": "https://localhost:8080/"
        },
        "id": "LhsrnGWDaDUI",
        "outputId": "c8f381fc-fba5-4769-bf8e-c376d3d0323f"
      },
      "execution_count": null,
      "outputs": [
        {
          "output_type": "execute_result",
          "data": {
            "text/plain": [
              "Sequential(\n",
              "  (0): Flatten(start_dim=1, end_dim=-1)\n",
              "  (1): Linear(in_features=7500, out_features=1024, bias=True)\n",
              "  (2): BatchNorm1d(1024, eps=1e-05, momentum=0.1, affine=True, track_running_stats=True)\n",
              "  (3): ReLU()\n",
              "  (4): Dropout(p=0.2, inplace=False)\n",
              "  (5): Linear(in_features=1024, out_features=512, bias=True)\n",
              "  (6): BatchNorm1d(512, eps=1e-05, momentum=0.1, affine=True, track_running_stats=True)\n",
              "  (7): ReLU()\n",
              "  (8): Dropout(p=0.2, inplace=False)\n",
              "  (9): Linear(in_features=512, out_features=256, bias=True)\n",
              "  (10): BatchNorm1d(256, eps=1e-05, momentum=0.1, affine=True, track_running_stats=True)\n",
              "  (11): ReLU()\n",
              "  (12): Dropout(p=0.2, inplace=False)\n",
              "  (13): Linear(in_features=256, out_features=2, bias=True)\n",
              ")"
            ]
          },
          "metadata": {},
          "execution_count": 51
        }
      ]
    },
    {
      "cell_type": "code",
      "source": [
        "def train_model(epochs, batch_size, model, trainer, loss, train_ds, test_ds):\n",
        "\n",
        "  for ep in range(epochs):\n",
        "\n",
        "    train_iter, train_pass = 0, 0\n",
        "    train_loss, train_acc = 0., 0.\n",
        "\n",
        "    start = time.time()\n",
        "\n",
        "    model.train()\n",
        "\n",
        "    for X, y in train_ds:\n",
        "      trainer.zero_grad()\n",
        "      y_pred = model(X)\n",
        "      l = loss(y_pred, y)\n",
        "      l.backward()\n",
        "      trainer.step()\n",
        "      train_loss += l.item()\n",
        "      train_acc += (y_pred.argmax(dim=1) == y).sum().item()\n",
        "      train_iter += 1\n",
        "      train_pass += len(X)\n",
        "\n",
        "    test_iter, test_pass  = 0, 0\n",
        "    test_loss, test_acc = 0., 0.\n",
        "\n",
        "    model.eval()\n",
        "\n",
        "    for X, y in test_ds:\n",
        "      y_pred = model(X)\n",
        "      l = loss(y_pred, y)\n",
        "      test_loss += l.item()\n",
        "      test_acc += (y_pred.argmax(dim=1) == y).sum().item()\n",
        "      test_iter += 1\n",
        "      test_pass += len(X)\n",
        "\n",
        "    print(f\"epoch: {ep}\",\n",
        "          f\"time: {time.time() - start}\",\n",
        "          f\"train_loss: {train_loss / train_iter}\",\n",
        "          f\"train_acc: {train_acc / train_pass}\",\n",
        "          f\"test_loss: {test_loss / test_iter}\",\n",
        "          f\"test_acc: {test_acc / test_pass}\")"
      ],
      "metadata": {
        "id": "b9N8_3yWaEPn"
      },
      "execution_count": null,
      "outputs": []
    },
    {
      "cell_type": "code",
      "source": [
        "train_model(epochs=10, batch_size=256, model=model, trainer=trainer, loss=loss, train_ds=train_ds, test_ds=test_ds)"
      ],
      "metadata": {
        "colab": {
          "base_uri": "https://localhost:8080/"
        },
        "id": "b3pTTOH1aMsp",
        "outputId": "b454e358-9827-41c8-a675-2adec6dad1c4"
      },
      "execution_count": null,
      "outputs": [
        {
          "output_type": "stream",
          "name": "stdout",
          "text": [
            "epoch: 0 time: 20.053135871887207 train_loss: 0.7015337209770645 train_acc: 0.5487957995662596 test_loss: 0.649092770141104 test_acc: 0.6262412966556329\n",
            "epoch: 1 time: 19.11611580848694 train_loss: 0.6488060502038486 train_acc: 0.6161967811893619 test_loss: 0.5908160814340564 test_acc: 0.6925579271772628\n",
            "epoch: 2 time: 17.891772747039795 train_loss: 0.6085349105406499 train_acc: 0.6563748430544458 test_loss: 0.5501939865989961 test_acc: 0.7185252825019975\n",
            "epoch: 3 time: 19.21077251434326 train_loss: 0.5611412823200226 train_acc: 0.6923867138454515 test_loss: 0.5082496560138204 test_acc: 0.7339915534756306\n",
            "epoch: 4 time: 18.262322902679443 train_loss: 0.5207094766091609 train_acc: 0.7209793402579614 test_loss: 0.4451353973236637 test_acc: 0.7739984020089031\n",
            "epoch: 5 time: 19.759217262268066 train_loss: 0.4689821838468745 train_acc: 0.7521972377582468 test_loss: 0.3985378962496053 test_acc: 0.8056157972834151\n",
            "epoch: 6 time: 18.78598976135254 train_loss: 0.42636616204095923 train_acc: 0.7772514553133204 test_loss: 0.3589573580285777 test_acc: 0.8224517749115398\n",
            "epoch: 7 time: 19.546525239944458 train_loss: 0.3937666334103847 train_acc: 0.7920328729597078 test_loss: 0.329107523828313 test_acc: 0.8349503481337747\n",
            "epoch: 8 time: 17.940205097198486 train_loss: 0.37329785849737085 train_acc: 0.8021915306471864 test_loss: 0.3221689661343892 test_acc: 0.8395731080926835\n",
            "epoch: 9 time: 18.930790185928345 train_loss: 0.34609409864398016 train_acc: 0.8201118593767834 test_loss: 0.29249976143456885 test_acc: 0.8525282501997489\n"
          ]
        }
      ]
    },
    {
      "cell_type": "code",
      "source": [],
      "metadata": {
        "id": "4GlORda2aP4n"
      },
      "execution_count": null,
      "outputs": []
    }
  ]
}