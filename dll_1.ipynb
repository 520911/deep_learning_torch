{
  "nbformat": 4,
  "nbformat_minor": 0,
  "metadata": {
    "colab": {
      "provenance": []
    },
    "kernelspec": {
      "name": "python3",
      "display_name": "Python 3"
    },
    "language_info": {
      "name": "python"
    }
  },
  "cells": [
    {
      "cell_type": "markdown",
      "source": [
        "Задание 1\n",
        "\n",
        "Реализуйте обучение нейронной сети из одного нейрона для задачи предсказания стоимости квартир boston house prices или california housing prices с использованием pytorch.\n"
      ],
      "metadata": {
        "id": "XXF2iDxpK3PS"
      }
    },
    {
      "cell_type": "code",
      "source": [
        "import pandas as pd\n",
        "import numpy as np\n",
        "from sklearn.preprocessing import StandardScaler\n",
        "\n",
        "import torch\n",
        "from torch.utils.data import TensorDataset, DataLoader\n",
        "from sklearn.model_selection import train_test_split"
      ],
      "metadata": {
        "id": "153fk6DrK4Zz"
      },
      "execution_count": null,
      "outputs": []
    },
    {
      "cell_type": "code",
      "source": [
        "column_names = ['CRIM', 'ZN', 'INDUS', 'CHAS', 'NOX', 'RM', 'AGE', 'DIS', 'RAD', 'TAX', 'PTRATIO', 'B', 'LSTAT', 'MEDV']\n",
        "\n",
        "house = pd.read_csv('housing.csv', header=None, names=column_names, delimiter=r'\\s+')\n",
        "house.head()"
      ],
      "metadata": {
        "colab": {
          "base_uri": "https://localhost:8080/",
          "height": 206
        },
        "id": "YmjWSU7mE8XL",
        "outputId": "76a85510-f8af-48da-ea58-737309de5c27"
      },
      "execution_count": null,
      "outputs": [
        {
          "output_type": "execute_result",
          "data": {
            "text/plain": [
              "      CRIM    ZN  INDUS  CHAS    NOX     RM   AGE     DIS  RAD    TAX  \\\n",
              "0  0.00632  18.0   2.31     0  0.538  6.575  65.2  4.0900    1  296.0   \n",
              "1  0.02731   0.0   7.07     0  0.469  6.421  78.9  4.9671    2  242.0   \n",
              "2  0.02729   0.0   7.07     0  0.469  7.185  61.1  4.9671    2  242.0   \n",
              "3  0.03237   0.0   2.18     0  0.458  6.998  45.8  6.0622    3  222.0   \n",
              "4  0.06905   0.0   2.18     0  0.458  7.147  54.2  6.0622    3  222.0   \n",
              "\n",
              "   PTRATIO       B  LSTAT  MEDV  \n",
              "0     15.3  396.90   4.98  24.0  \n",
              "1     17.8  396.90   9.14  21.6  \n",
              "2     17.8  392.83   4.03  34.7  \n",
              "3     18.7  394.63   2.94  33.4  \n",
              "4     18.7  396.90   5.33  36.2  "
            ],
            "text/html": [
              "\n",
              "  <div id=\"df-6ba93faa-ed11-4215-aec0-c085bda7b96b\">\n",
              "    <div class=\"colab-df-container\">\n",
              "      <div>\n",
              "<style scoped>\n",
              "    .dataframe tbody tr th:only-of-type {\n",
              "        vertical-align: middle;\n",
              "    }\n",
              "\n",
              "    .dataframe tbody tr th {\n",
              "        vertical-align: top;\n",
              "    }\n",
              "\n",
              "    .dataframe thead th {\n",
              "        text-align: right;\n",
              "    }\n",
              "</style>\n",
              "<table border=\"1\" class=\"dataframe\">\n",
              "  <thead>\n",
              "    <tr style=\"text-align: right;\">\n",
              "      <th></th>\n",
              "      <th>CRIM</th>\n",
              "      <th>ZN</th>\n",
              "      <th>INDUS</th>\n",
              "      <th>CHAS</th>\n",
              "      <th>NOX</th>\n",
              "      <th>RM</th>\n",
              "      <th>AGE</th>\n",
              "      <th>DIS</th>\n",
              "      <th>RAD</th>\n",
              "      <th>TAX</th>\n",
              "      <th>PTRATIO</th>\n",
              "      <th>B</th>\n",
              "      <th>LSTAT</th>\n",
              "      <th>MEDV</th>\n",
              "    </tr>\n",
              "  </thead>\n",
              "  <tbody>\n",
              "    <tr>\n",
              "      <th>0</th>\n",
              "      <td>0.00632</td>\n",
              "      <td>18.0</td>\n",
              "      <td>2.31</td>\n",
              "      <td>0</td>\n",
              "      <td>0.538</td>\n",
              "      <td>6.575</td>\n",
              "      <td>65.2</td>\n",
              "      <td>4.0900</td>\n",
              "      <td>1</td>\n",
              "      <td>296.0</td>\n",
              "      <td>15.3</td>\n",
              "      <td>396.90</td>\n",
              "      <td>4.98</td>\n",
              "      <td>24.0</td>\n",
              "    </tr>\n",
              "    <tr>\n",
              "      <th>1</th>\n",
              "      <td>0.02731</td>\n",
              "      <td>0.0</td>\n",
              "      <td>7.07</td>\n",
              "      <td>0</td>\n",
              "      <td>0.469</td>\n",
              "      <td>6.421</td>\n",
              "      <td>78.9</td>\n",
              "      <td>4.9671</td>\n",
              "      <td>2</td>\n",
              "      <td>242.0</td>\n",
              "      <td>17.8</td>\n",
              "      <td>396.90</td>\n",
              "      <td>9.14</td>\n",
              "      <td>21.6</td>\n",
              "    </tr>\n",
              "    <tr>\n",
              "      <th>2</th>\n",
              "      <td>0.02729</td>\n",
              "      <td>0.0</td>\n",
              "      <td>7.07</td>\n",
              "      <td>0</td>\n",
              "      <td>0.469</td>\n",
              "      <td>7.185</td>\n",
              "      <td>61.1</td>\n",
              "      <td>4.9671</td>\n",
              "      <td>2</td>\n",
              "      <td>242.0</td>\n",
              "      <td>17.8</td>\n",
              "      <td>392.83</td>\n",
              "      <td>4.03</td>\n",
              "      <td>34.7</td>\n",
              "    </tr>\n",
              "    <tr>\n",
              "      <th>3</th>\n",
              "      <td>0.03237</td>\n",
              "      <td>0.0</td>\n",
              "      <td>2.18</td>\n",
              "      <td>0</td>\n",
              "      <td>0.458</td>\n",
              "      <td>6.998</td>\n",
              "      <td>45.8</td>\n",
              "      <td>6.0622</td>\n",
              "      <td>3</td>\n",
              "      <td>222.0</td>\n",
              "      <td>18.7</td>\n",
              "      <td>394.63</td>\n",
              "      <td>2.94</td>\n",
              "      <td>33.4</td>\n",
              "    </tr>\n",
              "    <tr>\n",
              "      <th>4</th>\n",
              "      <td>0.06905</td>\n",
              "      <td>0.0</td>\n",
              "      <td>2.18</td>\n",
              "      <td>0</td>\n",
              "      <td>0.458</td>\n",
              "      <td>7.147</td>\n",
              "      <td>54.2</td>\n",
              "      <td>6.0622</td>\n",
              "      <td>3</td>\n",
              "      <td>222.0</td>\n",
              "      <td>18.7</td>\n",
              "      <td>396.90</td>\n",
              "      <td>5.33</td>\n",
              "      <td>36.2</td>\n",
              "    </tr>\n",
              "  </tbody>\n",
              "</table>\n",
              "</div>\n",
              "      <button class=\"colab-df-convert\" onclick=\"convertToInteractive('df-6ba93faa-ed11-4215-aec0-c085bda7b96b')\"\n",
              "              title=\"Convert this dataframe to an interactive table.\"\n",
              "              style=\"display:none;\">\n",
              "        \n",
              "  <svg xmlns=\"http://www.w3.org/2000/svg\" height=\"24px\"viewBox=\"0 0 24 24\"\n",
              "       width=\"24px\">\n",
              "    <path d=\"M0 0h24v24H0V0z\" fill=\"none\"/>\n",
              "    <path d=\"M18.56 5.44l.94 2.06.94-2.06 2.06-.94-2.06-.94-.94-2.06-.94 2.06-2.06.94zm-11 1L8.5 8.5l.94-2.06 2.06-.94-2.06-.94L8.5 2.5l-.94 2.06-2.06.94zm10 10l.94 2.06.94-2.06 2.06-.94-2.06-.94-.94-2.06-.94 2.06-2.06.94z\"/><path d=\"M17.41 7.96l-1.37-1.37c-.4-.4-.92-.59-1.43-.59-.52 0-1.04.2-1.43.59L10.3 9.45l-7.72 7.72c-.78.78-.78 2.05 0 2.83L4 21.41c.39.39.9.59 1.41.59.51 0 1.02-.2 1.41-.59l7.78-7.78 2.81-2.81c.8-.78.8-2.07 0-2.86zM5.41 20L4 18.59l7.72-7.72 1.47 1.35L5.41 20z\"/>\n",
              "  </svg>\n",
              "      </button>\n",
              "      \n",
              "  <style>\n",
              "    .colab-df-container {\n",
              "      display:flex;\n",
              "      flex-wrap:wrap;\n",
              "      gap: 12px;\n",
              "    }\n",
              "\n",
              "    .colab-df-convert {\n",
              "      background-color: #E8F0FE;\n",
              "      border: none;\n",
              "      border-radius: 50%;\n",
              "      cursor: pointer;\n",
              "      display: none;\n",
              "      fill: #1967D2;\n",
              "      height: 32px;\n",
              "      padding: 0 0 0 0;\n",
              "      width: 32px;\n",
              "    }\n",
              "\n",
              "    .colab-df-convert:hover {\n",
              "      background-color: #E2EBFA;\n",
              "      box-shadow: 0px 1px 2px rgba(60, 64, 67, 0.3), 0px 1px 3px 1px rgba(60, 64, 67, 0.15);\n",
              "      fill: #174EA6;\n",
              "    }\n",
              "\n",
              "    [theme=dark] .colab-df-convert {\n",
              "      background-color: #3B4455;\n",
              "      fill: #D2E3FC;\n",
              "    }\n",
              "\n",
              "    [theme=dark] .colab-df-convert:hover {\n",
              "      background-color: #434B5C;\n",
              "      box-shadow: 0px 1px 3px 1px rgba(0, 0, 0, 0.15);\n",
              "      filter: drop-shadow(0px 1px 2px rgba(0, 0, 0, 0.3));\n",
              "      fill: #FFFFFF;\n",
              "    }\n",
              "  </style>\n",
              "\n",
              "      <script>\n",
              "        const buttonEl =\n",
              "          document.querySelector('#df-6ba93faa-ed11-4215-aec0-c085bda7b96b button.colab-df-convert');\n",
              "        buttonEl.style.display =\n",
              "          google.colab.kernel.accessAllowed ? 'block' : 'none';\n",
              "\n",
              "        async function convertToInteractive(key) {\n",
              "          const element = document.querySelector('#df-6ba93faa-ed11-4215-aec0-c085bda7b96b');\n",
              "          const dataTable =\n",
              "            await google.colab.kernel.invokeFunction('convertToInteractive',\n",
              "                                                     [key], {});\n",
              "          if (!dataTable) return;\n",
              "\n",
              "          const docLinkHtml = 'Like what you see? Visit the ' +\n",
              "            '<a target=\"_blank\" href=https://colab.research.google.com/notebooks/data_table.ipynb>data table notebook</a>'\n",
              "            + ' to learn more about interactive tables.';\n",
              "          element.innerHTML = '';\n",
              "          dataTable['output_type'] = 'display_data';\n",
              "          await google.colab.output.renderOutput(dataTable, element);\n",
              "          const docLink = document.createElement('div');\n",
              "          docLink.innerHTML = docLinkHtml;\n",
              "          element.appendChild(docLink);\n",
              "        }\n",
              "      </script>\n",
              "    </div>\n",
              "  </div>\n",
              "  "
            ]
          },
          "metadata": {},
          "execution_count": 21
        }
      ]
    },
    {
      "cell_type": "code",
      "source": [
        "features = house.iloc[:, :-1]\n",
        "target = house.iloc[:, -1]"
      ],
      "metadata": {
        "id": "HO7BdVEJFafD"
      },
      "execution_count": null,
      "outputs": []
    },
    {
      "cell_type": "code",
      "source": [
        "sc = StandardScaler()\n",
        "features = sc.fit_transform(features)\n",
        "target = target.to_numpy(target)"
      ],
      "metadata": {
        "id": "H6zuGdOPQp1g"
      },
      "execution_count": null,
      "outputs": []
    },
    {
      "cell_type": "code",
      "source": [
        "X_train, X_test, y_train, y_test = train_test_split(features, target, train_size=0.2, random_state=42)\n",
        "print(X_train.shape, X_test.shape, y_train.shape, y_test.shape)"
      ],
      "metadata": {
        "colab": {
          "base_uri": "https://localhost:8080/"
        },
        "id": "9XxYlPM1JsjD",
        "outputId": "ec5b5f28-3a0f-4dbf-9998-332912884750"
      },
      "execution_count": null,
      "outputs": [
        {
          "output_type": "stream",
          "name": "stdout",
          "text": [
            "(101, 13) (405, 13) (101,) (405,)\n"
          ]
        }
      ]
    },
    {
      "cell_type": "code",
      "source": [
        "X_train = torch.tensor(X_train)\n",
        "X_test = torch.tensor(X_test)\n",
        "y_train = torch.tensor(y_train)\n",
        "y_test = torch.tensor(y_test)"
      ],
      "metadata": {
        "id": "3wrPYnrAKENa"
      },
      "execution_count": null,
      "outputs": []
    },
    {
      "cell_type": "code",
      "source": [
        "batch_size = 10"
      ],
      "metadata": {
        "id": "hQyW6rSZLApq"
      },
      "execution_count": null,
      "outputs": []
    },
    {
      "cell_type": "code",
      "source": [
        "dataset = TensorDataset(X_train, y_train)\n",
        "data_iter = DataLoader(dataset, batch_size, shuffle=True)"
      ],
      "metadata": {
        "id": "SYnmygV8Ksli"
      },
      "execution_count": null,
      "outputs": []
    },
    {
      "cell_type": "code",
      "source": [
        "model = torch.nn.Sequential(torch.nn.Linear(X_train.shape[1], 1))\n",
        "loss = torch.nn.MSELoss(reduction='mean')\n",
        "trainer = torch.optim.SGD(model.parameters(), lr=0.001)"
      ],
      "metadata": {
        "id": "p-UPqM1_LEl6"
      },
      "execution_count": null,
      "outputs": []
    },
    {
      "cell_type": "code",
      "source": [
        "num_epochs = 100\n",
        "for epoch in range(1, num_epochs + 1):\n",
        "    for X, y in data_iter:\n",
        "\n",
        "        X = X.to(torch.float32)\n",
        "        y = y.to(torch.float32)\n",
        "\n",
        "        trainer.zero_grad()\n",
        "\n",
        "        l = loss(model(X).reshape(-1), y)\n",
        "\n",
        "        l.backward()\n",
        "        \n",
        "        trainer.step()\n",
        "    l = loss(model(X_test.to(torch.float32)).reshape(-1), y_test.to(torch.float32))\n",
        "    if epoch % 5 == 0:\n",
        "        print(f'Epoch: {epoch}')\n",
        "        print(f'loss: {l.item()}')\n",
        "        print(f'weight: {model[0].weight.data}')\n",
        "        print(f'bias: {model[0].bias.data}')\n",
        "        print('-'*30)"
      ],
      "metadata": {
        "colab": {
          "base_uri": "https://localhost:8080/"
        },
        "id": "uf2BMmmSLrSa",
        "outputId": "af8ebcce-d487-41c3-a799-80f41fcf8c87"
      },
      "execution_count": null,
      "outputs": [
        {
          "output_type": "stream",
          "name": "stdout",
          "text": [
            "Epoch: 5\n",
            "loss: 469.1436767578125\n",
            "weight: tensor([[-0.5716, -0.1468, -0.0028,  0.2759, -0.2680,  0.5581, -0.2191, -0.1062,\n",
            "         -0.4275, -0.3355, -0.5003,  0.2384, -0.6879]])\n",
            "bias: tensor([2.2544])\n",
            "------------------------------\n",
            "Epoch: 10\n",
            "loss: 378.2428894042969\n",
            "weight: tensor([[-0.8231, -0.1470, -0.0969,  0.3140, -0.3255,  0.8906, -0.4505, -0.0730,\n",
            "         -0.6156, -0.3964, -0.8779,  0.4167, -1.2067]])\n",
            "bias: tensor([4.3209])\n",
            "------------------------------\n",
            "Epoch: 15\n",
            "loss: 305.8080749511719\n",
            "weight: tensor([[-1.0007, -0.1989, -0.0425,  0.4302, -0.2497,  1.3208, -0.5161, -0.1975,\n",
            "         -0.6826, -0.3960, -1.3036,  0.5326, -1.6856]])\n",
            "bias: tensor([6.2238])\n",
            "------------------------------\n",
            "Epoch: 20\n",
            "loss: 252.1744842529297\n",
            "weight: tensor([[-1.1434, -0.1974, -0.0286,  0.4616, -0.0973,  1.5027, -0.5740, -0.3094,\n",
            "         -0.7425, -0.3529, -1.6064,  0.5785, -2.0114]])\n",
            "bias: tensor([7.8731])\n",
            "------------------------------\n",
            "Epoch: 25\n",
            "loss: 208.03211975097656\n",
            "weight: tensor([[-1.2557, -0.1967, -0.1373,  0.4884, -0.0076,  1.8378, -0.6066, -0.4068,\n",
            "         -0.7689, -0.3759, -1.9582,  0.6300, -2.3108]])\n",
            "bias: tensor([9.3717])\n",
            "------------------------------\n",
            "Epoch: 30\n",
            "loss: 171.75743103027344\n",
            "weight: tensor([[-1.2926, -0.2002, -0.1251,  0.7880,  0.1185,  1.9770, -0.6174, -0.5685,\n",
            "         -0.6379, -0.2133, -2.0885,  0.6473, -2.5836]])\n",
            "bias: tensor([10.7549])\n",
            "------------------------------\n",
            "Epoch: 35\n",
            "loss: 144.0761260986328\n",
            "weight: tensor([[-1.2721, -0.2308, -0.0828,  0.8854,  0.2401,  2.0739, -0.6133, -0.7119,\n",
            "         -0.5112, -0.0820, -2.1578,  0.5887, -2.7424]])\n",
            "bias: tensor([11.9498])\n",
            "------------------------------\n",
            "Epoch: 40\n",
            "loss: 122.69732666015625\n",
            "weight: tensor([[-1.3295, -0.2469, -0.1074,  0.9331,  0.2424,  2.1533, -0.7014, -0.7377,\n",
            "         -0.4852, -0.0455, -2.2365,  0.6083, -2.8885]])\n",
            "bias: tensor([12.9831])\n",
            "------------------------------\n",
            "Epoch: 45\n",
            "loss: 103.91800689697266\n",
            "weight: tensor([[-1.3821, -0.3159,  0.0171,  0.9195,  0.3053,  2.3794, -0.6757, -0.8456,\n",
            "         -0.4535,  0.0373, -2.4030,  0.5412, -3.0965]])\n",
            "bias: tensor([13.9880])\n",
            "------------------------------\n",
            "Epoch: 50\n",
            "loss: 90.26042938232422\n",
            "weight: tensor([[-1.4115, -0.3123,  0.0214,  0.9323,  0.3188,  2.4386, -0.7256, -0.8641,\n",
            "         -0.3900,  0.1201, -2.4092,  0.4708, -3.1820]])\n",
            "bias: tensor([14.8030])\n",
            "------------------------------\n",
            "Epoch: 55\n",
            "loss: 79.09899139404297\n",
            "weight: tensor([[-1.4220, -0.3411,  0.0394,  0.9447,  0.3414,  2.4820, -0.7485, -0.9370,\n",
            "         -0.3168,  0.2014, -2.4219,  0.4667, -3.2478]])\n",
            "bias: tensor([15.5414])\n",
            "------------------------------\n",
            "Epoch: 60\n",
            "loss: 69.71260833740234\n",
            "weight: tensor([[-1.4602, -0.3147,  0.0249,  0.9521,  0.3091,  2.4834, -0.8646, -0.9470,\n",
            "         -0.3196,  0.2259, -2.4152,  0.4871, -3.2374]])\n",
            "bias: tensor([16.2307])\n",
            "------------------------------\n",
            "Epoch: 65\n",
            "loss: 62.4171257019043\n",
            "weight: tensor([[-1.4439, -0.3398,  0.0916,  0.9664,  0.3422,  2.5026, -0.8519, -1.0322,\n",
            "         -0.2699,  0.2768, -2.3992,  0.4792, -3.2431]])\n",
            "bias: tensor([16.8325])\n",
            "------------------------------\n",
            "Epoch: 70\n",
            "loss: 56.17023468017578\n",
            "weight: tensor([[-1.3638, -0.3562,  0.1413,  1.1710,  0.3851,  2.5148, -0.8141, -1.1574,\n",
            "         -0.1460,  0.3974, -2.3955,  0.4604, -3.3251]])\n",
            "bias: tensor([17.4309])\n",
            "------------------------------\n",
            "Epoch: 75\n",
            "loss: 50.660701751708984\n",
            "weight: tensor([[-1.4051, -0.3004,  0.0740,  1.1670,  0.3300,  2.5906, -0.8769, -1.1509,\n",
            "         -0.1717,  0.3792, -2.4720,  0.5072, -3.4035]])\n",
            "bias: tensor([17.9190])\n",
            "------------------------------\n",
            "Epoch: 80\n",
            "loss: 46.782989501953125\n",
            "weight: tensor([[-1.4153, -0.3002,  0.0745,  1.1708,  0.3162,  2.6165, -0.8910, -1.1748,\n",
            "         -0.1473,  0.4033, -2.4619,  0.5334, -3.4234]])\n",
            "bias: tensor([18.3363])\n",
            "------------------------------\n",
            "Epoch: 85\n",
            "loss: 43.6269416809082\n",
            "weight: tensor([[-1.4172, -0.2970,  0.0751,  1.1616,  0.2841,  2.6573, -0.9244, -1.1978,\n",
            "         -0.1206,  0.4300, -2.4540,  0.5530, -3.4533]])\n",
            "bias: tensor([18.6947])\n",
            "------------------------------\n",
            "Epoch: 90\n",
            "loss: 41.013160705566406\n",
            "weight: tensor([[-1.4199, -0.3003,  0.0786,  1.1700,  0.2620,  2.6859, -0.9317, -1.2220,\n",
            "         -0.1000,  0.4506, -2.4470,  0.5611, -3.4606]])\n",
            "bias: tensor([19.0296])\n",
            "------------------------------\n",
            "Epoch: 95\n",
            "loss: 38.943626403808594\n",
            "weight: tensor([[-1.4180, -0.2907,  0.0868,  1.1762,  0.2478,  2.7203, -0.9365, -1.2507,\n",
            "         -0.0745,  0.4724, -2.4437,  0.5667, -3.4690]])\n",
            "bias: tensor([19.3162])\n",
            "------------------------------\n",
            "Epoch: 100\n",
            "loss: 37.099388122558594\n",
            "weight: tensor([[-1.4212, -0.2780,  0.0855,  1.1378,  0.2010,  2.7571, -0.9530, -1.2661,\n",
            "         -0.0826,  0.4635, -2.4519,  0.5826, -3.4825]])\n",
            "bias: tensor([19.5690])\n",
            "------------------------------\n"
          ]
        }
      ]
    },
    {
      "cell_type": "markdown",
      "source": [
        "Задание 2 (дополнительное и необязательное)\n",
        "\n",
        "Реализуйте наивный байесовский классификатор для MNIST (можно взять всего две цифры “1” и “2”)\n",
        "Сравните качество с качеством реализации из библиотеки scikit-learn (naive_bayes).\n"
      ],
      "metadata": {
        "id": "9RiAIER8WVbA"
      }
    },
    {
      "cell_type": "code",
      "source": [
        "from sklearn.naive_bayes import GaussianNB\n",
        "from sklearn.preprocessing import LabelEncoder\n",
        "import torchvision as tv\n",
        "from sklearn.metrics import accuracy_score"
      ],
      "metadata": {
        "id": "_mqh-ESmMUfS"
      },
      "execution_count": null,
      "outputs": []
    },
    {
      "cell_type": "code",
      "source": [
        "train_ds = tv.datasets.MNIST('.',\n",
        "                             train=True,\n",
        "                             transform=tv.transforms.ToTensor(),\n",
        "                             download=True)\n",
        "\n",
        "test_ds = tv.datasets.MNIST('.',\n",
        "                            train=False,\n",
        "                            transform=tv.transforms.ToTensor(),\n",
        "                            download=True)"
      ],
      "metadata": {
        "id": "HmLXjrfEWfOq"
      },
      "execution_count": null,
      "outputs": []
    },
    {
      "cell_type": "code",
      "source": [
        "indices_train = (train_ds.targets == 1) | (train_ds.targets == 2)\n",
        "indices_test = (test_ds.targets == 1) | (test_ds.targets == 2)"
      ],
      "metadata": {
        "id": "frx7bjGmYU_x"
      },
      "execution_count": null,
      "outputs": []
    },
    {
      "cell_type": "code",
      "source": [
        "train_ds.data, train_ds.targets = train_ds.data[indices_train], train_ds.targets[indices_train]\n",
        "test_ds.data, test_ds.targets = test_ds.data[indices_test], test_ds.targets[indices_test]"
      ],
      "metadata": {
        "id": "BJWrH0zGZTOJ"
      },
      "execution_count": null,
      "outputs": []
    },
    {
      "cell_type": "code",
      "source": [
        "train_ds.data.shape, train_ds.targets.shape, test_ds.data.shape, test_ds.targets.shape"
      ],
      "metadata": {
        "colab": {
          "base_uri": "https://localhost:8080/"
        },
        "id": "b-4PdUJUdjnw",
        "outputId": "93253965-8661-4f50-8e8b-f59bef431f31"
      },
      "execution_count": null,
      "outputs": [
        {
          "output_type": "execute_result",
          "data": {
            "text/plain": [
              "(torch.Size([12700, 28, 28]),\n",
              " torch.Size([12700]),\n",
              " torch.Size([2167, 28, 28]),\n",
              " torch.Size([2167]))"
            ]
          },
          "metadata": {},
          "execution_count": 255
        }
      ]
    },
    {
      "cell_type": "code",
      "source": [
        "train_data = train_ds.data.reshape(train_ds.data.shape[0],-1)\n",
        "test_data = test_ds.data.reshape(test_ds.data.shape[0],-1)"
      ],
      "metadata": {
        "id": "yjtPZTaarlmu"
      },
      "execution_count": null,
      "outputs": []
    },
    {
      "cell_type": "code",
      "source": [
        "X_train = train_data.numpy()\n",
        "y_train = train_ds.targets.numpy()\n",
        "X_test = test_data.numpy()\n",
        "y_test = test_ds.targets.numpy()\n",
        "\n",
        "X_train.shape, y_train.shape, X_test.shape, y_test.shape"
      ],
      "metadata": {
        "colab": {
          "base_uri": "https://localhost:8080/"
        },
        "id": "8_y02XuJpyH_",
        "outputId": "007fdda4-22e5-4a0f-d3a7-f0c735bbd28a"
      },
      "execution_count": null,
      "outputs": [
        {
          "output_type": "execute_result",
          "data": {
            "text/plain": [
              "((12700, 784), (12700,), (2167, 784), (2167,))"
            ]
          },
          "metadata": {},
          "execution_count": 284
        }
      ]
    },
    {
      "cell_type": "code",
      "source": [
        "clf = GaussianNB()\n",
        "clf.fit(X_train, y_train)\n",
        "print(accuracy_score(y_test, clf.predict(X_test)))"
      ],
      "metadata": {
        "colab": {
          "base_uri": "https://localhost:8080/"
        },
        "id": "R-3WBoL8g3Zi",
        "outputId": "65656883-5aba-46d6-a76b-885141c13afa"
      },
      "execution_count": null,
      "outputs": [
        {
          "output_type": "stream",
          "name": "stdout",
          "text": [
            "0.9616982002768805\n"
          ]
        }
      ]
    },
    {
      "cell_type": "code",
      "source": [
        "class NB:\n",
        "\n",
        "  def fit(self, X, y):\n",
        "    n_examples, n_features = X.shape\n",
        "    self.classes = np.unique(y)\n",
        "    n_classes = len(self.classes)\n",
        "\n",
        "    self.mean = np.zeros((n_classes, n_features))\n",
        "    self.var = np.zeros((n_classes, n_features))\n",
        "    self.prior = np.zeros(n_classes)\n",
        "\n",
        "    for id, cla in enumerate(self.classes):\n",
        "      X_c = X[y == cla]\n",
        "      self.mean[id, :] = X_c.mean(axis=0)\n",
        "      self.var[id, :] = X_c.var(axis=0)\n",
        "      self.prior[id] = X_c.shape[0] / float(n_examples)\n",
        "  \n",
        "  def predict(self, X):\n",
        "    y_pred = [self._predict(x) for x in X]\n",
        "    return np.array(y_pred)\n",
        "\n",
        "  def _predict(self, x):\n",
        "    posteriors = []\n",
        "\n",
        "    for id, c in enumerate(self.classes):\n",
        "      prior = np.log(self.prior[id])\n",
        "      posterior = np.sum(np.log(self._pdf(id, x)))\n",
        "      posterior = posterior + prior\n",
        "      posteriors.append(posterior)\n",
        "    return self.classes[np.argmax(posteriors)]\n",
        "\n",
        "  def _pdf(self, cla_id, x):\n",
        "    mean = self.mean[cla_id]\n",
        "    var = self.var[cla_id]\n",
        "    numerator = np.exp(-((x - mean) ** 2) / (2 * var))\n",
        "    denom = np.sqrt(2 * np.pi * var)\n",
        "    return numerator / denom"
      ],
      "metadata": {
        "id": "i3avOX6Ug3cG"
      },
      "execution_count": null,
      "outputs": []
    },
    {
      "cell_type": "code",
      "source": [
        "cl = NB()\n",
        "cl.fit(X_train, y_train)\n",
        "print(accuracy_score(y_test, cl.predict(X_test)))"
      ],
      "metadata": {
        "colab": {
          "base_uri": "https://localhost:8080/"
        },
        "id": "njj61xfNzQ9m",
        "outputId": "9c7023c3-5460-4bf0-b4a9-33dd4738d433"
      },
      "execution_count": null,
      "outputs": [
        {
          "output_type": "stream",
          "name": "stdout",
          "text": [
            "0.5237655745269958\n"
          ]
        },
        {
          "output_type": "stream",
          "name": "stderr",
          "text": [
            "<ipython-input-374-6d679fe350f2>:35: RuntimeWarning: invalid value encountered in true_divide\n",
            "  numerator = np.exp(-((x - mean) ** 2) / (2 * var))\n",
            "<ipython-input-374-6d679fe350f2>:27: RuntimeWarning: divide by zero encountered in log\n",
            "  posterior = np.sum(np.log(self._pdf(id, x)))\n",
            "<ipython-input-374-6d679fe350f2>:35: RuntimeWarning: divide by zero encountered in true_divide\n",
            "  numerator = np.exp(-((x - mean) ** 2) / (2 * var))\n",
            "<ipython-input-374-6d679fe350f2>:37: RuntimeWarning: invalid value encountered in true_divide\n",
            "  return numerator / denom\n"
          ]
        }
      ]
    },
    {
      "cell_type": "code",
      "source": [],
      "metadata": {
        "id": "EG_PC-LGIWPE"
      },
      "execution_count": null,
      "outputs": []
    }
  ]
}