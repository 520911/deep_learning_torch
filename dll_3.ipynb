{
  "nbformat": 4,
  "nbformat_minor": 0,
  "metadata": {
    "colab": {
      "provenance": [],
      "gpuType": "T4"
    },
    "kernelspec": {
      "name": "python3",
      "display_name": "Python 3"
    },
    "language_info": {
      "name": "python"
    },
    "accelerator": "GPU"
  },
  "cells": [
    {
      "cell_type": "markdown",
      "source": [
        "Постройте модель, используя архитектуру со свёрточными слоями, для классификации Fashion MNIST. Итоговое качество (accuracy) должно быть не ниже 89,5."
      ],
      "metadata": {
        "id": "boFSWalw3DCY"
      }
    },
    {
      "cell_type": "code",
      "source": [
        "import torch\n",
        "import torchvision as tv\n",
        "from torchsummary import summary\n",
        "import time"
      ],
      "metadata": {
        "id": "3WZTl6113G0A"
      },
      "execution_count": null,
      "outputs": []
    },
    {
      "cell_type": "code",
      "source": [
        "train_ds = tv.datasets.FashionMNIST('.',\n",
        "                                    train=True,\n",
        "                                    transform=tv.transforms.ToTensor(),\n",
        "                                    download=True)\n",
        "\n",
        "test_ds = tv.datasets.FashionMNIST('.',\n",
        "                                  train=False,\n",
        "                                  transform=tv.transforms.ToTensor(),\n",
        "                                  download=True)"
      ],
      "metadata": {
        "colab": {
          "base_uri": "https://localhost:8080/"
        },
        "id": "YlMt1Fsd3KKg",
        "outputId": "42f5f3dc-3922-4504-bb5f-c71f7ddd2f52"
      },
      "execution_count": null,
      "outputs": [
        {
          "output_type": "stream",
          "name": "stdout",
          "text": [
            "Downloading http://fashion-mnist.s3-website.eu-central-1.amazonaws.com/train-images-idx3-ubyte.gz\n",
            "Downloading http://fashion-mnist.s3-website.eu-central-1.amazonaws.com/train-images-idx3-ubyte.gz to ./FashionMNIST/raw/train-images-idx3-ubyte.gz\n"
          ]
        },
        {
          "output_type": "stream",
          "name": "stderr",
          "text": [
            "100%|██████████| 26421880/26421880 [00:03<00:00, 7682427.94it/s] \n"
          ]
        },
        {
          "output_type": "stream",
          "name": "stdout",
          "text": [
            "Extracting ./FashionMNIST/raw/train-images-idx3-ubyte.gz to ./FashionMNIST/raw\n",
            "\n",
            "Downloading http://fashion-mnist.s3-website.eu-central-1.amazonaws.com/train-labels-idx1-ubyte.gz\n",
            "Downloading http://fashion-mnist.s3-website.eu-central-1.amazonaws.com/train-labels-idx1-ubyte.gz to ./FashionMNIST/raw/train-labels-idx1-ubyte.gz\n"
          ]
        },
        {
          "output_type": "stream",
          "name": "stderr",
          "text": [
            "100%|██████████| 29515/29515 [00:00<00:00, 143235.03it/s]\n"
          ]
        },
        {
          "output_type": "stream",
          "name": "stdout",
          "text": [
            "Extracting ./FashionMNIST/raw/train-labels-idx1-ubyte.gz to ./FashionMNIST/raw\n",
            "\n",
            "Downloading http://fashion-mnist.s3-website.eu-central-1.amazonaws.com/t10k-images-idx3-ubyte.gz\n",
            "Downloading http://fashion-mnist.s3-website.eu-central-1.amazonaws.com/t10k-images-idx3-ubyte.gz to ./FashionMNIST/raw/t10k-images-idx3-ubyte.gz\n"
          ]
        },
        {
          "output_type": "stream",
          "name": "stderr",
          "text": [
            "100%|██████████| 4422102/4422102 [00:01<00:00, 2663935.86it/s]\n"
          ]
        },
        {
          "output_type": "stream",
          "name": "stdout",
          "text": [
            "Extracting ./FashionMNIST/raw/t10k-images-idx3-ubyte.gz to ./FashionMNIST/raw\n",
            "\n",
            "Downloading http://fashion-mnist.s3-website.eu-central-1.amazonaws.com/t10k-labels-idx1-ubyte.gz\n",
            "Downloading http://fashion-mnist.s3-website.eu-central-1.amazonaws.com/t10k-labels-idx1-ubyte.gz to ./FashionMNIST/raw/t10k-labels-idx1-ubyte.gz\n"
          ]
        },
        {
          "output_type": "stream",
          "name": "stderr",
          "text": [
            "100%|██████████| 5148/5148 [00:00<00:00, 6581004.87it/s]"
          ]
        },
        {
          "output_type": "stream",
          "name": "stdout",
          "text": [
            "Extracting ./FashionMNIST/raw/t10k-labels-idx1-ubyte.gz to ./FashionMNIST/raw\n",
            "\n"
          ]
        },
        {
          "output_type": "stream",
          "name": "stderr",
          "text": [
            "\n"
          ]
        }
      ]
    },
    {
      "cell_type": "code",
      "source": [
        "batch_size = 128\n",
        "train = torch.utils.data.DataLoader(train_ds, batch_size=batch_size)\n",
        "test = torch.utils.data.DataLoader(train_ds, batch_size=batch_size)"
      ],
      "metadata": {
        "id": "s72GmMnU3KXX"
      },
      "execution_count": null,
      "outputs": []
    },
    {
      "cell_type": "code",
      "source": [
        "model = torch.nn.Sequential(\n",
        "  torch.nn.Conv2d(1, 32, kernel_size=3),\n",
        "  torch.nn.BatchNorm2d(32),\n",
        "  torch.nn.ReLU(),\n",
        "  torch.nn.MaxPool2d(2),\n",
        "  torch.nn.Dropout2d(0.2),\n",
        "  torch.nn.Conv2d(32, 64, kernel_size=3),\n",
        "  torch.nn.BatchNorm2d(64),\n",
        "  torch.nn.ReLU(),\n",
        "  torch.nn.MaxPool2d(2),\n",
        "  torch.nn.Dropout2d(0.2),\n",
        "  torch.nn.Conv2d(64, 256, kernel_size=3),\n",
        "  torch.nn.BatchNorm2d(256),\n",
        "  torch.nn.ReLU(),\n",
        "  torch.nn.MaxPool2d(2),\n",
        "  torch.nn.Dropout2d(0.2),\n",
        "  torch.nn.Flatten(),\n",
        "  torch.nn.Linear(256, 128),\n",
        "  torch.nn.ReLU(),\n",
        "  torch.nn.Linear(128, 10)\n",
        ")"
      ],
      "metadata": {
        "id": "yuC8lka_3LwP"
      },
      "execution_count": null,
      "outputs": []
    },
    {
      "cell_type": "code",
      "source": [
        "device = \"cuda\" if torch.cuda.is_available() else \"cpu\"\n",
        "device"
      ],
      "metadata": {
        "colab": {
          "base_uri": "https://localhost:8080/",
          "height": 35
        },
        "id": "pUnsHIGV-FSN",
        "outputId": "c13618e3-6c1e-4b94-b1bf-766a697f283b"
      },
      "execution_count": null,
      "outputs": [
        {
          "output_type": "execute_result",
          "data": {
            "text/plain": [
              "'cuda'"
            ],
            "application/vnd.google.colaboratory.intrinsic+json": {
              "type": "string"
            }
          },
          "metadata": {},
          "execution_count": 6
        }
      ]
    },
    {
      "cell_type": "code",
      "source": [
        "model = model.to(device)"
      ],
      "metadata": {
        "id": "SCmXyCxr-Ynw"
      },
      "execution_count": null,
      "outputs": []
    },
    {
      "cell_type": "code",
      "source": [
        "summary(model=model, input_size=(1, 28, 28))"
      ],
      "metadata": {
        "colab": {
          "base_uri": "https://localhost:8080/"
        },
        "id": "sppV65kx5CFA",
        "outputId": "b44baaa0-c6d4-4990-a4ea-69e5073bc03d"
      },
      "execution_count": null,
      "outputs": [
        {
          "output_type": "stream",
          "name": "stdout",
          "text": [
            "----------------------------------------------------------------\n",
            "        Layer (type)               Output Shape         Param #\n",
            "================================================================\n",
            "            Conv2d-1           [-1, 32, 26, 26]             320\n",
            "       BatchNorm2d-2           [-1, 32, 26, 26]              64\n",
            "              ReLU-3           [-1, 32, 26, 26]               0\n",
            "         MaxPool2d-4           [-1, 32, 13, 13]               0\n",
            "         Dropout2d-5           [-1, 32, 13, 13]               0\n",
            "            Conv2d-6           [-1, 64, 11, 11]          18,496\n",
            "       BatchNorm2d-7           [-1, 64, 11, 11]             128\n",
            "              ReLU-8           [-1, 64, 11, 11]               0\n",
            "         MaxPool2d-9             [-1, 64, 5, 5]               0\n",
            "        Dropout2d-10             [-1, 64, 5, 5]               0\n",
            "           Conv2d-11            [-1, 256, 3, 3]         147,712\n",
            "      BatchNorm2d-12            [-1, 256, 3, 3]             512\n",
            "             ReLU-13            [-1, 256, 3, 3]               0\n",
            "        MaxPool2d-14            [-1, 256, 1, 1]               0\n",
            "        Dropout2d-15            [-1, 256, 1, 1]               0\n",
            "          Flatten-16                  [-1, 256]               0\n",
            "           Linear-17                  [-1, 128]          32,896\n",
            "             ReLU-18                  [-1, 128]               0\n",
            "           Linear-19                   [-1, 10]           1,290\n",
            "================================================================\n",
            "Total params: 201,418\n",
            "Trainable params: 201,418\n",
            "Non-trainable params: 0\n",
            "----------------------------------------------------------------\n",
            "Input size (MB): 0.00\n",
            "Forward/backward pass size (MB): 0.84\n",
            "Params size (MB): 0.77\n",
            "Estimated Total Size (MB): 1.61\n",
            "----------------------------------------------------------------\n"
          ]
        }
      ]
    },
    {
      "cell_type": "code",
      "source": [
        "loss = torch.nn.CrossEntropyLoss()\n",
        "trainer = torch.optim.Adam(model.parameters(), lr=0.001)"
      ],
      "metadata": {
        "id": "xLqGQg077sDi"
      },
      "execution_count": null,
      "outputs": []
    },
    {
      "cell_type": "code",
      "source": [
        "def train_model(epochs, batch_size, model, trainer, loss, train_ds, test_ds):\n",
        "\n",
        "  for ep in range(epochs):\n",
        "\n",
        "    train_iter, train_pass = 0, 0\n",
        "    train_loss, train_acc = 0., 0.\n",
        "\n",
        "    start = time.time()\n",
        "\n",
        "    model.train()\n",
        "\n",
        "    for X, y in train_ds:\n",
        "      X, y = X.to(device), y.to(device)\n",
        "      trainer.zero_grad()\n",
        "      y_pred = model(X)\n",
        "      l = loss(y_pred, y)\n",
        "      l.backward()\n",
        "      trainer.step()\n",
        "      train_loss += l.item()\n",
        "      train_acc += (y_pred.argmax(dim=1) == y).sum().item()\n",
        "      train_iter += 1\n",
        "      train_pass += len(X)\n",
        "\n",
        "    test_iter, test_pass  = 0, 0\n",
        "    test_loss, test_acc = 0., 0.\n",
        "\n",
        "    model.eval()\n",
        "\n",
        "    for X, y in test_ds:\n",
        "      X, y = X.to(device), y.to(device)\n",
        "      y_pred = model(X)\n",
        "      l = loss(y_pred, y)\n",
        "      test_loss += l.item()\n",
        "      test_acc += (y_pred.argmax(dim=1) == y).sum().item()\n",
        "      test_iter += 1\n",
        "      test_pass += len(X)\n",
        "\n",
        "    print(f\"epoch: {ep}\",\n",
        "          f\"time: {time.time() - start}\",\n",
        "          f\"train_loss: {train_loss / train_iter}\",\n",
        "          f\"train_acc: {train_acc / train_pass}\",\n",
        "          f\"test_loss: {test_loss / test_iter}\",\n",
        "          f\"test_acc: {test_acc / test_pass}\")"
      ],
      "metadata": {
        "id": "CGl8cjQj5dvI"
      },
      "execution_count": null,
      "outputs": []
    },
    {
      "cell_type": "code",
      "source": [
        "train_model(epochs=10, batch_size=batch_size, model=model, trainer=trainer, loss=loss, train_ds=train, test_ds=test)"
      ],
      "metadata": {
        "colab": {
          "base_uri": "https://localhost:8080/"
        },
        "id": "Yy1ztFu774FZ",
        "outputId": "246f7c1c-eeb8-40f5-9b6d-45351a9432aa"
      },
      "execution_count": null,
      "outputs": [
        {
          "output_type": "stream",
          "name": "stdout",
          "text": [
            "epoch: 0 time: 19.621450662612915 train_loss: 0.20638627398497006 train_acc: 0.9226 test_loss: 0.13968900502172868 test_acc: 0.94645\n",
            "epoch: 1 time: 18.927807807922363 train_loss: 0.20246334737742633 train_acc: 0.9235333333333333 test_loss: 0.13701302894174672 test_acc: 0.9483333333333334\n",
            "epoch: 2 time: 20.349509954452515 train_loss: 0.1994731322661646 train_acc: 0.9242333333333334 test_loss: 0.133402945366559 test_acc: 0.9492833333333334\n",
            "epoch: 3 time: 19.868161916732788 train_loss: 0.19505740627487586 train_acc: 0.9265 test_loss: 0.1279456320443133 test_acc: 0.95195\n",
            "epoch: 4 time: 18.951786756515503 train_loss: 0.18980045961355096 train_acc: 0.9272666666666667 test_loss: 0.1323106326798259 test_acc: 0.9494666666666667\n",
            "epoch: 5 time: 19.49898934364319 train_loss: 0.18811474392599642 train_acc: 0.9287166666666666 test_loss: 0.12187795900999865 test_acc: 0.95465\n",
            "epoch: 6 time: 18.90048384666443 train_loss: 0.18687237661752873 train_acc: 0.9281666666666667 test_loss: 0.12858419943211682 test_acc: 0.9506166666666667\n",
            "epoch: 7 time: 20.528825044631958 train_loss: 0.18497067810629986 train_acc: 0.9306333333333333 test_loss: 0.1165015636714918 test_acc: 0.9562666666666667\n",
            "epoch: 8 time: 19.525383234024048 train_loss: 0.1815257605745086 train_acc: 0.9313666666666667 test_loss: 0.11256083923934111 test_acc: 0.95785\n",
            "epoch: 9 time: 18.966404914855957 train_loss: 0.1784277830614464 train_acc: 0.9319666666666667 test_loss: 0.10786013166183855 test_acc: 0.9588166666666667\n"
          ]
        }
      ]
    },
    {
      "cell_type": "code",
      "source": [],
      "metadata": {
        "id": "SkdwEBNf75C5"
      },
      "execution_count": null,
      "outputs": []
    }
  ]
}