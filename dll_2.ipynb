{
  "nbformat": 4,
  "nbformat_minor": 0,
  "metadata": {
    "colab": {
      "provenance": [],
      "gpuType": "T4"
    },
    "kernelspec": {
      "name": "python3",
      "display_name": "Python 3"
    },
    "language_info": {
      "name": "python"
    },
    "accelerator": "GPU"
  },
  "cells": [
    {
      "cell_type": "markdown",
      "source": [
        "Задание\n",
        "\n",
        "Постройте модель на основе полносвязных слоёв для классификации Fashion MNIST из библиотеки torchvision (datasets).\n",
        "Получите качество на тестовой выборке не ниже 88%\n"
      ],
      "metadata": {
        "id": "2KyYT5dE8VPp"
      }
    },
    {
      "cell_type": "code",
      "source": [
        "import torch\n",
        "import torchvision as tv\n",
        "import time"
      ],
      "metadata": {
        "id": "MAEoBW9E8Z7M"
      },
      "execution_count": null,
      "outputs": []
    },
    {
      "cell_type": "code",
      "source": [
        "train_ds = tv.datasets.FashionMNIST('.',\n",
        "                                    train=True,\n",
        "                                    transform=tv.transforms.ToTensor(),\n",
        "                                    download=True)\n",
        "\n",
        "test_ds = tv.datasets.FashionMNIST('.',\n",
        "                                  train=False,\n",
        "                                  transform=tv.transforms.ToTensor(),\n",
        "                                  download=True)"
      ],
      "metadata": {
        "id": "nlZ_7Knr8n5c"
      },
      "execution_count": null,
      "outputs": []
    },
    {
      "cell_type": "code",
      "source": [
        "batch_size = 128"
      ],
      "metadata": {
        "id": "7eozU3Cr9MbU"
      },
      "execution_count": null,
      "outputs": []
    },
    {
      "cell_type": "code",
      "source": [
        "train = torch.utils.data.DataLoader(train_ds, batch_size=batch_size)\n",
        "test = torch.utils.data.DataLoader(train_ds, batch_size=batch_size)"
      ],
      "metadata": {
        "id": "kphes9I09SZE"
      },
      "execution_count": null,
      "outputs": []
    },
    {
      "cell_type": "code",
      "source": [
        "model = torch.nn.Sequential(\n",
        "    torch.nn.Flatten(),\n",
        "    torch.nn.Linear(train_ds[0][0].shape[1] * train_ds[0][0].shape[2], 1024),\n",
        "    torch.nn.BatchNorm1d(1024),\n",
        "    torch.nn.ReLU(),\n",
        "    torch.nn.Dropout(0.2),\n",
        "    torch.nn.Linear(1024, 512),\n",
        "    torch.nn.BatchNorm1d(512),\n",
        "    torch.nn.ReLU(),\n",
        "    torch.nn.Dropout(0.2),\n",
        "    torch.nn.Linear(512, 256),\n",
        "    torch.nn.BatchNorm1d(256),\n",
        "    torch.nn.ReLU(),\n",
        "    torch.nn.Dropout(0.2),\n",
        "    torch.nn.Linear(256, 10)\n",
        ")"
      ],
      "metadata": {
        "id": "Wq2AzMHv9uLs"
      },
      "execution_count": null,
      "outputs": []
    },
    {
      "cell_type": "code",
      "source": [
        "model"
      ],
      "metadata": {
        "colab": {
          "base_uri": "https://localhost:8080/"
        },
        "id": "gmVCxc2F-7Lk",
        "outputId": "5a9401d2-481f-4578-9cf0-8f9ec6f1675b"
      },
      "execution_count": null,
      "outputs": [
        {
          "output_type": "execute_result",
          "data": {
            "text/plain": [
              "Sequential(\n",
              "  (0): Flatten(start_dim=1, end_dim=-1)\n",
              "  (1): Linear(in_features=784, out_features=1024, bias=True)\n",
              "  (2): BatchNorm1d(1024, eps=1e-05, momentum=0.1, affine=True, track_running_stats=True)\n",
              "  (3): ReLU()\n",
              "  (4): Dropout(p=0.2, inplace=False)\n",
              "  (5): Linear(in_features=1024, out_features=512, bias=True)\n",
              "  (6): BatchNorm1d(512, eps=1e-05, momentum=0.1, affine=True, track_running_stats=True)\n",
              "  (7): ReLU()\n",
              "  (8): Dropout(p=0.2, inplace=False)\n",
              "  (9): Linear(in_features=512, out_features=256, bias=True)\n",
              "  (10): BatchNorm1d(256, eps=1e-05, momentum=0.1, affine=True, track_running_stats=True)\n",
              "  (11): ReLU()\n",
              "  (12): Dropout(p=0.2, inplace=False)\n",
              "  (13): Linear(in_features=256, out_features=10, bias=True)\n",
              ")"
            ]
          },
          "metadata": {},
          "execution_count": 28
        }
      ]
    },
    {
      "cell_type": "code",
      "source": [
        "loss = torch.nn.CrossEntropyLoss()\n",
        "trainer = torch.optim.Adam(model.parameters(), lr=0.001)"
      ],
      "metadata": {
        "id": "y5QJyBLs-9O0"
      },
      "execution_count": null,
      "outputs": []
    },
    {
      "cell_type": "code",
      "source": [
        "def train_model(epochs, batch_size, model, trainer, loss, train_ds, test_ds):\n",
        "\n",
        "  for ep in range(epochs):\n",
        "\n",
        "    train_iter, train_pass = 0, 0\n",
        "    train_loss, train_acc = 0., 0.\n",
        "\n",
        "    start = time.time()\n",
        "\n",
        "    model.train()\n",
        "\n",
        "    for X, y in train_ds:\n",
        "      trainer.zero_grad()\n",
        "      y_pred = model(X)\n",
        "      l = loss(y_pred, y)\n",
        "      l.backward()\n",
        "      trainer.step()\n",
        "      train_loss += l.item()\n",
        "      train_acc += (y_pred.argmax(dim=1) == y).sum().item()\n",
        "      train_iter += 1\n",
        "      train_pass += len(X)\n",
        "\n",
        "    test_iter, test_pass  = 0, 0\n",
        "    test_loss, test_acc = 0., 0.\n",
        "\n",
        "    model.eval()\n",
        "\n",
        "    for X, y in test_ds:\n",
        "      y_pred = model(X)\n",
        "      l = loss(y_pred, y)\n",
        "      test_loss += l.item()\n",
        "      test_acc += (y_pred.argmax(dim=1) == y).sum().item()\n",
        "      test_iter += 1\n",
        "      test_pass += len(X)\n",
        "\n",
        "    print(f\"epoch: {ep}\",\n",
        "          f\"time: {time.time() - start}\",\n",
        "          f\"train_loss: {train_loss / train_iter}\",\n",
        "          f\"train_acc: {train_acc / train_pass}\",\n",
        "          f\"test_loss: {test_loss / test_iter}\",\n",
        "          f\"test_acc: {test_acc / test_pass}\")"
      ],
      "metadata": {
        "id": "7pj26UOX_Lkd"
      },
      "execution_count": null,
      "outputs": []
    },
    {
      "cell_type": "code",
      "source": [
        "train_model(epochs=10, batch_size=batch_size, model=model, trainer=trainer, loss=loss, train_ds=train, test_ds=test)"
      ],
      "metadata": {
        "colab": {
          "base_uri": "https://localhost:8080/"
        },
        "id": "HJjyU8qpBhY1",
        "outputId": "6c0a790e-211a-4332-9752-4ca803e2d940"
      },
      "execution_count": null,
      "outputs": [
        {
          "output_type": "stream",
          "name": "stdout",
          "text": [
            "epoch: 0 time: 28.02057194709778 train_loss: 0.4610768539755583 train_acc: 0.8341333333333333 test_loss: 0.3723439749306453 test_acc: 0.8583166666666666\n",
            "epoch: 1 time: 28.212783813476562 train_loss: 0.3542959317088381 train_acc: 0.8698833333333333 test_loss: 0.30947802160213245 test_acc: 0.8839666666666667\n",
            "epoch: 2 time: 28.95626449584961 train_loss: 0.31672504296434967 train_acc: 0.8824166666666666 test_loss: 0.2778182773829015 test_acc: 0.8976666666666666\n",
            "epoch: 3 time: 27.987969875335693 train_loss: 0.29038264677087383 train_acc: 0.8913666666666666 test_loss: 0.2642913027676438 test_acc: 0.9013\n",
            "epoch: 4 time: 27.688534021377563 train_loss: 0.27230854742308414 train_acc: 0.8984166666666666 test_loss: 0.23891326820037004 test_acc: 0.91205\n",
            "epoch: 5 time: 28.251788854599 train_loss: 0.25592262172368546 train_acc: 0.9047333333333333 test_loss: 0.22428731891964035 test_acc: 0.9170166666666667\n",
            "epoch: 6 time: 29.283618927001953 train_loss: 0.23999310502492543 train_acc: 0.9092333333333333 test_loss: 0.2157372139028903 test_acc: 0.9197\n",
            "epoch: 7 time: 28.164607524871826 train_loss: 0.22596043021058732 train_acc: 0.9144666666666666 test_loss: 0.19910766076304512 test_acc: 0.9255666666666666\n",
            "epoch: 8 time: 28.468605041503906 train_loss: 0.21703949028939834 train_acc: 0.9181833333333334 test_loss: 0.19634334442775642 test_acc: 0.9251666666666667\n",
            "epoch: 9 time: 28.84051513671875 train_loss: 0.20312278193514993 train_acc: 0.9236 test_loss: 0.18195779859892594 test_acc: 0.92995\n"
          ]
        }
      ]
    },
    {
      "cell_type": "code",
      "source": [],
      "metadata": {
        "id": "wFzW-wmyDb62"
      },
      "execution_count": null,
      "outputs": []
    }
  ]
}