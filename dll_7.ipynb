{
  "nbformat": 4,
  "nbformat_minor": 0,
  "metadata": {
    "colab": {
      "provenance": [],
      "gpuType": "T4"
    },
    "kernelspec": {
      "name": "python3",
      "display_name": "Python 3"
    },
    "language_info": {
      "name": "python"
    },
    "accelerator": "GPU"
  },
  "cells": [
    {
      "cell_type": "markdown",
      "source": [
        "Задание\n",
        "\n",
        "Сгенерировать последовательности, которые бы состояли из цифр (от 0 до 9)\n",
        "и задавались следующим образом:\n",
        "\n",
        "x - последовательность цифр\n",
        "\n",
        "y1 = x1, y(i) = x(i) + x(1). Если y(i) >= 10, то y(i) = y(i) - 10\n",
        "\n",
        "Задача:\n",
        "научить модель предсказывать y(i) по x(i)\n",
        "пробовать RNN, LSTM, GRU"
      ],
      "metadata": {
        "id": "i-i-4fMOMLYz"
      }
    },
    {
      "cell_type": "code",
      "source": [
        "import torch\n",
        "import re\n",
        "import random\n",
        "import time\n",
        "import numpy as np"
      ],
      "metadata": {
        "id": "UaibVj1fMMC7"
      },
      "execution_count": null,
      "outputs": []
    },
    {
      "cell_type": "code",
      "source": [
        "count_numbers = 5000\n",
        "numbers_1 = 25\n",
        "numbers_2 = 75\n",
        "numbers_3 = 125"
      ],
      "metadata": {
        "id": "KJ5EA9tji6A0"
      },
      "execution_count": null,
      "outputs": []
    },
    {
      "cell_type": "code",
      "source": [
        "x_1 = [[random.randint(0,9) for x in range(numbers_1)] for i in range(count_numbers)]\n",
        "x_2 = [[random.randint(0,9) for x in range(numbers_2)] for i in range(count_numbers)]\n",
        "x_3 = [[random.randint(0,9) for x in range(numbers_3)] for i in range(count_numbers)]"
      ],
      "metadata": {
        "id": "oVYeobNSi6pC"
      },
      "execution_count": null,
      "outputs": []
    },
    {
      "cell_type": "code",
      "source": [
        "y_1 = [[x_1[j][0]] + [x_1[j][0] + x_1[j][i] - 10 if x_1[j][0] + x_1[j][i] >= 10 else x_1[j][0] + x_1[j][i] for i in range(1, len(x_1[j]))] for j in range(len(x_1))]\n",
        "y_2 = [[x_2[j][0]] + [x_2[j][0] + x_2[j][i] - 10 if x_2[j][0] + x_2[j][i] >= 10 else x_2[j][0] + x_2[j][i] for i in range(1, len(x_2[j]))] for j in range(len(x_2))]\n",
        "y_3 = [[x_3[j][0]] + [x_3[j][0] + x_3[j][i] - 10 if x_3[j][0] + x_3[j][i] >= 10 else x_3[j][0] + x_3[j][i] for i in range(1, len(x_3[j]))] for j in range(len(x_3))]"
      ],
      "metadata": {
        "id": "Nn1kV25T0EpI"
      },
      "execution_count": null,
      "outputs": []
    },
    {
      "cell_type": "markdown",
      "source": [
        "Для проверки будем пересоздавать x и y заного рандомно и превращать в тензор"
      ],
      "metadata": {
        "id": "AFWtweOdjGof"
      }
    },
    {
      "cell_type": "code",
      "source": [
        "X_1 = torch.tensor(x_1)\n",
        "Y_1 = torch.tensor(y_1)\n",
        "X_2 = torch.tensor(x_2)\n",
        "Y_2 = torch.tensor(y_2)\n",
        "X_3 = torch.tensor(x_3)\n",
        "Y_3 = torch.tensor(y_3)"
      ],
      "metadata": {
        "id": "tXXerY5i5j0y"
      },
      "execution_count": null,
      "outputs": []
    },
    {
      "cell_type": "code",
      "source": [
        "class NeuralNetwork(torch.nn.Module):\n",
        "    def __init__(self, rnnClass, num_len_size, embedding_size, num_hiddens):\n",
        "        super().__init__()\n",
        "\n",
        "        self.num_hiddens = num_hiddens\n",
        "        self.embedding = torch.nn.Embedding(num_len_size, embedding_size)\n",
        "        self.hidden = rnnClass(embedding_size, num_hiddens, batch_first=True)\n",
        "        self.output = torch.nn.Linear(num_hiddens, num_len_size)\n",
        "\n",
        "    def forward(self, X):\n",
        "        out = self.embedding(X)\n",
        "        out = self.hidden(out)[0]\n",
        "        predictions = self.output(out).squeeze()\n",
        "        return predictions"
      ],
      "metadata": {
        "id": "nYCt_tK96g0l"
      },
      "execution_count": null,
      "outputs": []
    },
    {
      "cell_type": "code",
      "source": [
        "def train_loop(model, optimizer, criterion, X, Y):\n",
        "  for ep in range(300):\n",
        "      start = time.time()\n",
        "      train_loss = 0.\n",
        "      train_passed = 0\n",
        "\n",
        "      model.train()\n",
        "      for X_b, y_b in zip(X, Y):\n",
        "          optimizer.zero_grad()\n",
        "          answers = model.forward(X_b)\n",
        "          loss = criterion(answers, y_b)\n",
        "          train_loss += loss.item()\n",
        "\n",
        "          loss.backward()\n",
        "          optimizer.step()\n",
        "          train_passed += 1\n",
        "          break\n",
        "      if ep % 10 == 0:\n",
        "        print(\"Epoch {}. Time: {:.3f}, Train loss: {:.3f}\".format(ep, time.time() - start, train_loss / train_passed))"
      ],
      "metadata": {
        "id": "VOrhu9GDdf1c"
      },
      "execution_count": null,
      "outputs": []
    },
    {
      "cell_type": "markdown",
      "source": [
        "## RNN\n",
        "Для проверки будем пересоздавать x и y заного рандомно и превращать в тензор"
      ],
      "metadata": {
        "id": "XUvex9ybJY1G"
      }
    },
    {
      "cell_type": "code",
      "source": [
        "model_1 = NeuralNetwork(torch.nn.RNN, 10, 64, 128)\n",
        "model_2 = NeuralNetwork(torch.nn.RNN, 10, 64, 128)\n",
        "model_3 = NeuralNetwork(torch.nn.RNN, 10, 64, 128)"
      ],
      "metadata": {
        "id": "4CpPFjK7Kg2L"
      },
      "execution_count": null,
      "outputs": []
    },
    {
      "cell_type": "code",
      "source": [
        "criterion_1 = torch.nn.CrossEntropyLoss()\n",
        "optimizer_1 = torch.optim.Adam(model_1.parameters(), lr = 1e-3)\n",
        "optimizer_2 = torch.optim.Adam(model_2.parameters(), lr = 1e-3)\n",
        "optimizer_3 = torch.optim.Adam(model_3.parameters(), lr = 1e-3)"
      ],
      "metadata": {
        "id": "LULlCn4h7zpk"
      },
      "execution_count": null,
      "outputs": []
    },
    {
      "cell_type": "code",
      "source": [
        "train_loop(model_1, optimizer_1, criterion_1, X_1, Y_1)"
      ],
      "metadata": {
        "colab": {
          "base_uri": "https://localhost:8080/"
        },
        "id": "vdPNyWk2KCfb",
        "outputId": "8942ea36-2eb2-4673-b67d-72fffe71e997"
      },
      "execution_count": null,
      "outputs": [
        {
          "output_type": "stream",
          "name": "stdout",
          "text": [
            "Epoch 0. Time: 0.181, Train loss: 2.315\n",
            "Epoch 10. Time: 0.116, Train loss: 0.932\n",
            "Epoch 20. Time: 0.013, Train loss: 0.351\n",
            "Epoch 30. Time: 0.013, Train loss: 0.151\n",
            "Epoch 40. Time: 0.013, Train loss: 0.076\n",
            "Epoch 50. Time: 0.019, Train loss: 0.044\n",
            "Epoch 60. Time: 0.014, Train loss: 0.030\n",
            "Epoch 70. Time: 0.014, Train loss: 0.022\n",
            "Epoch 80. Time: 0.024, Train loss: 0.018\n",
            "Epoch 90. Time: 0.023, Train loss: 0.015\n",
            "Epoch 100. Time: 0.022, Train loss: 0.013\n",
            "Epoch 110. Time: 0.026, Train loss: 0.011\n",
            "Epoch 120. Time: 0.024, Train loss: 0.010\n",
            "Epoch 130. Time: 0.022, Train loss: 0.008\n",
            "Epoch 140. Time: 0.024, Train loss: 0.008\n",
            "Epoch 150. Time: 0.018, Train loss: 0.007\n",
            "Epoch 160. Time: 0.015, Train loss: 0.006\n",
            "Epoch 170. Time: 0.013, Train loss: 0.006\n",
            "Epoch 180. Time: 0.015, Train loss: 0.005\n",
            "Epoch 190. Time: 0.013, Train loss: 0.005\n",
            "Epoch 200. Time: 0.013, Train loss: 0.004\n",
            "Epoch 210. Time: 0.013, Train loss: 0.004\n",
            "Epoch 220. Time: 0.013, Train loss: 0.004\n",
            "Epoch 230. Time: 0.013, Train loss: 0.004\n",
            "Epoch 240. Time: 0.013, Train loss: 0.003\n",
            "Epoch 250. Time: 0.013, Train loss: 0.003\n",
            "Epoch 260. Time: 0.013, Train loss: 0.003\n",
            "Epoch 270. Time: 0.014, Train loss: 0.003\n",
            "Epoch 280. Time: 0.012, Train loss: 0.003\n",
            "Epoch 290. Time: 0.013, Train loss: 0.002\n"
          ]
        }
      ]
    },
    {
      "cell_type": "code",
      "source": [
        "model_1(X_1[0]).argmax(dim=-1)"
      ],
      "metadata": {
        "colab": {
          "base_uri": "https://localhost:8080/"
        },
        "id": "WAQMjM6Kd6j-",
        "outputId": "7d3d3e4f-0272-4785-f6f6-ee8061588417"
      },
      "execution_count": null,
      "outputs": [
        {
          "output_type": "execute_result",
          "data": {
            "text/plain": [
              "tensor([4, 0, 2, 3, 2, 4, 8, 9, 2, 8, 5, 0, 9, 0, 1, 0, 5, 6, 2, 6, 1, 5, 1, 0,\n",
              "        9])"
            ]
          },
          "metadata": {},
          "execution_count": 11
        }
      ]
    },
    {
      "cell_type": "code",
      "source": [
        "Y_1[0]"
      ],
      "metadata": {
        "colab": {
          "base_uri": "https://localhost:8080/"
        },
        "id": "XQWj52qZh6c2",
        "outputId": "4ed8c47b-d08a-490f-b9b9-883998d5251d"
      },
      "execution_count": null,
      "outputs": [
        {
          "output_type": "execute_result",
          "data": {
            "text/plain": [
              "tensor([4, 0, 2, 3, 2, 4, 8, 9, 2, 8, 5, 0, 9, 0, 1, 0, 5, 6, 2, 6, 1, 5, 1, 0,\n",
              "        9])"
            ]
          },
          "metadata": {},
          "execution_count": 12
        }
      ]
    },
    {
      "cell_type": "code",
      "source": [
        "train_loop(model_2, optimizer_2, criterion_1, X_2, Y_2)"
      ],
      "metadata": {
        "colab": {
          "base_uri": "https://localhost:8080/"
        },
        "id": "JTOPaSiSK8Yj",
        "outputId": "2f83f74f-6f33-42fa-d44e-003bfee75b97"
      },
      "execution_count": null,
      "outputs": [
        {
          "output_type": "stream",
          "name": "stdout",
          "text": [
            "Epoch 0. Time: 0.027, Train loss: 2.453\n",
            "Epoch 10. Time: 0.017, Train loss: 1.144\n",
            "Epoch 20. Time: 0.023, Train loss: 0.465\n",
            "Epoch 30. Time: 0.016, Train loss: 0.199\n",
            "Epoch 40. Time: 0.015, Train loss: 0.102\n",
            "Epoch 50. Time: 0.021, Train loss: 0.061\n",
            "Epoch 60. Time: 0.016, Train loss: 0.041\n",
            "Epoch 70. Time: 0.016, Train loss: 0.030\n",
            "Epoch 80. Time: 0.015, Train loss: 0.024\n",
            "Epoch 90. Time: 0.016, Train loss: 0.019\n",
            "Epoch 100. Time: 0.016, Train loss: 0.016\n",
            "Epoch 110. Time: 0.020, Train loss: 0.014\n",
            "Epoch 120. Time: 0.015, Train loss: 0.012\n",
            "Epoch 130. Time: 0.015, Train loss: 0.011\n",
            "Epoch 140. Time: 0.016, Train loss: 0.009\n",
            "Epoch 150. Time: 0.015, Train loss: 0.008\n",
            "Epoch 160. Time: 0.017, Train loss: 0.008\n",
            "Epoch 170. Time: 0.017, Train loss: 0.007\n",
            "Epoch 180. Time: 0.017, Train loss: 0.006\n",
            "Epoch 190. Time: 0.016, Train loss: 0.006\n",
            "Epoch 200. Time: 0.016, Train loss: 0.005\n",
            "Epoch 210. Time: 0.017, Train loss: 0.005\n",
            "Epoch 220. Time: 0.016, Train loss: 0.005\n",
            "Epoch 230. Time: 0.016, Train loss: 0.004\n",
            "Epoch 240. Time: 0.017, Train loss: 0.004\n",
            "Epoch 250. Time: 0.020, Train loss: 0.004\n",
            "Epoch 260. Time: 0.018, Train loss: 0.003\n",
            "Epoch 270. Time: 0.029, Train loss: 0.003\n",
            "Epoch 280. Time: 0.028, Train loss: 0.003\n",
            "Epoch 290. Time: 0.029, Train loss: 0.003\n"
          ]
        }
      ]
    },
    {
      "cell_type": "code",
      "source": [
        "Y_2[0]"
      ],
      "metadata": {
        "colab": {
          "base_uri": "https://localhost:8080/"
        },
        "id": "KZQBY9S7e5m_",
        "outputId": "27c08e35-eac7-4e32-a0e7-2f0e3357ac84"
      },
      "execution_count": null,
      "outputs": [
        {
          "output_type": "execute_result",
          "data": {
            "text/plain": [
              "tensor([5, 8, 8, 9, 7, 2, 8, 7, 2, 5, 7, 2, 3, 9, 9, 9, 1, 5, 1, 2, 7, 7, 7, 9,\n",
              "        6, 3, 1, 9, 1, 4, 1, 7, 9, 5, 1, 8, 4, 4, 7, 8, 6, 5, 1, 3, 3, 1, 1, 6,\n",
              "        5, 1, 8, 9, 9, 5, 4, 8, 2, 5, 2, 4, 9, 7, 1, 4, 6, 0, 9, 3, 7, 7, 8, 9,\n",
              "        6, 6, 5])"
            ]
          },
          "metadata": {},
          "execution_count": 14
        }
      ]
    },
    {
      "cell_type": "code",
      "source": [
        "model_2(X_2[0]).argmax(dim=-1)"
      ],
      "metadata": {
        "colab": {
          "base_uri": "https://localhost:8080/"
        },
        "id": "_77aZHVUiUc_",
        "outputId": "36752aeb-d8f4-4dce-c026-b2c1253e29c6"
      },
      "execution_count": null,
      "outputs": [
        {
          "output_type": "execute_result",
          "data": {
            "text/plain": [
              "tensor([5, 8, 8, 9, 7, 2, 8, 7, 2, 5, 7, 2, 3, 9, 9, 9, 1, 5, 1, 2, 7, 7, 7, 9,\n",
              "        6, 3, 1, 9, 1, 4, 1, 7, 9, 5, 1, 8, 4, 4, 7, 8, 6, 5, 1, 3, 3, 1, 1, 6,\n",
              "        5, 1, 8, 9, 9, 5, 4, 8, 2, 5, 2, 4, 9, 7, 1, 4, 6, 0, 9, 3, 7, 7, 8, 9,\n",
              "        6, 6, 5])"
            ]
          },
          "metadata": {},
          "execution_count": 15
        }
      ]
    },
    {
      "cell_type": "code",
      "source": [
        "train_loop(model_3, optimizer_3, criterion_1, X_3, Y_3)"
      ],
      "metadata": {
        "colab": {
          "base_uri": "https://localhost:8080/"
        },
        "id": "REsEeSHiK8bR",
        "outputId": "e09e468f-8962-4c7e-af12-bb8db5caf4a7"
      },
      "execution_count": null,
      "outputs": [
        {
          "output_type": "stream",
          "name": "stdout",
          "text": [
            "Epoch 0. Time: 0.036, Train loss: 2.361\n",
            "Epoch 10. Time: 0.038, Train loss: 1.127\n",
            "Epoch 20. Time: 0.035, Train loss: 0.465\n",
            "Epoch 30. Time: 0.020, Train loss: 0.202\n",
            "Epoch 40. Time: 0.025, Train loss: 0.111\n",
            "Epoch 50. Time: 0.019, Train loss: 0.074\n",
            "Epoch 60. Time: 0.019, Train loss: 0.056\n",
            "Epoch 70. Time: 0.019, Train loss: 0.045\n",
            "Epoch 80. Time: 0.018, Train loss: 0.036\n",
            "Epoch 90. Time: 0.019, Train loss: 0.029\n",
            "Epoch 100. Time: 0.019, Train loss: 0.024\n",
            "Epoch 110. Time: 0.020, Train loss: 0.020\n",
            "Epoch 120. Time: 0.023, Train loss: 0.017\n",
            "Epoch 130. Time: 0.018, Train loss: 0.014\n",
            "Epoch 140. Time: 0.022, Train loss: 0.012\n",
            "Epoch 150. Time: 0.019, Train loss: 0.011\n",
            "Epoch 160. Time: 0.020, Train loss: 0.009\n",
            "Epoch 170. Time: 0.019, Train loss: 0.008\n",
            "Epoch 180. Time: 0.019, Train loss: 0.007\n",
            "Epoch 190. Time: 0.020, Train loss: 0.007\n",
            "Epoch 200. Time: 0.023, Train loss: 0.006\n",
            "Epoch 210. Time: 0.025, Train loss: 0.006\n",
            "Epoch 220. Time: 0.022, Train loss: 0.005\n",
            "Epoch 230. Time: 0.021, Train loss: 0.005\n",
            "Epoch 240. Time: 0.020, Train loss: 0.004\n",
            "Epoch 250. Time: 0.019, Train loss: 0.004\n",
            "Epoch 260. Time: 0.024, Train loss: 0.004\n",
            "Epoch 270. Time: 0.023, Train loss: 0.004\n",
            "Epoch 280. Time: 0.020, Train loss: 0.003\n",
            "Epoch 290. Time: 0.020, Train loss: 0.003\n"
          ]
        }
      ]
    },
    {
      "cell_type": "code",
      "source": [
        "Y_3[0]"
      ],
      "metadata": {
        "colab": {
          "base_uri": "https://localhost:8080/"
        },
        "id": "41bUezyPjfaG",
        "outputId": "2bd3e85a-3d61-4f30-fd80-ca579428a7ee"
      },
      "execution_count": null,
      "outputs": [
        {
          "output_type": "execute_result",
          "data": {
            "text/plain": [
              "tensor([8, 2, 7, 6, 8, 2, 2, 5, 5, 6, 2, 3, 7, 6, 6, 2, 0, 0, 0, 8, 4, 6, 6, 0,\n",
              "        8, 3, 9, 9, 8, 9, 6, 3, 4, 5, 0, 0, 1, 5, 2, 7, 0, 0, 5, 9, 3, 8, 8, 0,\n",
              "        4, 4, 7, 8, 1, 0, 6, 2, 3, 0, 7, 6, 2, 1, 8, 9, 9, 2, 2, 4, 9, 3, 5, 9,\n",
              "        3, 4, 1, 5, 8, 7, 6, 2, 1, 3, 7, 3, 6, 8, 3, 5, 1, 0, 9, 6, 7, 5, 9, 5,\n",
              "        0, 4, 5, 9, 9, 2, 2, 0, 3, 7, 1, 8, 0, 8, 5, 6, 8, 8, 5, 9, 1, 2, 3, 3,\n",
              "        3, 0, 1, 4, 5])"
            ]
          },
          "metadata": {},
          "execution_count": 17
        }
      ]
    },
    {
      "cell_type": "code",
      "source": [
        "model_3(X_3[0]).argmax(dim=-1)"
      ],
      "metadata": {
        "colab": {
          "base_uri": "https://localhost:8080/"
        },
        "id": "vw8-P0hCjc9-",
        "outputId": "114c449a-74e2-4bc1-9a4f-61e539149cc6"
      },
      "execution_count": null,
      "outputs": [
        {
          "output_type": "execute_result",
          "data": {
            "text/plain": [
              "tensor([8, 2, 7, 6, 8, 2, 2, 5, 5, 6, 2, 3, 7, 6, 6, 2, 0, 0, 0, 8, 4, 6, 6, 0,\n",
              "        8, 3, 9, 9, 8, 9, 6, 3, 4, 5, 0, 0, 1, 5, 2, 7, 0, 0, 5, 9, 3, 8, 8, 0,\n",
              "        4, 4, 7, 8, 1, 0, 6, 2, 3, 0, 7, 6, 2, 1, 8, 9, 9, 2, 2, 4, 9, 3, 5, 9,\n",
              "        3, 4, 1, 5, 8, 7, 6, 2, 1, 3, 7, 3, 6, 8, 3, 5, 1, 0, 9, 6, 7, 5, 9, 5,\n",
              "        0, 4, 5, 9, 9, 2, 2, 0, 3, 7, 1, 8, 0, 8, 5, 6, 8, 8, 5, 9, 1, 2, 3, 3,\n",
              "        3, 0, 1, 4, 5])"
            ]
          },
          "metadata": {},
          "execution_count": 18
        }
      ]
    },
    {
      "cell_type": "markdown",
      "source": [
        "## GRU\n",
        "Для проверки будем пересоздавать x и y заного рандомно и превращать в тензор"
      ],
      "metadata": {
        "id": "qYs-atJHJbZ6"
      }
    },
    {
      "cell_type": "code",
      "source": [
        "model_1_g = NeuralNetwork(torch.nn.GRU, 10, 64, 128)\n",
        "model_2_g = NeuralNetwork(torch.nn.GRU, 10, 64, 128)\n",
        "model_3_g = NeuralNetwork(torch.nn.GRU, 10, 64, 128)"
      ],
      "metadata": {
        "id": "83qek9vviuD9"
      },
      "execution_count": null,
      "outputs": []
    },
    {
      "cell_type": "code",
      "source": [
        "criterion_2 = torch.nn.CrossEntropyLoss()\n",
        "optimizer_1 = torch.optim.Adam(model_1_g.parameters(), lr = 1e-3)\n",
        "optimizer_2 = torch.optim.Adam(model_2_g.parameters(), lr = 1e-3)\n",
        "optimizer_3 = torch.optim.Adam(model_3_g.parameters(), lr = 1e-3)"
      ],
      "metadata": {
        "id": "Xm9rDNMgLP9s"
      },
      "execution_count": null,
      "outputs": []
    },
    {
      "cell_type": "code",
      "source": [
        "train_loop(model_1_g, optimizer_1, criterion_2, X_1, Y_1)"
      ],
      "metadata": {
        "colab": {
          "base_uri": "https://localhost:8080/"
        },
        "id": "ZVfnXl_nLV8L",
        "outputId": "7509c805-dc37-49c0-aad4-49a32c14dbf3"
      },
      "execution_count": null,
      "outputs": [
        {
          "output_type": "stream",
          "name": "stdout",
          "text": [
            "Epoch 0. Time: 0.023, Train loss: 2.412\n",
            "Epoch 10. Time: 0.018, Train loss: 1.478\n",
            "Epoch 20. Time: 0.130, Train loss: 0.761\n",
            "Epoch 30. Time: 0.020, Train loss: 0.326\n",
            "Epoch 40. Time: 0.017, Train loss: 0.148\n",
            "Epoch 50. Time: 0.017, Train loss: 0.076\n",
            "Epoch 60. Time: 0.016, Train loss: 0.042\n",
            "Epoch 70. Time: 0.018, Train loss: 0.026\n",
            "Epoch 80. Time: 0.028, Train loss: 0.018\n",
            "Epoch 90. Time: 0.153, Train loss: 0.014\n",
            "Epoch 100. Time: 0.027, Train loss: 0.012\n",
            "Epoch 110. Time: 0.029, Train loss: 0.010\n",
            "Epoch 120. Time: 0.029, Train loss: 0.008\n",
            "Epoch 130. Time: 0.028, Train loss: 0.007\n",
            "Epoch 140. Time: 0.131, Train loss: 0.006\n",
            "Epoch 150. Time: 0.016, Train loss: 0.006\n",
            "Epoch 160. Time: 0.016, Train loss: 0.005\n",
            "Epoch 170. Time: 0.017, Train loss: 0.005\n",
            "Epoch 180. Time: 0.016, Train loss: 0.004\n",
            "Epoch 190. Time: 0.126, Train loss: 0.004\n",
            "Epoch 200. Time: 0.015, Train loss: 0.004\n",
            "Epoch 210. Time: 0.016, Train loss: 0.003\n",
            "Epoch 220. Time: 0.018, Train loss: 0.003\n",
            "Epoch 230. Time: 0.017, Train loss: 0.003\n",
            "Epoch 240. Time: 0.118, Train loss: 0.003\n",
            "Epoch 250. Time: 0.015, Train loss: 0.003\n",
            "Epoch 260. Time: 0.016, Train loss: 0.002\n",
            "Epoch 270. Time: 0.016, Train loss: 0.002\n",
            "Epoch 280. Time: 0.016, Train loss: 0.002\n",
            "Epoch 290. Time: 0.117, Train loss: 0.002\n"
          ]
        }
      ]
    },
    {
      "cell_type": "code",
      "source": [
        "Y_1[0]"
      ],
      "metadata": {
        "colab": {
          "base_uri": "https://localhost:8080/"
        },
        "id": "qZloynYojnwO",
        "outputId": "26322a0a-1ab0-4a8d-a338-f67814b1ff66"
      },
      "execution_count": null,
      "outputs": [
        {
          "output_type": "execute_result",
          "data": {
            "text/plain": [
              "tensor([4, 0, 2, 3, 2, 4, 8, 9, 2, 8, 5, 0, 9, 0, 1, 0, 5, 6, 2, 6, 1, 5, 1, 0,\n",
              "        9])"
            ]
          },
          "metadata": {},
          "execution_count": 22
        }
      ]
    },
    {
      "cell_type": "code",
      "source": [
        "model_1_g(X_1[0]).argmax(dim=-1)"
      ],
      "metadata": {
        "colab": {
          "base_uri": "https://localhost:8080/"
        },
        "id": "ndwf2l5TjnM3",
        "outputId": "bfb0470b-e90a-4361-a3e7-5ab4577bd952"
      },
      "execution_count": null,
      "outputs": [
        {
          "output_type": "execute_result",
          "data": {
            "text/plain": [
              "tensor([4, 0, 2, 3, 2, 4, 8, 9, 2, 8, 5, 0, 9, 0, 1, 0, 5, 6, 2, 6, 1, 5, 1, 0,\n",
              "        9])"
            ]
          },
          "metadata": {},
          "execution_count": 23
        }
      ]
    },
    {
      "cell_type": "code",
      "source": [
        "train_loop(model_2_g, optimizer_2, criterion_2, X_2, Y_2)"
      ],
      "metadata": {
        "colab": {
          "base_uri": "https://localhost:8080/"
        },
        "id": "TSf953xqLYAb",
        "outputId": "b1f947f3-96ef-4b6c-deaf-b4c2dea9fc04"
      },
      "execution_count": null,
      "outputs": [
        {
          "output_type": "stream",
          "name": "stdout",
          "text": [
            "Epoch 0. Time: 0.029, Train loss: 2.337\n",
            "Epoch 10. Time: 0.026, Train loss: 1.494\n",
            "Epoch 20. Time: 0.026, Train loss: 0.791\n",
            "Epoch 30. Time: 0.025, Train loss: 0.325\n",
            "Epoch 40. Time: 0.132, Train loss: 0.138\n",
            "Epoch 50. Time: 0.026, Train loss: 0.073\n",
            "Epoch 60. Time: 0.027, Train loss: 0.046\n",
            "Epoch 70. Time: 0.027, Train loss: 0.031\n",
            "Epoch 80. Time: 0.025, Train loss: 0.022\n",
            "Epoch 90. Time: 0.126, Train loss: 0.017\n",
            "Epoch 100. Time: 0.025, Train loss: 0.014\n",
            "Epoch 110. Time: 0.026, Train loss: 0.011\n",
            "Epoch 120. Time: 0.032, Train loss: 0.010\n",
            "Epoch 130. Time: 0.027, Train loss: 0.008\n",
            "Epoch 140. Time: 0.125, Train loss: 0.007\n",
            "Epoch 150. Time: 0.030, Train loss: 0.007\n",
            "Epoch 160. Time: 0.033, Train loss: 0.006\n",
            "Epoch 170. Time: 0.046, Train loss: 0.005\n",
            "Epoch 180. Time: 0.043, Train loss: 0.005\n",
            "Epoch 190. Time: 0.168, Train loss: 0.004\n",
            "Epoch 200. Time: 0.042, Train loss: 0.004\n",
            "Epoch 210. Time: 0.025, Train loss: 0.004\n",
            "Epoch 220. Time: 0.028, Train loss: 0.003\n",
            "Epoch 230. Time: 0.026, Train loss: 0.003\n",
            "Epoch 240. Time: 0.129, Train loss: 0.003\n",
            "Epoch 250. Time: 0.049, Train loss: 0.003\n",
            "Epoch 260. Time: 0.026, Train loss: 0.003\n",
            "Epoch 270. Time: 0.026, Train loss: 0.002\n",
            "Epoch 280. Time: 0.025, Train loss: 0.002\n",
            "Epoch 290. Time: 0.130, Train loss: 0.002\n"
          ]
        }
      ]
    },
    {
      "cell_type": "code",
      "source": [
        "Y_2[0]"
      ],
      "metadata": {
        "colab": {
          "base_uri": "https://localhost:8080/"
        },
        "id": "NUS1MWFtjs8O",
        "outputId": "9eb303ee-60fb-410d-8090-b00951645ed8"
      },
      "execution_count": null,
      "outputs": [
        {
          "output_type": "execute_result",
          "data": {
            "text/plain": [
              "tensor([5, 8, 8, 9, 7, 2, 8, 7, 2, 5, 7, 2, 3, 9, 9, 9, 1, 5, 1, 2, 7, 7, 7, 9,\n",
              "        6, 3, 1, 9, 1, 4, 1, 7, 9, 5, 1, 8, 4, 4, 7, 8, 6, 5, 1, 3, 3, 1, 1, 6,\n",
              "        5, 1, 8, 9, 9, 5, 4, 8, 2, 5, 2, 4, 9, 7, 1, 4, 6, 0, 9, 3, 7, 7, 8, 9,\n",
              "        6, 6, 5])"
            ]
          },
          "metadata": {},
          "execution_count": 25
        }
      ]
    },
    {
      "cell_type": "code",
      "source": [
        "model_2_g(X_2[0]).argmax(dim=-1)"
      ],
      "metadata": {
        "colab": {
          "base_uri": "https://localhost:8080/"
        },
        "id": "tnSUB2nxjtMg",
        "outputId": "3af302db-bd95-45f4-b8f1-b8f4ff26dc1d"
      },
      "execution_count": null,
      "outputs": [
        {
          "output_type": "execute_result",
          "data": {
            "text/plain": [
              "tensor([5, 8, 8, 9, 7, 2, 8, 7, 2, 5, 7, 2, 3, 9, 9, 9, 1, 5, 1, 2, 7, 7, 7, 9,\n",
              "        6, 3, 1, 9, 1, 4, 1, 7, 9, 5, 1, 8, 4, 4, 7, 8, 6, 5, 1, 3, 3, 1, 1, 6,\n",
              "        5, 1, 8, 9, 9, 5, 4, 8, 2, 5, 2, 4, 9, 7, 1, 4, 6, 0, 9, 3, 7, 7, 8, 9,\n",
              "        6, 6, 5])"
            ]
          },
          "metadata": {},
          "execution_count": 26
        }
      ]
    },
    {
      "cell_type": "code",
      "source": [
        "train_loop(model_3_g, optimizer_3, criterion_2, X_3, Y_3)"
      ],
      "metadata": {
        "colab": {
          "base_uri": "https://localhost:8080/"
        },
        "id": "XHbEszHLLYMM",
        "outputId": "65d01b36-ce45-4331-b9ca-ba9c52800d0f"
      },
      "execution_count": null,
      "outputs": [
        {
          "output_type": "stream",
          "name": "stdout",
          "text": [
            "Epoch 0. Time: 0.039, Train loss: 2.348\n",
            "Epoch 10. Time: 0.053, Train loss: 1.564\n",
            "Epoch 20. Time: 0.039, Train loss: 0.889\n",
            "Epoch 30. Time: 0.041, Train loss: 0.393\n",
            "Epoch 40. Time: 0.143, Train loss: 0.158\n",
            "Epoch 50. Time: 0.037, Train loss: 0.081\n",
            "Epoch 60. Time: 0.035, Train loss: 0.053\n",
            "Epoch 70. Time: 0.036, Train loss: 0.040\n",
            "Epoch 80. Time: 0.037, Train loss: 0.031\n",
            "Epoch 90. Time: 0.137, Train loss: 0.024\n",
            "Epoch 100. Time: 0.037, Train loss: 0.019\n",
            "Epoch 110. Time: 0.039, Train loss: 0.015\n",
            "Epoch 120. Time: 0.039, Train loss: 0.013\n",
            "Epoch 130. Time: 0.037, Train loss: 0.010\n",
            "Epoch 140. Time: 0.205, Train loss: 0.009\n",
            "Epoch 150. Time: 0.060, Train loss: 0.008\n",
            "Epoch 160. Time: 0.059, Train loss: 0.007\n",
            "Epoch 170. Time: 0.036, Train loss: 0.006\n",
            "Epoch 180. Time: 0.035, Train loss: 0.005\n",
            "Epoch 190. Time: 0.140, Train loss: 0.005\n",
            "Epoch 200. Time: 0.035, Train loss: 0.004\n",
            "Epoch 210. Time: 0.037, Train loss: 0.004\n",
            "Epoch 220. Time: 0.042, Train loss: 0.004\n",
            "Epoch 230. Time: 0.036, Train loss: 0.003\n",
            "Epoch 240. Time: 0.148, Train loss: 0.003\n",
            "Epoch 250. Time: 0.035, Train loss: 0.003\n",
            "Epoch 260. Time: 0.037, Train loss: 0.003\n",
            "Epoch 270. Time: 0.045, Train loss: 0.003\n",
            "Epoch 280. Time: 0.041, Train loss: 0.002\n",
            "Epoch 290. Time: 0.136, Train loss: 0.002\n"
          ]
        }
      ]
    },
    {
      "cell_type": "code",
      "source": [
        "Y_3[0]"
      ],
      "metadata": {
        "colab": {
          "base_uri": "https://localhost:8080/"
        },
        "id": "wlzOcnCBjwlf",
        "outputId": "be54b2ec-a106-4426-ef1b-48468a49db04"
      },
      "execution_count": null,
      "outputs": [
        {
          "output_type": "execute_result",
          "data": {
            "text/plain": [
              "tensor([8, 2, 7, 6, 8, 2, 2, 5, 5, 6, 2, 3, 7, 6, 6, 2, 0, 0, 0, 8, 4, 6, 6, 0,\n",
              "        8, 3, 9, 9, 8, 9, 6, 3, 4, 5, 0, 0, 1, 5, 2, 7, 0, 0, 5, 9, 3, 8, 8, 0,\n",
              "        4, 4, 7, 8, 1, 0, 6, 2, 3, 0, 7, 6, 2, 1, 8, 9, 9, 2, 2, 4, 9, 3, 5, 9,\n",
              "        3, 4, 1, 5, 8, 7, 6, 2, 1, 3, 7, 3, 6, 8, 3, 5, 1, 0, 9, 6, 7, 5, 9, 5,\n",
              "        0, 4, 5, 9, 9, 2, 2, 0, 3, 7, 1, 8, 0, 8, 5, 6, 8, 8, 5, 9, 1, 2, 3, 3,\n",
              "        3, 0, 1, 4, 5])"
            ]
          },
          "metadata": {},
          "execution_count": 28
        }
      ]
    },
    {
      "cell_type": "code",
      "source": [
        "model_3_g(X_3[0]).argmax(dim=-1)"
      ],
      "metadata": {
        "colab": {
          "base_uri": "https://localhost:8080/"
        },
        "id": "dg8fiUn7jw8v",
        "outputId": "897b2a7d-8267-4901-9637-3489e7fe02d1"
      },
      "execution_count": null,
      "outputs": [
        {
          "output_type": "execute_result",
          "data": {
            "text/plain": [
              "tensor([8, 2, 7, 6, 8, 2, 2, 5, 5, 6, 2, 3, 7, 6, 6, 2, 0, 0, 0, 8, 4, 6, 6, 0,\n",
              "        8, 3, 9, 9, 8, 9, 6, 3, 4, 5, 0, 0, 1, 5, 2, 7, 0, 0, 5, 9, 3, 8, 8, 0,\n",
              "        4, 4, 7, 8, 1, 0, 6, 2, 3, 0, 7, 6, 2, 1, 8, 9, 9, 2, 2, 4, 9, 3, 5, 9,\n",
              "        3, 4, 1, 5, 8, 7, 6, 2, 1, 3, 7, 3, 6, 8, 3, 5, 1, 0, 9, 6, 7, 5, 9, 5,\n",
              "        0, 4, 5, 9, 9, 2, 2, 0, 3, 7, 1, 8, 0, 8, 5, 6, 8, 8, 5, 9, 1, 2, 3, 3,\n",
              "        3, 0, 1, 4, 5])"
            ]
          },
          "metadata": {},
          "execution_count": 29
        }
      ]
    },
    {
      "cell_type": "markdown",
      "source": [
        "## LSTM\n",
        "Для проверки будем пересоздавать x и y заного рандомно и превращать в тензор"
      ],
      "metadata": {
        "id": "Oq-nq5UpZOd2"
      }
    },
    {
      "cell_type": "code",
      "source": [
        "model_1_l = NeuralNetwork(torch.nn.LSTM, 10, 64, 128)\n",
        "model_2_l = NeuralNetwork(torch.nn.LSTM, 10, 64, 128)\n",
        "model_3_l = NeuralNetwork(torch.nn.LSTM, 10, 64, 128)"
      ],
      "metadata": {
        "id": "yFw0XqOjT7lJ"
      },
      "execution_count": null,
      "outputs": []
    },
    {
      "cell_type": "code",
      "source": [
        "criterion_3 = torch.nn.CrossEntropyLoss()\n",
        "optimizer_1 = torch.optim.Adam(model_1_l.parameters(), lr = 1e-3)\n",
        "optimizer_2 = torch.optim.Adam(model_2_l.parameters(), lr = 1e-3)\n",
        "optimizer_3 = torch.optim.Adam(model_3_l.parameters(), lr = 1e-3)"
      ],
      "metadata": {
        "id": "Vwbj0SY4ZQ_X"
      },
      "execution_count": null,
      "outputs": []
    },
    {
      "cell_type": "code",
      "source": [
        "train_loop(model_1_l, optimizer_1, criterion_3, X_1, Y_1)"
      ],
      "metadata": {
        "colab": {
          "base_uri": "https://localhost:8080/"
        },
        "id": "4-LEaoUpZYW0",
        "outputId": "0bde81e2-8e80-40a8-8d45-cc0a0cd19ce0"
      },
      "execution_count": null,
      "outputs": [
        {
          "output_type": "stream",
          "name": "stdout",
          "text": [
            "Epoch 0. Time: 0.098, Train loss: 2.307\n",
            "Epoch 10. Time: 0.013, Train loss: 1.756\n",
            "Epoch 20. Time: 0.013, Train loss: 1.099\n",
            "Epoch 30. Time: 0.014, Train loss: 0.553\n",
            "Epoch 40. Time: 0.016, Train loss: 0.265\n",
            "Epoch 50. Time: 0.013, Train loss: 0.143\n",
            "Epoch 60. Time: 0.013, Train loss: 0.085\n",
            "Epoch 70. Time: 0.013, Train loss: 0.053\n",
            "Epoch 80. Time: 0.013, Train loss: 0.035\n",
            "Epoch 90. Time: 0.015, Train loss: 0.025\n",
            "Epoch 100. Time: 0.012, Train loss: 0.020\n",
            "Epoch 110. Time: 0.013, Train loss: 0.016\n",
            "Epoch 120. Time: 0.013, Train loss: 0.013\n",
            "Epoch 130. Time: 0.014, Train loss: 0.011\n",
            "Epoch 140. Time: 0.015, Train loss: 0.010\n",
            "Epoch 150. Time: 0.012, Train loss: 0.009\n",
            "Epoch 160. Time: 0.013, Train loss: 0.008\n",
            "Epoch 170. Time: 0.014, Train loss: 0.007\n",
            "Epoch 180. Time: 0.022, Train loss: 0.006\n",
            "Epoch 190. Time: 0.025, Train loss: 0.006\n",
            "Epoch 200. Time: 0.022, Train loss: 0.005\n",
            "Epoch 210. Time: 0.028, Train loss: 0.005\n",
            "Epoch 220. Time: 0.023, Train loss: 0.004\n",
            "Epoch 230. Time: 0.022, Train loss: 0.004\n",
            "Epoch 240. Time: 0.014, Train loss: 0.004\n",
            "Epoch 250. Time: 0.012, Train loss: 0.004\n",
            "Epoch 260. Time: 0.014, Train loss: 0.003\n",
            "Epoch 270. Time: 0.014, Train loss: 0.003\n",
            "Epoch 280. Time: 0.012, Train loss: 0.003\n",
            "Epoch 290. Time: 0.015, Train loss: 0.003\n"
          ]
        }
      ]
    },
    {
      "cell_type": "code",
      "source": [
        "Y_1[0]"
      ],
      "metadata": {
        "colab": {
          "base_uri": "https://localhost:8080/"
        },
        "id": "xyUIf6--j12n",
        "outputId": "8f8e69a9-a0ac-4538-e716-703bce744e6c"
      },
      "execution_count": null,
      "outputs": [
        {
          "output_type": "execute_result",
          "data": {
            "text/plain": [
              "tensor([4, 0, 2, 3, 2, 4, 8, 9, 2, 8, 5, 0, 9, 0, 1, 0, 5, 6, 2, 6, 1, 5, 1, 0,\n",
              "        9])"
            ]
          },
          "metadata": {},
          "execution_count": 33
        }
      ]
    },
    {
      "cell_type": "code",
      "source": [
        "model_1_l(X_1[0]).argmax(dim=-1)"
      ],
      "metadata": {
        "colab": {
          "base_uri": "https://localhost:8080/"
        },
        "id": "OjJ8F9s7j142",
        "outputId": "a07bf684-52cc-4277-f016-ac9c7e737a7c"
      },
      "execution_count": null,
      "outputs": [
        {
          "output_type": "execute_result",
          "data": {
            "text/plain": [
              "tensor([4, 0, 2, 3, 2, 4, 8, 9, 2, 8, 5, 0, 9, 0, 1, 0, 5, 6, 2, 6, 1, 5, 1, 0,\n",
              "        9])"
            ]
          },
          "metadata": {},
          "execution_count": 34
        }
      ]
    },
    {
      "cell_type": "code",
      "source": [
        "train_loop(model_2_l, optimizer_2, criterion_3, X_2, Y_2)"
      ],
      "metadata": {
        "colab": {
          "base_uri": "https://localhost:8080/"
        },
        "id": "mOXO5VVoZb40",
        "outputId": "a2468191-1b15-4130-c7be-fcaaeb53a7d7"
      },
      "execution_count": null,
      "outputs": [
        {
          "output_type": "stream",
          "name": "stdout",
          "text": [
            "Epoch 0. Time: 0.021, Train loss: 2.308\n",
            "Epoch 10. Time: 0.014, Train loss: 1.805\n",
            "Epoch 20. Time: 0.014, Train loss: 1.212\n",
            "Epoch 30. Time: 0.017, Train loss: 0.643\n",
            "Epoch 40. Time: 0.015, Train loss: 0.296\n",
            "Epoch 50. Time: 0.014, Train loss: 0.149\n",
            "Epoch 60. Time: 0.014, Train loss: 0.089\n",
            "Epoch 70. Time: 0.013, Train loss: 0.061\n",
            "Epoch 80. Time: 0.013, Train loss: 0.045\n",
            "Epoch 90. Time: 0.016, Train loss: 0.035\n",
            "Epoch 100. Time: 0.013, Train loss: 0.027\n",
            "Epoch 110. Time: 0.014, Train loss: 0.022\n",
            "Epoch 120. Time: 0.022, Train loss: 0.018\n",
            "Epoch 130. Time: 0.015, Train loss: 0.015\n",
            "Epoch 140. Time: 0.018, Train loss: 0.013\n",
            "Epoch 150. Time: 0.013, Train loss: 0.011\n",
            "Epoch 160. Time: 0.015, Train loss: 0.010\n",
            "Epoch 170. Time: 0.015, Train loss: 0.009\n",
            "Epoch 180. Time: 0.013, Train loss: 0.008\n",
            "Epoch 190. Time: 0.015, Train loss: 0.007\n",
            "Epoch 200. Time: 0.013, Train loss: 0.006\n",
            "Epoch 210. Time: 0.015, Train loss: 0.006\n",
            "Epoch 220. Time: 0.013, Train loss: 0.005\n",
            "Epoch 230. Time: 0.013, Train loss: 0.005\n",
            "Epoch 240. Time: 0.016, Train loss: 0.004\n",
            "Epoch 250. Time: 0.017, Train loss: 0.004\n",
            "Epoch 260. Time: 0.014, Train loss: 0.004\n",
            "Epoch 270. Time: 0.014, Train loss: 0.004\n",
            "Epoch 280. Time: 0.014, Train loss: 0.003\n",
            "Epoch 290. Time: 0.015, Train loss: 0.003\n"
          ]
        }
      ]
    },
    {
      "cell_type": "code",
      "source": [
        "Y_2[0]"
      ],
      "metadata": {
        "colab": {
          "base_uri": "https://localhost:8080/"
        },
        "id": "d949LHIVj5me",
        "outputId": "34bcbad9-cfc6-42cb-9b37-264821d8bb0a"
      },
      "execution_count": null,
      "outputs": [
        {
          "output_type": "execute_result",
          "data": {
            "text/plain": [
              "tensor([5, 8, 8, 9, 7, 2, 8, 7, 2, 5, 7, 2, 3, 9, 9, 9, 1, 5, 1, 2, 7, 7, 7, 9,\n",
              "        6, 3, 1, 9, 1, 4, 1, 7, 9, 5, 1, 8, 4, 4, 7, 8, 6, 5, 1, 3, 3, 1, 1, 6,\n",
              "        5, 1, 8, 9, 9, 5, 4, 8, 2, 5, 2, 4, 9, 7, 1, 4, 6, 0, 9, 3, 7, 7, 8, 9,\n",
              "        6, 6, 5])"
            ]
          },
          "metadata": {},
          "execution_count": 36
        }
      ]
    },
    {
      "cell_type": "code",
      "source": [
        "model_2_l(X_2[0]).argmax(dim=-1)"
      ],
      "metadata": {
        "colab": {
          "base_uri": "https://localhost:8080/"
        },
        "id": "Ro6XaNW9j5ot",
        "outputId": "ea2f4a8f-5759-420e-e68e-3c8508a32efb"
      },
      "execution_count": null,
      "outputs": [
        {
          "output_type": "execute_result",
          "data": {
            "text/plain": [
              "tensor([5, 8, 8, 9, 7, 2, 8, 7, 2, 5, 7, 2, 3, 9, 9, 9, 1, 5, 1, 2, 7, 7, 7, 9,\n",
              "        6, 3, 1, 9, 1, 4, 1, 7, 9, 5, 1, 8, 4, 4, 7, 8, 6, 5, 1, 3, 3, 1, 1, 6,\n",
              "        5, 1, 8, 9, 9, 5, 4, 8, 2, 5, 2, 4, 9, 7, 1, 4, 6, 0, 9, 3, 7, 7, 8, 9,\n",
              "        6, 6, 5])"
            ]
          },
          "metadata": {},
          "execution_count": 37
        }
      ]
    },
    {
      "cell_type": "code",
      "source": [
        "train_loop(model_3_l, optimizer_3, criterion_3, X_3, Y_3)"
      ],
      "metadata": {
        "colab": {
          "base_uri": "https://localhost:8080/"
        },
        "id": "b6Mt71Hua9uw",
        "outputId": "f08473c9-c181-48c8-cf67-005222413059"
      },
      "execution_count": null,
      "outputs": [
        {
          "output_type": "stream",
          "name": "stdout",
          "text": [
            "Epoch 0. Time: 0.028, Train loss: 2.309\n",
            "Epoch 10. Time: 0.014, Train loss: 1.837\n",
            "Epoch 20. Time: 0.015, Train loss: 1.250\n",
            "Epoch 30. Time: 0.014, Train loss: 0.646\n",
            "Epoch 40. Time: 0.026, Train loss: 0.274\n",
            "Epoch 50. Time: 0.014, Train loss: 0.130\n",
            "Epoch 60. Time: 0.016, Train loss: 0.078\n",
            "Epoch 70. Time: 0.015, Train loss: 0.056\n",
            "Epoch 80. Time: 0.027, Train loss: 0.043\n",
            "Epoch 90. Time: 0.031, Train loss: 0.035\n",
            "Epoch 100. Time: 0.026, Train loss: 0.028\n",
            "Epoch 110. Time: 0.026, Train loss: 0.024\n",
            "Epoch 120. Time: 0.027, Train loss: 0.020\n",
            "Epoch 130. Time: 0.026, Train loss: 0.017\n",
            "Epoch 140. Time: 0.015, Train loss: 0.014\n",
            "Epoch 150. Time: 0.014, Train loss: 0.013\n",
            "Epoch 160. Time: 0.014, Train loss: 0.011\n",
            "Epoch 170. Time: 0.015, Train loss: 0.010\n",
            "Epoch 180. Time: 0.016, Train loss: 0.009\n",
            "Epoch 190. Time: 0.016, Train loss: 0.008\n",
            "Epoch 200. Time: 0.015, Train loss: 0.007\n",
            "Epoch 210. Time: 0.015, Train loss: 0.006\n",
            "Epoch 220. Time: 0.020, Train loss: 0.006\n",
            "Epoch 230. Time: 0.015, Train loss: 0.005\n",
            "Epoch 240. Time: 0.016, Train loss: 0.005\n",
            "Epoch 250. Time: 0.014, Train loss: 0.005\n",
            "Epoch 260. Time: 0.016, Train loss: 0.004\n",
            "Epoch 270. Time: 0.015, Train loss: 0.004\n",
            "Epoch 280. Time: 0.014, Train loss: 0.004\n",
            "Epoch 290. Time: 0.016, Train loss: 0.003\n"
          ]
        }
      ]
    },
    {
      "cell_type": "code",
      "source": [
        "Y_3[0]"
      ],
      "metadata": {
        "colab": {
          "base_uri": "https://localhost:8080/"
        },
        "id": "PJz-1qRzij0d",
        "outputId": "db017329-b7b2-4e83-93e9-048eded7d163"
      },
      "execution_count": null,
      "outputs": [
        {
          "output_type": "execute_result",
          "data": {
            "text/plain": [
              "tensor([8, 2, 7, 6, 8, 2, 2, 5, 5, 6, 2, 3, 7, 6, 6, 2, 0, 0, 0, 8, 4, 6, 6, 0,\n",
              "        8, 3, 9, 9, 8, 9, 6, 3, 4, 5, 0, 0, 1, 5, 2, 7, 0, 0, 5, 9, 3, 8, 8, 0,\n",
              "        4, 4, 7, 8, 1, 0, 6, 2, 3, 0, 7, 6, 2, 1, 8, 9, 9, 2, 2, 4, 9, 3, 5, 9,\n",
              "        3, 4, 1, 5, 8, 7, 6, 2, 1, 3, 7, 3, 6, 8, 3, 5, 1, 0, 9, 6, 7, 5, 9, 5,\n",
              "        0, 4, 5, 9, 9, 2, 2, 0, 3, 7, 1, 8, 0, 8, 5, 6, 8, 8, 5, 9, 1, 2, 3, 3,\n",
              "        3, 0, 1, 4, 5])"
            ]
          },
          "metadata": {},
          "execution_count": 39
        }
      ]
    },
    {
      "cell_type": "code",
      "source": [
        "model_3_l(X_3[0]).argmax(dim=-1)"
      ],
      "metadata": {
        "colab": {
          "base_uri": "https://localhost:8080/"
        },
        "id": "Osef2H8zj9pG",
        "outputId": "c48aeb11-f925-45d2-8d58-c3bd34eb3d08"
      },
      "execution_count": null,
      "outputs": [
        {
          "output_type": "execute_result",
          "data": {
            "text/plain": [
              "tensor([8, 2, 7, 6, 8, 2, 2, 5, 5, 6, 2, 3, 7, 6, 6, 2, 0, 0, 0, 8, 4, 6, 6, 0,\n",
              "        8, 3, 9, 9, 8, 9, 6, 3, 4, 5, 0, 0, 1, 5, 2, 7, 0, 0, 5, 9, 3, 8, 8, 0,\n",
              "        4, 4, 7, 8, 1, 0, 6, 2, 3, 0, 7, 6, 2, 1, 8, 9, 9, 2, 2, 4, 9, 3, 5, 9,\n",
              "        3, 4, 1, 5, 8, 7, 6, 2, 1, 3, 7, 3, 6, 8, 3, 5, 1, 0, 9, 6, 7, 5, 9, 5,\n",
              "        0, 4, 5, 9, 9, 2, 2, 0, 3, 7, 1, 8, 0, 8, 5, 6, 8, 8, 5, 9, 1, 2, 3, 3,\n",
              "        3, 0, 1, 4, 5])"
            ]
          },
          "metadata": {},
          "execution_count": 40
        }
      ]
    },
    {
      "cell_type": "code",
      "source": [],
      "metadata": {
        "id": "wYEGhO2gkBs-"
      },
      "execution_count": null,
      "outputs": []
    }
  ]
}